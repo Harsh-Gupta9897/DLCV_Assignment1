{
 "cells": [
  {
   "cell_type": "markdown",
   "metadata": {
    "colab_type": "text",
    "id": "KE1Rct79pdT1"
   },
   "source": [
    "# DLCV Assignment 1\n",
    "\n",
    "**Due Date: 17/02/2023 11:59PM IST**\n",
    "\n",
    "**Name:** \n",
    "Harsh Gupta\n",
    "\n",
    "**Sr. No.:**\n",
    "20961\n",
    "\n",
    "In this assignment, we will cover the following topics:\n",
    "\n",
    "1) Training a simple Linear Model \n",
    "\n",
    "2) Implementing Modules with Backprop functionality\n",
    "\n",
    "3) Implementing Convolution Module on Numpy\n",
    "\n",
    "\n",
    "It is crucial to get down to the nitty gritty of the code to implement all of these. No external packages (like caffe,pytorch etc), which directly give functions for these steps, are to be used. "
   ]
  },
  {
   "cell_type": "markdown",
   "metadata": {
    "colab_type": "text",
    "id": "Emb3Bo_NpdUl"
   },
   "source": [
    "# Training a simple Linear Model\n",
    "\n",
    "In this section, you will write the code to train a Linear Model. The goal is to classify an input $X_i$ of size $n$ into one of $m$ classes. For this, you need to consider the following:\n",
    "\n",
    "1)  **Weight Matrix** $W_{n\\times m}$: The Weights are multipled with the input $X_i$ (vector of size $n$), to find $m$ scores $S_m$ for the $m$ classes.\n",
    "\n",
    "2)  **The Loss function**:   \n",
    "  * The Cross Entropy Loss: By interpreting the scores as unnormalized log probabilities for each class, this loss tries to measure dissatisfaction with the scores in terms of the log probability of the right class:\n",
    "\n",
    "$$\n",
    "L_i = -\\log\\left(\\frac{e^{f_{y_i}}}{ \\sum_j e^{f_j} }\\right) \\hspace{0.5in} \\text{or equivalently} \\hspace{0.5in} L_i = -f_{y_i} + \\log\\sum_j e^{f_j}\n",
    "$$\n",
    "\n",
    "where $f_{ y_i }$ is the $y_i$-th element of the output of $W^T  X_i$\n",
    "\n",
    "3) **A Regularization term**: In addition to the loss, you need a Regularization term to lead to a more distributed (in case of $L_2$) or sparse (in case of $L_1$) learning of the weights. For example, with $L_2$ regularization, the loss has the following additional term:\n",
    "\n",
    "$$\n",
    "R(W) = \\sum_k\\sum_l W_{k,l}^2  \n",
    "$$\n",
    "\n",
    "Thus the total loss has the form:\n",
    "$$\n",
    "L =  \\underbrace{ \\frac{1}{N} \\sum_i L_i }_\\text{data loss} + \\underbrace{ \\lambda R(W) }_\\text{regularization loss} \\\\\\\\\n",
    "$$\n",
    "\n",
    "4) **An Optimization Procedure**: This refers to the process which tweaks the weight Matrix $W_{n\\times m}$ to reduce the loss function $L$. In our case, this refers to Mini-batch Gradient Descent algorithm. We adjust the weights $W_{n\\times m}$, based on the gradient of the loss $L$ w.r.t. $W_{n\\times m}$. This leads to:\n",
    "$$\n",
    "W_{t+1} = W_{t} - \\alpha \\frac{\\partial L}{\\partial W},\n",
    "$$\n",
    "where $\\alpha$ is the learning rate. Additionally, with \"mini-batch\" gradient descent, instead of finding loss over the whole dataset, we use a small sample $B$ of the training data to make each learning step. Hence,\n",
    "$$\n",
    "W_{t+1} = W_{t} - \\alpha \\frac{\\partial \\sum_{i \\in B}{L_{x_i}}}{\\partial W},\n",
    "$$\n",
    "where $|B|$ is the batch size."
   ]
  },
  {
   "cell_type": "markdown",
   "metadata": {},
   "source": [
    "**All downloaded Files Placed in \"data/\" folder** "
   ]
  },
  {
   "cell_type": "markdown",
   "metadata": {
    "colab_type": "text",
    "id": "I2neGQlEpdVD"
   },
   "source": [
    "# Question 1\n",
    "\n",
    "Train a **Single-Layer Classifier** for the MNIST dataset. \n",
    "* Use Softmax-Loss.\n",
    "* Maintain a train-validation split of the original training set for finding the right value of $\\lambda$ for the regularization, and to check for over-fitting.\n",
    "* Finally, evaluate the classification performance on the test-set.\n"
   ]
  },
  {
   "cell_type": "code",
   "execution_count": 1,
   "metadata": {},
   "outputs": [],
   "source": [
    "import numpy as np\n",
    "import pandas as pd\n",
    "import math\n",
    "import struct\n",
    "import pickle\n",
    "\n",
    "\n",
    "import matplotlib.pyplot as plt\n",
    "import seaborn as sns\n",
    "from tqdm import tqdm, trange\n",
    "from sklearn.model_selection import train_test_split"
   ]
  },
  {
   "cell_type": "code",
   "execution_count": 2,
   "metadata": {
    "colab": {},
    "colab_type": "code",
    "id": "jwa72NJTpdVc"
   },
   "outputs": [
    {
     "name": "stdout",
     "output_type": "stream",
     "text": [
      "############### Training Samples and Labels ###############\n"
     ]
    },
    {
     "data": {
      "image/png": "[encoded data removed]",
      "text/plain": [
       "<Figure size 432x288 with 1 Axes>"
      ]
     },
     "metadata": {
      "needs_background": "light"
     },
     "output_type": "display_data"
    },
    {
     "name": "stdout",
     "output_type": "stream",
     "text": [
      "5\n",
      "(60000, 28, 28)\n",
      "(60000,)\n",
      "############### Testing Samples and Labels ###############\n"
     ]
    },
    {
     "data": {
      "image/png": "[encoded data removed]",
      "text/plain": [
       "<Figure size 432x288 with 1 Axes>"
      ]
     },
     "metadata": {
      "needs_background": "light"
     },
     "output_type": "display_data"
    },
    {
     "name": "stdout",
     "output_type": "stream",
     "text": [
      "7\n",
      "(10000, 28, 28)\n",
      "(10000,)\n",
      "{0, 1, 2, 3, 4, 5, 6, 7, 8, 9}\n"
     ]
    }
   ],
   "source": [
    "## Load The Mnist data:\n",
    "# Download data from http://yann.lecun.com/exdb/mnist/\n",
    "# load the data.\n",
    "\n",
    "\n",
    "####### train_images and labels #############\n",
    "with open('data/train-images-idx3-ubyte','rb') as f:\n",
    "    magic, size = struct.unpack(\">II\", f.read(8))\n",
    "    nrows, ncols = struct.unpack(\">II\", f.read(8))\n",
    "    train_imgs = np.fromfile(f, dtype=np.dtype(np.uint8).newbyteorder('>'))\n",
    "    train_imgs = train_imgs.reshape((size, nrows, ncols))\n",
    "    \n",
    "print(\"############### Training Samples and Labels ###############\")\n",
    "plt.imshow(train_imgs[0,:,:], cmap='gray')\n",
    "plt.show()\n",
    "\n",
    "\n",
    "with open('data/train-labels-idx1-ubyte','rb') as f:\n",
    "    magic, size = struct.unpack(\">II\", f.read(8))\n",
    "    train_labels = np.fromfile(f, dtype=np.dtype(np.uint8).newbyteorder('>'))\n",
    "    train_labels = train_labels.reshape((size,)) # (Optional)\n",
    "print(train_labels[0])\n",
    "print(train_imgs.shape)\n",
    "print(train_labels.shape)\n",
    "\n",
    "\n",
    "####### test_images and labels #############\n",
    "\n",
    "with open('data/t10k-images-idx3-ubyte','rb') as f:\n",
    "    magic, size = struct.unpack(\">II\", f.read(8))\n",
    "    nrows, ncols = struct.unpack(\">II\", f.read(8))\n",
    "    test_imgs = np.fromfile(f, dtype=np.dtype(np.uint8).newbyteorder('>'))\n",
    "    test_imgs = test_imgs.reshape((size, nrows, ncols))\n",
    "    \n",
    "print(\"############### Testing Samples and Labels ###############\")\n",
    "plt.imshow(test_imgs[0,:,:], cmap='gray')\n",
    "plt.show()\n",
    "\n",
    "\n",
    "with open('data/t10k-labels-idx1-ubyte','rb') as f:\n",
    "    magic, size = struct.unpack(\">II\", f.read(8))\n",
    "    test_labels = np.fromfile(f, dtype=np.dtype(np.uint8).newbyteorder('>'))\n",
    "    test_labels = test_labels.reshape((size,)) # (Optional)\n",
    "print(test_labels[0])\n",
    "print(test_imgs.shape)\n",
    "print(test_labels.shape)\n",
    "\n",
    "\n",
    "classes= set(test_labels)\n",
    "print(classes)\n",
    "\n",
    "    \n",
    "\n",
    "# maintain a train-val split\n",
    "\n",
    "# Now, write a generator that yields (random) mini-batches of the input data\n",
    "###### mini batch generator    \n",
    "def get_minibatch(training_x ,training_y ,batch_size=64):\n",
    "    ## Read about Python generators if required.\n",
    "\n",
    "    ## WRITE CODE HERE\n",
    "    indices = np.arange(len(training_x))\n",
    "    np.random.shuffle(indices)\n",
    "    \n",
    "    for i in range(0, len(training_x), batch_size):\n",
    "        mini_x = training_x[indices[i:i+batch_size]]\n",
    "        mini_y = training_y[indices[i:i+batch_size]]\n",
    "        yield mini_x, mini_y    \n"
   ]
  },
  {
   "cell_type": "code",
   "execution_count": 3,
   "metadata": {},
   "outputs": [],
   "source": [
    "######### train validation split ###########\n",
    "def train_val_split(X,y,train_size=0.9):\n",
    "    ids = X.shape[0]\n",
    "    r=list(range(ids))\n",
    "    np.random.shuffle(r)\n",
    "    samples = int(ids*train_size)\n",
    "    X_train, X_val, y_train, y_val = X[r[:samples]],X[r[samples:]],y[r[:samples]],y[r[samples:]]\n",
    "#     print(X_train.shape, y_train.shape,X_train.shape, y_train.shape)\n",
    "    return X_train, X_val, y_train, y_val\n",
    "\n",
    "\n",
    "train_imgs, val_imgs ,train_labels, val_labels = train_val_split(train_imgs,train_labels)\n"
   ]
  },
  {
   "cell_type": "code",
   "execution_count": 4,
   "metadata": {
    "colab": {},
    "colab_type": "code",
    "id": "HVMwqheRpdXo"
   },
   "outputs": [],
   "source": [
    "# Define the class for a Single Layer Classifier\n",
    "class Single_layer_classifier():\n",
    "    \n",
    "    def __init__(self, input_size, output_size):\n",
    "        \n",
    "        ## WRITE CODE HERE\n",
    "        self.weights = np.random.normal(loc=0,scale=0.001 ,size= (input_size,output_size))\n",
    "#         self.weights = np.random.rand(input_size,out///put_size)/math.sqrt(60000)\n",
    "        self.bias = np.random.normal(loc=0,scale=0.001 ,size= (1,output_size))\n",
    "        # Give the instance a weight matrix, initialized randomly\n",
    "        # One possible strategy for a good initialization is Normal (0, σ) where σ = 1e-3.\n",
    "        # Try experimenting with different values of σ.\n",
    "        \n",
    "    # Define the forward function\n",
    "    def forward(self, input_x):\n",
    "        # get the scores\n",
    "\n",
    "        scores = np.matmul(self.weights.T,input_x)    #+ self.bias.T\n",
    "        \n",
    "        \n",
    "        \n",
    "        return scores\n",
    "    \n",
    "    # Similarly a backward function\n",
    "    # we define 2 backward functions (as Loss = L_data + L_reg, grad(Loss) = grad(L1) + grad(L2))\n",
    "    \n",
    "    def backward_Ldata(self, grad_from_loss,x_i):\n",
    "        \n",
    "        # this function returns a matrix of the same size as the weights, \n",
    "        # where each element is the partial derivative of the loss w.r.t. the corresponding element of W\n",
    "        \n",
    "        x_i = x_i.reshape(x_i.shape[0],1)\n",
    "        grad_matrix =  np.matmul(x_i,grad_from_loss.T)\n",
    "        return grad_matrix\n",
    "        \n",
    "    def backward_Lreg(self):\n",
    "        \n",
    "        # this function returns a matrix of the same size as the weights, \n",
    "        # where each element is the partial derivative of the regularization-term\n",
    "        # w.r.t. the corresponding element of W\n",
    "        \n",
    "        grad_matrix = 2*self.weights\n",
    "        \n",
    "        return grad_matrix\n",
    "    \n",
    "    def backward(self,eta,lmbda,grad_matrix):\n",
    "        self.weights = self.weights - eta*(grad_matrix + lmbda*self.backward_Lreg())\n",
    "        "
   ]
  },
  {
   "cell_type": "code",
   "execution_count": 5,
   "metadata": {
    "colab": {},
    "colab_type": "code",
    "id": "BM3EhmY0pdYZ"
   },
   "outputs": [],
   "source": [
    "# Implement the Softmax loss function\n",
    "def loss_function(scores,input_y):\n",
    "    \n",
    "    eps = 0.001\n",
    "    fyi = sum(np.exp(scores)) + eps\n",
    "    return math.log(fyi) - scores[np.argmax(input_y)] \n",
    "\n",
    "\n",
    "def loss_backward(scores,input_y):\n",
    "    fyi = np.exp(scores)/sum(np.exp(scores))\n",
    "    fyi = fyi.reshape(10,1)                          \n",
    "    grad_from_loss = np.subtract(fyi,input_y)\n",
    "    return grad_from_loss\n",
    "        "
   ]
  },
  {
   "cell_type": "markdown",
   "metadata": {},
   "source": [
    "### Create utility functions for calculating training and validation accuracy"
   ]
  },
  {
   "cell_type": "code",
   "execution_count": 6,
   "metadata": {},
   "outputs": [],
   "source": [
    "# WRITE CODE HERE\n",
    "def getOneHotEncoding(y):\n",
    "    one_hot = np.zeros(shape=(10,1))\n",
    "    one_hot[y] = 1.0\n",
    "    return one_hot"
   ]
  },
  {
   "cell_type": "code",
   "execution_count": 7,
   "metadata": {
    "colab": {},
    "colab_type": "code",
    "id": "AhpaaUvJpdZJ"
   },
   "outputs": [
    {
     "name": "stderr",
     "output_type": "stream",
     "text": [
      "100%|███████████████████████████████████████████| 50/50 [01:00<00:00,  1.22s/it]"
     ]
    },
    {
     "name": "stdout",
     "output_type": "stream",
     "text": [
      "Min Loss is:  0.029397960406663266\n"
     ]
    },
    {
     "name": "stderr",
     "output_type": "stream",
     "text": [
      "\n"
     ]
    },
    {
     "data": {
      "image/png": "[encoded data removed]",
      "text/plain": [
       "<Figure size 432x288 with 1 Axes>"
      ]
     },
     "metadata": {
      "needs_background": "light"
     },
     "output_type": "display_data"
    }
   ],
   "source": [
    "# Finally the trainer:\n",
    "# Make an instance of Single_layer_classifier\n",
    "input_size = 784\n",
    "output_size= 10\n",
    "batch_size=50\n",
    "epochs =50\n",
    "min_loss=100\n",
    "model = Single_layer_classifier(input_size,output_size)\n",
    "\n",
    "###  Train on the train-set obtained from train-validation split\n",
    "batch_losses = []\n",
    "for epoch in trange(epochs):\n",
    "    \n",
    "    ###  Use the mini-batch generator to get each mini-batch\n",
    "    train_batches = get_minibatch(train_imgs,train_labels,batch_size)\n",
    "    for iter_num,(input_x , input_y) in enumerate(train_batches):\n",
    "        input_x = input_x\n",
    "        input_x = input_x.reshape(input_x.shape[0],-1)\n",
    "        ####### ----- batch ---- ######\n",
    "        \n",
    "        grads_emp = []\n",
    "        loss = []\n",
    "        ##### Forward Pass ##############\n",
    "        for i in range(batch_size):\n",
    "            scores = model.forward(input_x[i])\n",
    "            loss.append(loss_function(scores,getOneHotEncoding(input_y[i])))\n",
    "            grad_for_loss = loss_backward(scores,getOneHotEncoding(input_y[i]))\n",
    "            grads_emp.append(model.backward_Ldata(grad_for_loss,input_x[i]))\n",
    "            \n",
    "        ##### Backward Pass ##############\n",
    "        loss_p = sum(loss)/batch_size\n",
    "        batch_losses.append(loss_p)\n",
    "        min_loss = min(min_loss,loss_p)\n",
    "        gd = np.array(sum(grads_emp))/batch_size\n",
    "        model.backward(eta=0.000001,lmbda=0.02,grad_matrix = gd)\n",
    "    \n",
    "        ####### /----- batch ----/ ######\n",
    "        \n",
    "plt.plot(batch_losses)\n",
    "print(\"Min Loss is: \",min_loss)  \n"
   ]
  },
  {
   "cell_type": "code",
   "execution_count": 8,
   "metadata": {},
   "outputs": [
    {
     "name": "stdout",
     "output_type": "stream",
     "text": [
      "\n",
      "\n",
      "######### training Classification Report ########\n",
      "\n",
      "\n",
      "              precision    recall  f1-score   support\n",
      "\n",
      "           0       0.97      0.97      0.97      5310\n",
      "           1       0.98      0.96      0.97      6133\n",
      "           2       0.91      0.93      0.92      5232\n",
      "           3       0.91      0.91      0.91      5532\n",
      "           4       0.93      0.94      0.94      5260\n",
      "           5       0.89      0.89      0.89      4876\n",
      "           6       0.96      0.95      0.96      5398\n",
      "           7       0.93      0.95      0.94      5573\n",
      "           8       0.88      0.91      0.89      5138\n",
      "           9       0.92      0.89      0.91      5548\n",
      "\n",
      "    accuracy                           0.93     54000\n",
      "   macro avg       0.93      0.93      0.93     54000\n",
      "weighted avg       0.93      0.93      0.93     54000\n",
      "\n",
      "\n",
      "\n",
      "######### Test Classification Report ########\n",
      "\n",
      "\n",
      "              precision    recall  f1-score   support\n",
      "\n",
      "           0       0.98      0.96      0.97      1003\n",
      "           1       0.98      0.97      0.97      1149\n",
      "           2       0.90      0.93      0.91       994\n",
      "           3       0.92      0.89      0.91      1036\n",
      "           4       0.93      0.94      0.93       973\n",
      "           5       0.87      0.88      0.88       880\n",
      "           6       0.94      0.94      0.94       960\n",
      "           7       0.92      0.94      0.93      1007\n",
      "           8       0.87      0.89      0.88       961\n",
      "           9       0.92      0.89      0.90      1037\n",
      "\n",
      "    accuracy                           0.92     10000\n",
      "   macro avg       0.92      0.92      0.92     10000\n",
      "weighted avg       0.92      0.92      0.92     10000\n",
      "\n"
     ]
    }
   ],
   "source": [
    "from sklearn.metrics import classification_report, confusion_matrix\n",
    "\n",
    "######### training Classification Report ########\n",
    "print(\"\\n\\n######### training Classification Report ########\\n\\n\")\n",
    "\n",
    "y_pred =[]\n",
    "for input_x in train_imgs:\n",
    "    input_x = input_x.reshape(28*28,1)\n",
    "    scores = model.forward(input_x)\n",
    "    y_pred.append(np.argmax(scores))\n",
    "print(classification_report(y_pred,train_labels))\n",
    "\n",
    "\n",
    "######### Test Classification Report ########\n",
    "print(\"\\n\\n######### Test Classification Report ########\\n\\n\")\n",
    "y_test_pred =[]\n",
    "for input_x in test_imgs:\n",
    "    input_x = input_x.reshape(28*28,1)\n",
    "    scores = model.forward(input_x)\n",
    "    y_test_pred.append(np.argmax(scores))\n",
    "\n",
    "print(classification_report(y_test_pred,test_labels))\n",
    "    \n",
    "\n"
   ]
  },
  {
   "cell_type": "markdown",
   "metadata": {},
   "source": [
    "### Plot the training loss"
   ]
  },
  {
   "cell_type": "code",
   "execution_count": 9,
   "metadata": {},
   "outputs": [
    {
     "name": "stdout",
     "output_type": "stream",
     "text": [
      "Training_loss is as follows:\n"
     ]
    },
    {
     "data": {
      "text/plain": [
       "[<matplotlib.lines.Line2D at 0x12f958340>]"
      ]
     },
     "execution_count": 9,
     "metadata": {},
     "output_type": "execute_result"
    },
    {
     "data": {
      "image/png": "[encoded data removed]",
      "text/plain": [
       "<Figure size 432x288 with 1 Axes>"
      ]
     },
     "metadata": {
      "needs_background": "light"
     },
     "output_type": "display_data"
    }
   ],
   "source": [
    "# WRITE CODE HERE\n",
    "print(\"Training_loss is as follows:\")\n",
    "plt.plot(batch_losses)\n",
    "\n",
    "\n"
   ]
  },
  {
   "cell_type": "markdown",
   "metadata": {
    "colab": {},
    "colab_type": "code",
    "id": "RH22BqefpdZ4"
   },
   "source": [
    "### Find the accuracy on the validation set"
   ]
  },
  {
   "cell_type": "code",
   "execution_count": 10,
   "metadata": {},
   "outputs": [
    {
     "name": "stdout",
     "output_type": "stream",
     "text": [
      "\n",
      "\n",
      "######### Validation_set Classification Report ########\n",
      "\n",
      "\n",
      "              precision    recall  f1-score   support\n",
      "\n",
      "           0       0.96      0.95      0.96       634\n",
      "           1       0.97      0.97      0.97       711\n",
      "           2       0.90      0.91      0.91       606\n",
      "           3       0.89      0.89      0.89       626\n",
      "           4       0.94      0.93      0.93       554\n",
      "           5       0.85      0.85      0.85       536\n",
      "           6       0.94      0.95      0.94       583\n",
      "           7       0.93      0.93      0.93       584\n",
      "           8       0.86      0.90      0.88       553\n",
      "           9       0.91      0.89      0.90       613\n",
      "\n",
      "    accuracy                           0.92      6000\n",
      "   macro avg       0.92      0.92      0.92      6000\n",
      "weighted avg       0.92      0.92      0.92      6000\n",
      "\n"
     ]
    }
   ],
   "source": [
    "# WRITE CODE HERE\n",
    "\n",
    "######### Validation_set Classification Report ########\n",
    "print(\"\\n\\n######### Validation_set Classification Report ########\\n\\n\")\n",
    "\n",
    "y_val_pred =[]\n",
    "for input_x in val_imgs:\n",
    "    input_x = input_x.reshape(28*28,1)\n",
    "    scores = model.forward(input_x)\n",
    "    y_val_pred.append(np.argmax(scores))\n",
    "\n",
    "print(classification_report(y_val_pred,val_labels))"
   ]
  },
  {
   "cell_type": "code",
   "execution_count": 11,
   "metadata": {
    "colab": {},
    "colab_type": "code",
    "id": "7wMDvvA4pdbN"
   },
   "outputs": [
    {
     "name": "stderr",
     "output_type": "stream",
     "text": [
      "100%|█████████████████████████████████████████████| 5/5 [00:06<00:00,  1.24s/it]\n"
     ]
    },
    {
     "name": "stdout",
     "output_type": "stream",
     "text": [
      "Batch size: 50, Learning rate: 0.0001, Lambda: 0, Val loss: 0.03239501638533204, Val accuracy: 0.887\n"
     ]
    },
    {
     "name": "stderr",
     "output_type": "stream",
     "text": [
      "100%|█████████████████████████████████████████████| 5/5 [00:06<00:00,  1.24s/it]\n"
     ]
    },
    {
     "name": "stdout",
     "output_type": "stream",
     "text": [
      "Batch size: 50, Learning rate: 0.0001, Lambda: 0.02, Val loss: 0.04797867607655696, Val accuracy: 0.8465\n"
     ]
    },
    {
     "name": "stderr",
     "output_type": "stream",
     "text": [
      "100%|█████████████████████████████████████████████| 5/5 [00:06<00:00,  1.22s/it]\n"
     ]
    },
    {
     "name": "stdout",
     "output_type": "stream",
     "text": [
      "Batch size: 50, Learning rate: 0.0001, Lambda: 0.002, Val loss: 0.035605541278178915, Val accuracy: 0.8721666666666666\n"
     ]
    },
    {
     "name": "stderr",
     "output_type": "stream",
     "text": [
      "100%|█████████████████████████████████████████████| 5/5 [00:06<00:00,  1.22s/it]\n"
     ]
    },
    {
     "name": "stdout",
     "output_type": "stream",
     "text": [
      "Batch size: 50, Learning rate: 1e-05, Lambda: 0, Val loss: 0.006670816285877254, Val accuracy: 0.9061666666666667\n"
     ]
    },
    {
     "name": "stderr",
     "output_type": "stream",
     "text": [
      "100%|█████████████████████████████████████████████| 5/5 [00:06<00:00,  1.24s/it]\n"
     ]
    },
    {
     "name": "stdout",
     "output_type": "stream",
     "text": [
      "Batch size: 50, Learning rate: 1e-05, Lambda: 0.02, Val loss: 0.006733110196831201, Val accuracy: 0.9065\n"
     ]
    },
    {
     "name": "stderr",
     "output_type": "stream",
     "text": [
      "100%|█████████████████████████████████████████████| 5/5 [00:06<00:00,  1.23s/it]\n"
     ]
    },
    {
     "name": "stdout",
     "output_type": "stream",
     "text": [
      "Batch size: 50, Learning rate: 1e-05, Lambda: 0.002, Val loss: 0.00660132909103699, Val accuracy: 0.9066666666666666\n"
     ]
    },
    {
     "name": "stderr",
     "output_type": "stream",
     "text": [
      "100%|█████████████████████████████████████████████| 5/5 [00:06<00:00,  1.22s/it]\n"
     ]
    },
    {
     "name": "stdout",
     "output_type": "stream",
     "text": [
      "Batch size: 50, Learning rate: 1e-06, Lambda: 0, Val loss: 0.0068735927789922895, Val accuracy: 0.9018333333333334\n"
     ]
    },
    {
     "name": "stderr",
     "output_type": "stream",
     "text": [
      "100%|█████████████████████████████████████████████| 5/5 [00:06<00:00,  1.22s/it]\n"
     ]
    },
    {
     "name": "stdout",
     "output_type": "stream",
     "text": [
      "Batch size: 50, Learning rate: 1e-06, Lambda: 0.02, Val loss: 0.006725302277242163, Val accuracy: 0.905\n"
     ]
    },
    {
     "name": "stderr",
     "output_type": "stream",
     "text": [
      "100%|█████████████████████████████████████████████| 5/5 [00:06<00:00,  1.22s/it]\n"
     ]
    },
    {
     "name": "stdout",
     "output_type": "stream",
     "text": [
      "Batch size: 50, Learning rate: 1e-06, Lambda: 0.002, Val loss: 0.006769867362025625, Val accuracy: 0.903\n"
     ]
    },
    {
     "name": "stderr",
     "output_type": "stream",
     "text": [
      "100%|█████████████████████████████████████████████| 5/5 [00:06<00:00,  1.23s/it]\n"
     ]
    },
    {
     "name": "stdout",
     "output_type": "stream",
     "text": [
      "Batch size: 50, Learning rate: 1e-07, Lambda: 0, Val loss: 0.010449563780743446, Val accuracy: 0.8433333333333334\n"
     ]
    },
    {
     "name": "stderr",
     "output_type": "stream",
     "text": [
      "100%|█████████████████████████████████████████████| 5/5 [00:06<00:00,  1.24s/it]\n"
     ]
    },
    {
     "name": "stdout",
     "output_type": "stream",
     "text": [
      "Batch size: 50, Learning rate: 1e-07, Lambda: 0.02, Val loss: 0.010595546320204102, Val accuracy: 0.8353333333333334\n"
     ]
    },
    {
     "name": "stderr",
     "output_type": "stream",
     "text": [
      "100%|█████████████████████████████████████████████| 5/5 [00:06<00:00,  1.23s/it]"
     ]
    },
    {
     "name": "stdout",
     "output_type": "stream",
     "text": [
      "Batch size: 50, Learning rate: 1e-07, Lambda: 0.002, Val loss: 0.010435736586312163, Val accuracy: 0.8475\n"
     ]
    },
    {
     "name": "stderr",
     "output_type": "stream",
     "text": [
      "\n"
     ]
    },
    {
     "data": {
      "image/png": "[encoded data removed]",
      "text/plain": [
       "<Figure size 432x288 with 2 Axes>"
      ]
     },
     "metadata": {
      "needs_background": "light"
     },
     "output_type": "display_data"
    }
   ],
   "source": [
    "# The next step is to find the optimal value for lambda, number of epochs, learning rate and batch size. \n",
    "# CHOSE ANY TWO from the above mentioned to tune.\n",
    "# Create plot and table to show the effect of the hparams.\n",
    "etas=[0.0001,0.00001,0.000001, 0.0000001]\n",
    "lambdas=[0, 0.02, 0.002 ]\n",
    "def tune_hyperparameters(train_imgs, train_labels, val_imgs, val_labels, \n",
    "                         input_size, output_size, num_epochs=5, \n",
    "                         batch_sizes=[50], etas=etas, \n",
    "                         lambdas=lambdas):\n",
    "    \n",
    "    results = []\n",
    "    \n",
    "    for batch_size in batch_sizes:\n",
    "        for eta in etas:\n",
    "            for lmbda in lambdas:\n",
    "                \n",
    "                model = Single_layer_classifier(input_size, output_size)\n",
    "                batch_losses = []\n",
    "                \n",
    "                for epoch in trange(num_epochs):\n",
    "\n",
    "                    train_batches = get_minibatch(train_imgs, train_labels, batch_size)\n",
    "                    for iter_num, (input_x, input_y) in enumerate(train_batches):\n",
    "                        input_x = input_x\n",
    "                        input_x = input_x.reshape(input_x.shape[0], -1)\n",
    "                        grads_emp = []\n",
    "                        loss = []\n",
    "\n",
    "                        for i in range(batch_size):\n",
    "                            scores = model.forward(input_x[i])\n",
    "                            loss.append(loss_function(scores, getOneHotEncoding(input_y[i])))\n",
    "                            grad_for_loss = loss_backward(scores, getOneHotEncoding(input_y[i]))\n",
    "                            grads_emp.append(model.backward_Ldata(grad_for_loss, input_x[i]))\n",
    "\n",
    "                        loss_p = sum(loss) / batch_size\n",
    "                        batch_losses.append(loss_p)\n",
    "                        gd = np.array(sum(grads_emp)) / batch_size\n",
    "                        model.backward(eta=eta, lmbda=lmbda, grad_matrix=gd)\n",
    "\n",
    "                    val_batches = get_minibatch(val_imgs, val_labels, batch_size)\n",
    "                    val_acc = 0\n",
    "                    val_loss = 0\n",
    "                    for iter_num, (input_x, input_y) in enumerate(val_batches):\n",
    "                        input_x = input_x\n",
    "                        input_x = input_x.reshape(input_x.shape[0], -1)\n",
    "                        grads_emp = []\n",
    "                        loss = []\n",
    "                        acc = 0\n",
    "\n",
    "                        for i in range(batch_size):\n",
    "                            scores = model.forward(input_x[i])\n",
    "                            loss.append(loss_function(scores, getOneHotEncoding(input_y[i])))\n",
    "#                             grad_for_loss = loss_backward(scores, getOneHotEncoding(input_y[i]))\n",
    "#                             grads_emp.append(model.backward_Ldata(grad_for_loss, input_x[i]))\n",
    "                            predicted_label = np.argmax(scores)\n",
    "                            actual_label = input_y[i]\n",
    "                            if predicted_label == actual_label:\n",
    "                                acc += 1\n",
    "\n",
    "                        loss_p = sum(loss) / batch_size\n",
    "                        val_loss += loss_p\n",
    "                        val_acc += acc\n",
    "\n",
    "                    val_loss /= len(val_imgs)\n",
    "                    val_acc /= len(val_imgs)\n",
    "\n",
    "                    batch_losses.append(loss_p)\n",
    "\n",
    "                results.append({\n",
    "                    'batch_size': batch_size,\n",
    "                    'learning_rate': eta,\n",
    "                    'lambda': lmbda,\n",
    "                    'val_loss': val_loss,\n",
    "                    'val_accuracy': val_acc\n",
    "                })\n",
    "\n",
    "                print(f'Batch size: {batch_size}, Learning rate: {eta}, Lambda: {lmbda}, Val loss: {val_loss}, Val accuracy: {val_acc}')\n",
    "                \n",
    "    return results\n",
    "\n",
    "\n",
    "def plot_tuning_results(results):\n",
    "    # Create a table of the performance metrics\n",
    "    df = pd.DataFrame(results, columns=['lambda', 'learning_rate', 'val_loss', 'val_accuracy'])\n",
    "    df = df.pivot(index='learning_rate', columns='lambda', values='val_accuracy')\n",
    "    df = df.round(3)\n",
    "\n",
    "    # Create heatmap\n",
    "    ax = sns.heatmap(df, annot=True, cmap='coolwarm')\n",
    "    ax.invert_yaxis()\n",
    "    ax.set_title('Validation Accuracy')\n",
    "    ax.set_xlabel('lambda')\n",
    "    ax.set_ylabel('eta')\n",
    "    plt.show()\n",
    "    \n",
    "results = tune_hyperparameters(train_imgs, train_labels, val_imgs, val_labels, input_size=784, output_size=10)\n",
    "plot_tuning_results(results)"
   ]
  },
  {
   "cell_type": "markdown",
   "metadata": {},
   "source": [
    "### Find the best performing class and the worst performing class"
   ]
  },
  {
   "cell_type": "code",
   "execution_count": 12,
   "metadata": {},
   "outputs": [
    {
     "name": "stdout",
     "output_type": "stream",
     "text": [
      "The best performing class from the model trained above is : class 0 and class 1 with accuracy(97%)\n",
      "The worst performing class from the model trained above is : class 8 with accuracy (88%)\n"
     ]
    }
   ],
   "source": [
    "print(\"The best performing class from the model trained above is : class 0 and class 1 with accuracy(97%)\" )\n",
    "print(\"The worst performing class from the model trained above is : class 8 with accuracy (88%)\" )"
   ]
  },
  {
   "cell_type": "markdown",
   "metadata": {
    "colab_type": "text",
    "id": "Emb3Bo_NpdUl"
   },
   "source": [
    "# Training a Linear Classifier on MNIST from scikit-learn\n",
    "\n",
    "In this section you have to train a linear classifier from the scikit-learn library and compare its results against your implementation.\n",
    "(https://scikit-learn.org/stable/modules/generated/sklearn.linear_model.LinearRegression.html)"
   ]
  },
  {
   "cell_type": "code",
   "execution_count": 13,
   "metadata": {},
   "outputs": [
    {
     "name": "stdout",
     "output_type": "stream",
     "text": [
      "###### Sklearn RidgeClassifier Accuracy #########\n",
      "\n",
      "############# Train Accuracy #################\n",
      "              precision    recall  f1-score   support\n",
      "\n",
      "           0       0.96      0.90      0.93      5629\n",
      "           1       0.97      0.82      0.89      7148\n",
      "           2       0.81      0.91      0.85      4747\n",
      "           3       0.84      0.84      0.84      5555\n",
      "           4       0.89      0.84      0.87      5627\n",
      "           5       0.74      0.87      0.80      4134\n",
      "           6       0.93      0.89      0.91      5543\n",
      "           7       0.87      0.87      0.87      5646\n",
      "           8       0.76      0.85      0.80      4713\n",
      "           9       0.80      0.81      0.81      5258\n",
      "\n",
      "    accuracy                           0.86     54000\n",
      "   macro avg       0.86      0.86      0.86     54000\n",
      "weighted avg       0.87      0.86      0.86     54000\n",
      "\n",
      "############# Test Accuracy #################\n",
      "              precision    recall  f1-score   support\n",
      "\n",
      "           0       0.96      0.91      0.93      1039\n",
      "           1       0.98      0.84      0.90      1321\n",
      "           2       0.79      0.92      0.85       889\n",
      "           3       0.87      0.85      0.86      1039\n",
      "           4       0.90      0.81      0.85      1079\n",
      "           5       0.74      0.87      0.80       750\n",
      "           6       0.91      0.88      0.90       988\n",
      "           7       0.86      0.86      0.86      1036\n",
      "           8       0.78      0.84      0.81       910\n",
      "           9       0.79      0.84      0.82       949\n",
      "\n",
      "    accuracy                           0.86     10000\n",
      "   macro avg       0.86      0.86      0.86     10000\n",
      "weighted avg       0.87      0.86      0.86     10000\n",
      "\n"
     ]
    }
   ],
   "source": [
    "print(\"###### Sklearn RidgeClassifier Accuracy #########\")\n",
    "from sklearn.linear_model import RidgeClassifier\n",
    "X=train_imgs.reshape(train_imgs.shape[0],-1)\n",
    "y=train_labels\n",
    "print()\n",
    "rc = RidgeClassifier().fit(X, y)\n",
    "\n",
    "####### Train Accuracy #######\n",
    "print(\"############# Train Accuracy #################\")\n",
    "\n",
    "print(classification_report(rc.predict(X),train_labels))\n",
    "\n",
    "####### Test Accuracy #######\n",
    "print(\"############# Test Accuracy #################\")\n",
    "print(classification_report(rc.predict(test_imgs.reshape(test_imgs.shape[0],-1)),test_labels))\n",
    "\n",
    "\n",
    "\n",
    "\n"
   ]
  },
  {
   "cell_type": "markdown",
   "metadata": {},
   "source": [
    "### Compare the training and test accuracies for the your implementation and linear classifier from scikit-learn"
   ]
  },
  {
   "cell_type": "code",
   "execution_count": 14,
   "metadata": {},
   "outputs": [
    {
     "name": "stdout",
     "output_type": "stream",
     "text": [
      "############## Implemented Model Accuracy ##########\n",
      "\n",
      "Test Accuracy:92.4 \t Train Accuracy: 93.03333333333333\n",
      "\n",
      "############## Sklearn RidgeClassifier Accuracy ##########\n",
      "\n",
      "Test Accuracy:86.00999999999999 \t Train Accuracy: 85.86481481481482\n",
      "\n"
     ]
    }
   ],
   "source": [
    "from sklearn.metrics import accuracy_score\n",
    "############## Implemented Model Accuracy ##########\n",
    "print(\"############## Implemented Model Accuracy ##########\\n\")\n",
    "\n",
    "print(\"Test Accuracy:{} \\t Train Accuracy: {}\\n\".format(accuracy_score(y_test_pred,test_labels)*100,accuracy_score(y_pred,train_labels)*100) )\n",
    "\n",
    "print(\"############## Sklearn RidgeClassifier Accuracy ##########\\n\")\n",
    "print(\"Test Accuracy:{} \\t Train Accuracy: {}\\n\".format(accuracy_score(rc.predict(test_imgs.reshape(test_imgs.shape[0],-1)),test_labels)*100,accuracy_score(rc.predict(train_imgs.reshape(train_imgs.shape[0],-1)),train_labels)*100) )\n",
    "\n"
   ]
  },
  {
   "cell_type": "markdown",
   "metadata": {
    "colab_type": "text",
    "id": "sXFJTTnkpdcp"
   },
   "source": [
    "# Implementing Backpropagation\n",
    "\n",
    "Now that you have had some experience with single layer networks, we can proceed to more complex architectures. But first we need to completely understand and implement backpropagation.\n",
    "\n",
    "## Backpropagation:\n",
    "\n",
    "Simply put, a way of computing gradients of expressions through repeated application of chain rule. If\n",
    "$$\n",
    "L = f (g (h (\\textbf{x})))\n",
    "$$\n",
    "then, by the chain rule we have:\n",
    "$$\n",
    "\\frac{\\partial L}{\\partial \\textbf{x}} = \\frac{\\partial f}{\\partial g} \\cdot \\frac{\\partial g}{\\partial h} \\cdot \\frac{\\partial h}{\\partial \\textbf{x}} \n",
    "$$\n",
    "\n",
    "** Look into the class Lecture for more detail **\n",
    "\n"
   ]
  },
  {
   "cell_type": "markdown",
   "metadata": {
    "colab_type": "text",
    "id": "UixM41Rppdcz"
   },
   "source": [
    "# Question 2 : Scalar Backpropagation\n",
    "\n",
    "Evaluate the gradient of the following function w.r.t. the input:\n",
    "\n",
    "$$ f(x,y,z) =  log(\\sigma(\\frac{cos(\\pi \\times x)+sin(\\pi \\times y/2)}{tanh(z^2)}))$$\n",
    "where $\\sigma$ is the sigmoid function. Find gradient for the following inputs:\n",
    "  * $(x,y,z)$ =  (2,4,1)\n",
    "  * $(x,y,z)$ =  (9,14,3)\n",
    "  * $(x,y,z)$ =  (128,42,666)\n",
    "  * $(x,y,z)$ =  (52,14,28)\n",
    "\n",
    "      "
   ]
  },
  {
   "cell_type": "code",
   "execution_count": 15,
   "metadata": {
    "colab": {},
    "colab_type": "code",
    "id": "Uu9zd5PLpdc_"
   },
   "outputs": [],
   "source": [
    "# To solve this problem, construct the computational graph\n",
    "# Write a class with forward and backward functions, for each node if you like\n",
    "# For eg:\n",
    "class tanh():\n",
    "    def __init__(self):\n",
    "        self.f = None\n",
    "        \n",
    "    def forward(self,x):\n",
    "        self.f = np.tanh(x)\n",
    "        return self.f\n",
    "        # save values useful for backpropagation\n",
    "    def backward(self):\n",
    "        if self.f==None:\n",
    "            print(\"Forward Propagation Not Done Yet.\")\n",
    "            return\n",
    "        else:\n",
    "            return (1-np.square(self.f))\n",
    "class log():\n",
    "    def __init__(self):\n",
    "        self.f = None\n",
    "        self.x=None\n",
    "    def forward(self,x):\n",
    "        self.f = np.log(x)\n",
    "        self.x = x\n",
    "        return self.f\n",
    "        # save values useful for backpropagation\n",
    "    def backward(self):\n",
    "        if self.f==None or self.x==None:\n",
    "            print(\"Forward Propagation Not Done Yet.\")\n",
    "            return\n",
    "        else:\n",
    "            return 1/(self.x)\n",
    "\n",
    "class Sigmoid():\n",
    "    def __init__(self):\n",
    "        self.f = None\n",
    "        \n",
    "    def forward(self,x):\n",
    "        self.f = 1/(1+np.exp(-x))\n",
    "        # save values useful for backpropagation\n",
    "    def backward(self):\n",
    "        if self.f==None:\n",
    "            print(\"Forward Propagation Not Done Yet.\")\n",
    "            return\n",
    "        else:\n",
    "            return self.f*(1-self.f)\n",
    "# CAUTION: Carefully treat the input and output dimension variation. At worst, handle them with if statements."
   ]
  },
  {
   "cell_type": "code",
   "execution_count": 16,
   "metadata": {
    "colab": {},
    "colab_type": "code",
    "id": "KyqeWPF0pddy"
   },
   "outputs": [
    {
     "name": "stdout",
     "output_type": "stream",
     "text": [
      "x:2.0  y:4.0  z:1.0     forward:-0.23823101469115085    backward:[2.1417102890343507e-16, 0.43720979194276516, -0.3069722756588883]\n",
      "\n",
      "x:9.0  y:14.0  z:3.0     forward:-1.3132617097862374    backward:[-2.5313688314302287e-15, -1.148344174369598, 2.672161875217988e-07]\n",
      "\n",
      "x:52.0  y:14.0  z:28.0     forward:-0.31326168751822253    backward:[-6.626324387577344e-15, -0.42245219681098645, -0.0]\n",
      "\n"
     ]
    }
   ],
   "source": [
    "# Now write the class func\n",
    "# which constructs the graph (all operators), forward and backward functions.\n",
    "\n",
    "class Func():\n",
    "    def __init__(self):\n",
    "        # construct the graph here\n",
    "        # assign the instances of function modules to self.var\n",
    "        self.x =None\n",
    "        self.y =None\n",
    "        self.z =None\n",
    "        self.a = None\n",
    "        self.b = None\n",
    "        self.c = None\n",
    "        self.d = None\n",
    "        self.e = None\n",
    "        self.f = None\n",
    "        self.g = None\n",
    "        self.h = None\n",
    "        self.i = None\n",
    "        self.j = None\n",
    "        \n",
    "        \n",
    "        ###### x ######\n",
    "        \n",
    "        \n",
    "        \n",
    "    def forward(self,x,y,z):\n",
    "        self.x ,self.y,self.z = x,y,z\n",
    "        \n",
    "        self.a = math.pi*self.x\n",
    "        self.b = math.pi*self.y/2\n",
    "        self.c = np.square(self.z)\n",
    "        self.d = np.cos(self.a)\n",
    "        self.e = np.sin(self.b)\n",
    "        self.f = self.d + self.e\n",
    "        self.g = np.tanh(self.c)\n",
    "        self.h = np.divide(self.f,self.g)\n",
    "        self.i = 1/(1+np.exp(-self.h))\n",
    "        self.j = np.log(self.i)\n",
    "        return self.j\n",
    "        # Using the graph element's forward functions, get the output. \n",
    "        \n",
    "    \n",
    "    def backward(self):\n",
    "        # Use the saved outputs of each module, and backward() function calls\n",
    "        grad_x,grad_y,grad_z =1,1,1\n",
    "        out = 1/self.i\n",
    "        out *= self.i*(1-self.i)\n",
    "        grad_xy  = out*1/self.g\n",
    "        \n",
    "        grad_x = (-1)*np.sin(self.a)*grad_xy\n",
    "        grad_x = math.pi*(grad_x)\n",
    "        \n",
    "        grad_y = np.cos(self.b)*grad_xy\n",
    "        grad_y = math.pi*grad_y/2\n",
    "        \n",
    "        \n",
    "        grad_z = -out*self.f*(1/np.square(self.g))\n",
    "        grad_z = grad_z*(1- np.square(self.g))\n",
    "        grad_z = 2*self.z*grad_z\n",
    "        return [grad_x,grad_y,grad_z]\n",
    "    \n",
    "\n",
    "#### Initialization #####\n",
    "f= Func()\n",
    "\n",
    "######### Forward and Backward Pass ############\n",
    "x,y,z = 2.0,4.0,1.0\n",
    "print(\"x:{}  y:{}  z:{}     forward:{}    backward:{}\\n\".format(x,y,z , f.forward(x,y,z),f.backward()))\n",
    "x,y,z = 9.0,14.0,3.0\n",
    "print(\"x:{}  y:{}  z:{}     forward:{}    backward:{}\\n\".format(x,y,z , f.forward(x,y,z),f.backward()))\n",
    "\n",
    "x,y,z = 52.0,14.0,28.0\n",
    "print(\"x:{}  y:{}  z:{}     forward:{}    backward:{}\\n\".format(x,y,z , f.forward(x,y,z),f.backward()))\n",
    "\n"
   ]
  },
  {
   "cell_type": "markdown",
   "metadata": {
    "colab_type": "text",
    "id": "rYE4dEd-pdef"
   },
   "source": [
    "## Question 3 : Modular Vector Backpropagation\n",
    "\n",
    "* Construct a Linear Layer module, implementing the forward and backward functions for arbitrary sizes.\n",
    "* Construct a ReLU module, implementing the forward and backward functions for arbitrary sizes.\n",
    "* Create a 2 layer MLP using the constructed modules.\n",
    "\n",
    "* Modifying the functions built in Question 1 , train this two layer MLP for the same data set, MNIST, with the same train-val split."
   ]
  },
  {
   "cell_type": "code",
   "execution_count": 17,
   "metadata": {
    "colab": {},
    "colab_type": "code",
    "id": "0viOMFfFpden"
   },
   "outputs": [],
   "source": [
    "# Class for Linear Layer (If you're stuck, you can refer to code of PyTorch/Tensorflow packages) \n",
    "class Linear_Layer:\n",
    "    def __init__(self, input_size, output_size,batch_size,eta):\n",
    "        self.input= None\n",
    "        self.output= None\n",
    "        self.eta = eta\n",
    "        self.batch_size = batch_size\n",
    "        self.weights = np.random.rand(input_size, output_size)*0.01/np.sqrt(input_size)\n",
    "#         self.weights = np.random.normal(loc=0,scale=0.001 ,size= (input_size,output_size))\n",
    "\n",
    "        self.gradient_matrix = np.zeros(shape=(input_size,output_size))\n",
    "    \n",
    "    def forward(self, input_data):\n",
    "        self.input = input_data.reshape(input_data.shape[0],1)\n",
    "        self.output = np.dot( self.weights.T, self.input)\n",
    "        return self.output\n",
    "    \n",
    "    def backward_ldata(self,back_grad):\n",
    "        for_grad = np.matmul( self.weights,back_grad)\n",
    "        self.gradient_matrix = np.add(self.gradient_matrix,np.dot(self.input, back_grad.T))\n",
    "        return for_grad    \n",
    "        \n",
    "        \n",
    "    def backward(self):\n",
    "        self.weights -= eta * self.gradient_matrix/self.batch_size\n",
    "#         print(self.gradient_matrix)\n",
    "        self.gradient_matrix = np.zeros(shape=self.weights.shape)\n",
    "    \n",
    "        \n",
    "        "
   ]
  },
  {
   "cell_type": "code",
   "execution_count": 18,
   "metadata": {
    "colab": {},
    "colab_type": "code",
    "id": "zmlWuzv1pdfK"
   },
   "outputs": [],
   "source": [
    "# Class for ReLU\n",
    "class ReLU():\n",
    "    def __init__(self):\n",
    "        self.f = None\n",
    "        self.x = None\n",
    "    def forward(self,x):\n",
    "        self.f = x*(x>0)\n",
    "        self.x = x\n",
    "        return self.f\n",
    "    \n",
    "    def backward_ldata(self,back_grad):\n",
    "        return (self.x>0)*back_grad\n",
    "    \n",
    "    def backward(self):\n",
    "        return \n",
    "    \n"
   ]
  },
  {
   "cell_type": "code",
   "execution_count": 19,
   "metadata": {
    "colab": {},
    "colab_type": "code",
    "id": "ppSfRLySpdfv"
   },
   "outputs": [],
   "source": [
    "# Your 2 layer MLP \n",
    "class MLP():\n",
    "    def __init__(self):\n",
    "        self.layers = []\n",
    "        self.loss = []\n",
    "    \n",
    "    def add_layer(self,layer):\n",
    "        self.layers.append(layer)\n",
    "            \n",
    "    def predict(self, input_data):\n",
    "        samples = input_data.shape[0]\n",
    "        result = []\n",
    "\n",
    "        # run network over all samples\n",
    "        \n",
    "        for sample in input_data:\n",
    "            # forward propagation\n",
    "            \n",
    "            scores = sample\n",
    "            for layer in self.layers:\n",
    "                scores = layer.forward(scores)\n",
    "#                 print(output,end=' ')\n",
    "                \n",
    "            result.append(np.argmax(scores))\n",
    "        return result\n",
    "\n",
    "    def plot_loss(self):\n",
    "        '''\n",
    "        Plots the loss curve\n",
    "        '''\n",
    "        fig = plt.figure(figsize=(10,10))\n",
    "        plt.plot(self.loss)\n",
    "        plt.xlabel(\"Iteration\")\n",
    "        plt.ylabel(\"logloss\")\n",
    "        plt.title(\"Loss curve for training\")\n",
    "        plt.show()  \n",
    "    \n",
    "    \n",
    "    def train(self,X,y,epochs=3,batch_size=50,eta=0.001):\n",
    "        batch_losses = []\n",
    "        min_loss =10000 \n",
    "        print(\"#### training Started ####\")\n",
    "        for epoch in trange(epochs):\n",
    "            print(\"epoch:{}   Total batches: {} \".format(epoch+1,X.shape[0]/batch_size))\n",
    "            minibatch = get_minibatch(X,y,batch_size)\n",
    "            loss =0\n",
    "            for input_x , input_y in minibatch:\n",
    "                for i in range(batch_size):\n",
    "                    input_x = input_x.reshape(input_x.shape[0],-1)\n",
    "                    scores = input_x[i]\n",
    "                    ####### forward ##########\n",
    "                    for layer in self.layers:\n",
    "                        scores = layer.forward(scores)\n",
    "#                         print(\"\\n\\n\\n\\n\\n\\n\",scores)\n",
    "                        \n",
    "                        \n",
    "                    ####### log(softmax calculation)\n",
    "#                     print(scores)\n",
    "                    loss += loss_function(scores,getOneHotEncoding(input_y[i]))\n",
    "                    grad_for_loss = loss_backward(scores,getOneHotEncoding(input_y[i]))\n",
    "                    \n",
    "                    ####### backward sample wise to calculate gradient_matrix #######\n",
    "                    for layer in reversed(self.layers):\n",
    "                        grad_for_loss = layer.backward_ldata(grad_for_loss)\n",
    "\n",
    "\n",
    "            \n",
    "                self.loss.append(loss[0]/batch_size)\n",
    "#                 print(\"loss: \", self.loss[-1])\n",
    "                min_loss = min(min_loss,self.loss[-1])\n",
    "                \n",
    "                ##### weights update for each layer using backward\n",
    "                for layer in self.layers:\n",
    "                    layer.backward()\n",
    "                loss=0\n",
    "            print(\"Minimum Loss after epoch {} is  {}\".format(epoch+1,min_loss))\n",
    "#         self.plot_loss()\n",
    "        print(\"Minimum Loss: \",min_loss)\n",
    "    \n",
    "        print(\"#### training Done ####\")\n",
    "        \n",
    "    def valid(self,X,y,epochs=3,batch_size=50,eta=0.001):\n",
    "        print(\"\\n#########validation Started###########\\n\")\n",
    "        correct =0\n",
    "        total = X.shape[0]\n",
    "        loss =0\n",
    "        \n",
    "        \n",
    "        minibatch = get_minibatch(X,y,batch_size)\n",
    "        for input_x , input_y in minibatch:\n",
    "            for i in range(batch_size):\n",
    "                input_x = input_x.reshape(input_x.shape[0],-1)\n",
    "                scores = input_x[i]\n",
    "                ####### forward ##########\n",
    "                for layer in self.layers:\n",
    "                    scores = layer.forward(scores)\n",
    "\n",
    "                loss += loss_function(scores,getOneHotEncoding(input_y[i]))/total\n",
    "                correct += (np.argmax(scores)==input_y[i])\n",
    "            \n",
    "        val_acc = correct/total\n",
    "        val_loss = loss\n",
    "        print(f'Batch size: {batch_size}, Learning rate: {eta}, Val loss: {val_loss[0]}, Val accuracy: {val_acc}')\n",
    "        print(\"\\n#########validation Done###########\\n\\n\\n\\n\")\n",
    "        \n",
    "        return {\n",
    "                    'batch_size': batch_size,\n",
    "                    'learning_rate': eta,\n",
    "                    'val_loss': val_loss[0],\n",
    "                    'val_accuracy': val_acc,\n",
    "                    'epochs': epochs\n",
    "                }\n",
    "\n",
    "        \n",
    "\n"
   ]
  },
  {
   "cell_type": "code",
   "execution_count": 20,
   "metadata": {
    "colab": {},
    "colab_type": "code",
    "id": "MyDbNSeRpdgL",
    "scrolled": false
   },
   "outputs": [
    {
     "name": "stdout",
     "output_type": "stream",
     "text": [
      "#### training Started ####\n"
     ]
    },
    {
     "name": "stderr",
     "output_type": "stream",
     "text": [
      "\r",
      "  0%|                                                     | 0/2 [00:00<?, ?it/s]"
     ]
    },
    {
     "name": "stdout",
     "output_type": "stream",
     "text": [
      "epoch:1   Total batches: 2700.0 \n"
     ]
    },
    {
     "name": "stderr",
     "output_type": "stream",
     "text": [
      "\r",
      " 50%|██████████████████████▌                      | 1/2 [01:27<01:27, 87.77s/it]"
     ]
    },
    {
     "name": "stdout",
     "output_type": "stream",
     "text": [
      "Minimum Loss after epoch 1 is  0.002226901060507558\n",
      "epoch:2   Total batches: 2700.0 \n"
     ]
    },
    {
     "name": "stderr",
     "output_type": "stream",
     "text": [
      "100%|█████████████████████████████████████████████| 2/2 [02:54<00:00, 87.42s/it]"
     ]
    },
    {
     "name": "stdout",
     "output_type": "stream",
     "text": [
      "Minimum Loss after epoch 2 is  0.0002697490593355667\n",
      "Minimum Loss:  0.0002697490593355667\n",
      "#### training Done ####\n"
     ]
    },
    {
     "name": "stderr",
     "output_type": "stream",
     "text": [
      "\n"
     ]
    }
   ],
   "source": [
    "####### hyperparameters ########\n",
    "epochs = 2\n",
    "batch_size =20\n",
    "output_size = 10\n",
    "input_size = 784\n",
    "eta = 0.01\n",
    "\n",
    "# Train the MLP\n",
    "mlp = MLP()\n",
    "\n",
    "##### add layer #####\n",
    "mlp.add_layer(Linear_Layer(input_size,512,batch_size,eta))\n",
    "mlp.add_layer(ReLU())\n",
    "\n",
    "mlp.add_layer(Linear_Layer(512,256,batch_size,eta))\n",
    "mlp.add_layer(ReLU())\n",
    "mlp.add_layer(Linear_Layer(256,10,batch_size,eta))\n",
    "\n",
    "\n",
    "mlp.train(train_imgs,train_labels,epochs,batch_size,eta)"
   ]
  },
  {
   "cell_type": "markdown",
   "metadata": {},
   "source": [
    "### Plot the training loss and training accuracy plot"
   ]
  },
  {
   "cell_type": "code",
   "execution_count": 21,
   "metadata": {},
   "outputs": [
    {
     "name": "stdout",
     "output_type": "stream",
     "text": [
      "Plot of training Loss is as follows: \n"
     ]
    },
    {
     "data": {
      "image/png": "[encoded data removed]",
      "text/plain": [
       "<Figure size 720x720 with 1 Axes>"
      ]
     },
     "metadata": {
      "needs_background": "light"
     },
     "output_type": "display_data"
    },
    {
     "name": "stdout",
     "output_type": "stream",
     "text": [
      "############ Training Accuracy Using MLP #################\n",
      "              precision    recall  f1-score   support\n",
      "\n",
      "           0       1.00      0.95      0.97      5546\n",
      "           1       0.99      0.98      0.99      6053\n",
      "           2       0.97      0.97      0.97      5320\n",
      "           3       0.93      0.99      0.96      5194\n",
      "           4       0.97      0.98      0.97      5229\n",
      "           5       0.98      0.94      0.96      5064\n",
      "           6       0.98      0.97      0.98      5403\n",
      "           7       0.97      0.97      0.97      5727\n",
      "           8       0.95      0.96      0.96      5248\n",
      "           9       0.94      0.97      0.95      5216\n",
      "\n",
      "    accuracy                           0.97     54000\n",
      "   macro avg       0.97      0.97      0.97     54000\n",
      "weighted avg       0.97      0.97      0.97     54000\n",
      "\n"
     ]
    },
    {
     "data": {
      "image/png": "[encoded data removed]",
      "text/plain": [
       "<Figure size 720x864 with 2 Axes>"
      ]
     },
     "metadata": {
      "needs_background": "light"
     },
     "output_type": "display_data"
    }
   ],
   "source": [
    "# Use the same utility functions defined in the previous question\n",
    "# WRITE CODE HERE\n",
    "\n",
    "from sklearn.metrics import classification_report, confusion_matrix\n",
    "print(\"Plot of training Loss is as follows: \")\n",
    "mlp.plot_loss()\n",
    "\n",
    "\n",
    "print(\"############ Training Accuracy Using MLP #################\")\n",
    "y_train_pred =mlp.predict(train_imgs.reshape(train_imgs.shape[0],-1))\n",
    "print(classification_report(y_train_pred,train_labels))\n",
    "plt.figure(figsize=(10,12))\n",
    "sns.heatmap(confusion_matrix(y_train_pred,train_labels))\n",
    "plt.show()\n",
    "\n",
    "\n",
    "\n",
    "\n"
   ]
  },
  {
   "cell_type": "markdown",
   "metadata": {
    "colab": {},
    "colab_type": "code",
    "id": "RH22BqefpdZ4"
   },
   "source": [
    "### Find the accuracy on the validation set"
   ]
  },
  {
   "cell_type": "code",
   "execution_count": 22,
   "metadata": {},
   "outputs": [
    {
     "name": "stdout",
     "output_type": "stream",
     "text": [
      "############ Validation Accuracy Using MLP #################\n",
      "              precision    recall  f1-score   support\n",
      "\n",
      "           0       0.99      0.94      0.96       655\n",
      "           1       0.99      0.98      0.98       713\n",
      "           2       0.95      0.97      0.96       602\n",
      "           3       0.92      0.98      0.95       590\n",
      "           4       0.97      0.97      0.97       545\n",
      "           5       0.96      0.93      0.95       552\n",
      "           6       0.97      0.96      0.97       590\n",
      "           7       0.97      0.94      0.96       596\n",
      "           8       0.92      0.93      0.93       570\n",
      "           9       0.93      0.96      0.94       587\n",
      "\n",
      "    accuracy                           0.96      6000\n",
      "   macro avg       0.96      0.96      0.96      6000\n",
      "weighted avg       0.96      0.96      0.96      6000\n",
      "\n"
     ]
    },
    {
     "data": {
      "text/plain": [
       "<Figure size 720x864 with 0 Axes>"
      ]
     },
     "metadata": {},
     "output_type": "display_data"
    }
   ],
   "source": [
    "# WRITE CODE HERE\n",
    "print(\"############ Validation Accuracy Using MLP #################\")\n",
    "y_val_pred = mlp.predict(val_imgs.reshape(val_imgs.shape[0],-1))\n",
    "plt.figure(figsize=(10,12))\n",
    "print(classification_report(y_val_pred,val_labels))\n",
    "# sns.heatmap(confusion_matrix(y_val_pred,val_labels))"
   ]
  },
  {
   "cell_type": "code",
   "execution_count": null,
   "metadata": {},
   "outputs": [],
   "source": []
  },
  {
   "cell_type": "code",
   "execution_count": 23,
   "metadata": {
    "colab": {},
    "colab_type": "code",
    "id": "7wMDvvA4pdbN"
   },
   "outputs": [
    {
     "name": "stdout",
     "output_type": "stream",
     "text": [
      "#### training Started ####\n"
     ]
    },
    {
     "name": "stderr",
     "output_type": "stream",
     "text": [
      "\r",
      "  0%|                                                    | 0/20 [00:00<?, ?it/s]"
     ]
    },
    {
     "name": "stdout",
     "output_type": "stream",
     "text": [
      "epoch:1   Total batches: 2700.0 \n"
     ]
    },
    {
     "name": "stderr",
     "output_type": "stream",
     "text": [
      "\r",
      "  5%|██▏                                         | 1/20 [01:25<27:10, 85.84s/it]"
     ]
    },
    {
     "name": "stdout",
     "output_type": "stream",
     "text": [
      "Minimum Loss after epoch 1 is  0.0010416226253118666\n",
      "epoch:2   Total batches: 2700.0 \n"
     ]
    },
    {
     "name": "stderr",
     "output_type": "stream",
     "text": [
      "\r",
      " 10%|████▍                                       | 2/20 [02:58<26:54, 89.67s/it]"
     ]
    },
    {
     "name": "stdout",
     "output_type": "stream",
     "text": [
      "Minimum Loss after epoch 2 is  0.0001674336388945541\n",
      "epoch:3   Total batches: 2700.0 \n"
     ]
    },
    {
     "name": "stderr",
     "output_type": "stream",
     "text": [
      "\r",
      " 15%|██████▌                                     | 3/20 [04:27<25:24, 89.66s/it]"
     ]
    },
    {
     "name": "stdout",
     "output_type": "stream",
     "text": [
      "Minimum Loss after epoch 3 is  7.315402871315158e-05\n",
      "epoch:4   Total batches: 2700.0 \n"
     ]
    },
    {
     "name": "stderr",
     "output_type": "stream",
     "text": [
      "\r",
      " 20%|████████▊                                   | 4/20 [05:54<23:35, 88.46s/it]"
     ]
    },
    {
     "name": "stdout",
     "output_type": "stream",
     "text": [
      "Minimum Loss after epoch 4 is  3.930303325185847e-05\n",
      "epoch:5   Total batches: 2700.0 \n"
     ]
    },
    {
     "name": "stderr",
     "output_type": "stream",
     "text": [
      "\r",
      " 25%|███████████                                 | 5/20 [07:20<21:55, 87.73s/it]"
     ]
    },
    {
     "name": "stdout",
     "output_type": "stream",
     "text": [
      "Minimum Loss after epoch 5 is  9.771428521077042e-06\n",
      "epoch:6   Total batches: 2700.0 \n"
     ]
    },
    {
     "name": "stderr",
     "output_type": "stream",
     "text": [
      "\r",
      " 30%|█████████████▏                              | 6/20 [08:47<20:20, 87.19s/it]"
     ]
    },
    {
     "name": "stdout",
     "output_type": "stream",
     "text": [
      "Minimum Loss after epoch 6 is  9.771428521077042e-06\n",
      "epoch:7   Total batches: 2700.0 \n"
     ]
    },
    {
     "name": "stderr",
     "output_type": "stream",
     "text": [
      "\r",
      " 35%|███████████████▍                            | 7/20 [10:12<18:46, 86.66s/it]"
     ]
    },
    {
     "name": "stdout",
     "output_type": "stream",
     "text": [
      "Minimum Loss after epoch 7 is  2.7247563663124197e-06\n",
      "epoch:8   Total batches: 2700.0 \n"
     ]
    },
    {
     "name": "stderr",
     "output_type": "stream",
     "text": [
      "\r",
      " 40%|█████████████████▌                          | 8/20 [11:38<17:16, 86.38s/it]"
     ]
    },
    {
     "name": "stdout",
     "output_type": "stream",
     "text": [
      "Minimum Loss after epoch 8 is  1.4386375770669702e-07\n",
      "epoch:9   Total batches: 2700.0 \n"
     ]
    },
    {
     "name": "stderr",
     "output_type": "stream",
     "text": [
      "\r",
      " 45%|███████████████████▊                        | 9/20 [13:06<15:54, 86.81s/it]"
     ]
    },
    {
     "name": "stdout",
     "output_type": "stream",
     "text": [
      "Minimum Loss after epoch 9 is  1.4386375770669702e-07\n",
      "epoch:10   Total batches: 2700.0 \n"
     ]
    },
    {
     "name": "stderr",
     "output_type": "stream",
     "text": [
      "\r",
      " 50%|█████████████████████▌                     | 10/20 [14:36<14:39, 87.91s/it]"
     ]
    },
    {
     "name": "stdout",
     "output_type": "stream",
     "text": [
      "Minimum Loss after epoch 10 is  7.618698383282663e-09\n",
      "epoch:11   Total batches: 2700.0 \n"
     ]
    },
    {
     "name": "stderr",
     "output_type": "stream",
     "text": [
      "\r",
      " 55%|███████████████████████▋                   | 11/20 [16:04<13:10, 87.78s/it]"
     ]
    },
    {
     "name": "stdout",
     "output_type": "stream",
     "text": [
      "Minimum Loss after epoch 11 is  7.618698383282663e-09\n",
      "epoch:12   Total batches: 2700.0 \n"
     ]
    },
    {
     "name": "stderr",
     "output_type": "stream",
     "text": [
      "\r",
      " 60%|█████████████████████████▊                 | 12/20 [17:31<11:42, 87.82s/it]"
     ]
    },
    {
     "name": "stdout",
     "output_type": "stream",
     "text": [
      "Minimum Loss after epoch 12 is  7.618698383282663e-09\n",
      "epoch:13   Total batches: 2700.0 \n"
     ]
    },
    {
     "name": "stderr",
     "output_type": "stream",
     "text": [
      "\r",
      " 65%|███████████████████████████▉               | 13/20 [18:55<10:06, 86.64s/it]"
     ]
    },
    {
     "name": "stdout",
     "output_type": "stream",
     "text": [
      "Minimum Loss after epoch 13 is  4.513532125827169e-09\n",
      "epoch:14   Total batches: 2700.0 \n"
     ]
    },
    {
     "name": "stderr",
     "output_type": "stream",
     "text": [
      "\r",
      " 70%|██████████████████████████████             | 14/20 [20:19<08:34, 85.68s/it]"
     ]
    },
    {
     "name": "stdout",
     "output_type": "stream",
     "text": [
      "Minimum Loss after epoch 14 is  1.5180264156811063e-09\n",
      "epoch:15   Total batches: 2700.0 \n"
     ]
    },
    {
     "name": "stderr",
     "output_type": "stream",
     "text": [
      "\r",
      " 75%|████████████████████████████████▎          | 15/20 [21:43<07:05, 85.13s/it]"
     ]
    },
    {
     "name": "stdout",
     "output_type": "stream",
     "text": [
      "Minimum Loss after epoch 15 is  1.5180264156811063e-09\n",
      "epoch:16   Total batches: 2700.0 \n"
     ]
    },
    {
     "name": "stderr",
     "output_type": "stream",
     "text": [
      "\r",
      " 80%|██████████████████████████████████▍        | 16/20 [23:08<05:40, 85.11s/it]"
     ]
    },
    {
     "name": "stdout",
     "output_type": "stream",
     "text": [
      "Minimum Loss after epoch 16 is  2.4107666973804954e-10\n",
      "epoch:17   Total batches: 2700.0 \n"
     ]
    },
    {
     "name": "stderr",
     "output_type": "stream",
     "text": [
      "\r",
      " 85%|████████████████████████████████████▌      | 17/20 [24:32<04:14, 84.90s/it]"
     ]
    },
    {
     "name": "stdout",
     "output_type": "stream",
     "text": [
      "Minimum Loss after epoch 17 is  2.4107666973804954e-10\n",
      "epoch:18   Total batches: 2700.0 \n"
     ]
    },
    {
     "name": "stderr",
     "output_type": "stream",
     "text": [
      "\r",
      " 90%|██████████████████████████████████████▋    | 18/20 [25:56<02:49, 84.51s/it]"
     ]
    },
    {
     "name": "stdout",
     "output_type": "stream",
     "text": [
      "Minimum Loss after epoch 18 is  6.798792639983731e-11\n",
      "epoch:19   Total batches: 2700.0 \n"
     ]
    },
    {
     "name": "stderr",
     "output_type": "stream",
     "text": [
      "\r",
      " 95%|████████████████████████████████████████▊  | 19/20 [27:25<01:25, 85.93s/it]"
     ]
    },
    {
     "name": "stdout",
     "output_type": "stream",
     "text": [
      "Minimum Loss after epoch 19 is  4.831157696116861e-12\n",
      "epoch:20   Total batches: 2700.0 \n"
     ]
    },
    {
     "name": "stderr",
     "output_type": "stream",
     "text": [
      "100%|███████████████████████████████████████████| 20/20 [28:50<00:00, 86.50s/it]"
     ]
    },
    {
     "name": "stdout",
     "output_type": "stream",
     "text": [
      "Minimum Loss after epoch 20 is  4.831157696116861e-12\n",
      "Minimum Loss:  4.831157696116861e-12\n",
      "#### training Done ####\n",
      "\n",
      "#########validation Started###########\n",
      "\n"
     ]
    },
    {
     "name": "stderr",
     "output_type": "stream",
     "text": [
      "\n"
     ]
    },
    {
     "name": "stdout",
     "output_type": "stream",
     "text": [
      "Batch size: 20, Learning rate: 0.01, Val loss: 0.24971678913742026, Val accuracy: 0.9615\n",
      "\n",
      "#########validation Done###########\n",
      "\n",
      "\n",
      "\n",
      "\n",
      "#### training Started ####\n"
     ]
    },
    {
     "name": "stderr",
     "output_type": "stream",
     "text": [
      "\r",
      "  0%|                                                    | 0/20 [00:00<?, ?it/s]"
     ]
    },
    {
     "name": "stdout",
     "output_type": "stream",
     "text": [
      "epoch:1   Total batches: 1080.0 \n"
     ]
    },
    {
     "name": "stderr",
     "output_type": "stream",
     "text": [
      "\r",
      "  5%|██▏                                         | 1/20 [01:21<25:40, 81.06s/it]"
     ]
    },
    {
     "name": "stdout",
     "output_type": "stream",
     "text": [
      "Minimum Loss after epoch 1 is  0.02114657130335786\n",
      "epoch:2   Total batches: 1080.0 \n"
     ]
    },
    {
     "name": "stderr",
     "output_type": "stream",
     "text": [
      "\r",
      " 10%|████▍                                       | 2/20 [02:42<24:19, 81.09s/it]"
     ]
    },
    {
     "name": "stdout",
     "output_type": "stream",
     "text": [
      "Minimum Loss after epoch 2 is  0.004071801649244798\n",
      "epoch:3   Total batches: 1080.0 \n"
     ]
    },
    {
     "name": "stderr",
     "output_type": "stream",
     "text": [
      "\r",
      " 15%|██████▌                                     | 3/20 [04:04<23:11, 81.83s/it]"
     ]
    },
    {
     "name": "stdout",
     "output_type": "stream",
     "text": [
      "Minimum Loss after epoch 3 is  0.0029937710008960928\n",
      "epoch:4   Total batches: 1080.0 \n"
     ]
    },
    {
     "name": "stderr",
     "output_type": "stream",
     "text": [
      "\r",
      " 20%|████████▊                                   | 4/20 [05:26<21:47, 81.74s/it]"
     ]
    },
    {
     "name": "stdout",
     "output_type": "stream",
     "text": [
      "Minimum Loss after epoch 4 is  0.0010397891296398142\n",
      "epoch:5   Total batches: 1080.0 \n"
     ]
    },
    {
     "name": "stderr",
     "output_type": "stream",
     "text": [
      "\r",
      " 25%|███████████                                 | 5/20 [06:47<20:21, 81.45s/it]"
     ]
    },
    {
     "name": "stdout",
     "output_type": "stream",
     "text": [
      "Minimum Loss after epoch 5 is  0.0003826938029020432\n",
      "epoch:6   Total batches: 1080.0 \n"
     ]
    },
    {
     "name": "stderr",
     "output_type": "stream",
     "text": [
      "\r",
      " 30%|█████████████▏                              | 6/20 [08:08<18:59, 81.43s/it]"
     ]
    },
    {
     "name": "stdout",
     "output_type": "stream",
     "text": [
      "Minimum Loss after epoch 6 is  0.00017559442018249882\n",
      "epoch:7   Total batches: 1080.0 \n"
     ]
    },
    {
     "name": "stderr",
     "output_type": "stream",
     "text": [
      "\r",
      " 35%|███████████████▍                            | 7/20 [09:30<17:38, 81.46s/it]"
     ]
    },
    {
     "name": "stdout",
     "output_type": "stream",
     "text": [
      "Minimum Loss after epoch 7 is  4.0107928294155216e-05\n",
      "epoch:8   Total batches: 1080.0 \n"
     ]
    },
    {
     "name": "stderr",
     "output_type": "stream",
     "text": [
      "\r",
      " 40%|█████████████████▌                          | 8/20 [10:51<16:15, 81.31s/it]"
     ]
    },
    {
     "name": "stdout",
     "output_type": "stream",
     "text": [
      "Minimum Loss after epoch 8 is  3.1680980992163656e-05\n",
      "epoch:9   Total batches: 1080.0 \n"
     ]
    },
    {
     "name": "stderr",
     "output_type": "stream",
     "text": [
      "\r",
      " 45%|███████████████████▊                        | 9/20 [12:14<14:59, 81.80s/it]"
     ]
    },
    {
     "name": "stdout",
     "output_type": "stream",
     "text": [
      "Minimum Loss after epoch 9 is  3.1680980992163656e-05\n",
      "epoch:10   Total batches: 1080.0 \n"
     ]
    },
    {
     "name": "stderr",
     "output_type": "stream",
     "text": [
      "\r",
      " 50%|█████████████████████▌                     | 10/20 [13:35<13:37, 81.77s/it]"
     ]
    },
    {
     "name": "stdout",
     "output_type": "stream",
     "text": [
      "Minimum Loss after epoch 10 is  3.1680980992163656e-05\n",
      "epoch:11   Total batches: 1080.0 \n"
     ]
    },
    {
     "name": "stderr",
     "output_type": "stream",
     "text": [
      "\r",
      " 55%|███████████████████████▋                   | 11/20 [15:04<12:33, 83.73s/it]"
     ]
    },
    {
     "name": "stdout",
     "output_type": "stream",
     "text": [
      "Minimum Loss after epoch 11 is  1.606521189028598e-05\n",
      "epoch:12   Total batches: 1080.0 \n"
     ]
    },
    {
     "name": "stderr",
     "output_type": "stream",
     "text": [
      "\r",
      " 60%|█████████████████████████▊                 | 12/20 [16:29<11:13, 84.16s/it]"
     ]
    },
    {
     "name": "stdout",
     "output_type": "stream",
     "text": [
      "Minimum Loss after epoch 12 is  4.0223345478196396e-06\n",
      "epoch:13   Total batches: 1080.0 \n"
     ]
    },
    {
     "name": "stderr",
     "output_type": "stream",
     "text": [
      "\r",
      " 65%|███████████████████████████▉               | 13/20 [17:52<09:47, 84.00s/it]"
     ]
    },
    {
     "name": "stdout",
     "output_type": "stream",
     "text": [
      "Minimum Loss after epoch 13 is  3.119141594147834e-06\n",
      "epoch:14   Total batches: 1080.0 \n"
     ]
    },
    {
     "name": "stderr",
     "output_type": "stream",
     "text": [
      "\r",
      " 70%|██████████████████████████████             | 14/20 [19:16<08:23, 83.86s/it]"
     ]
    },
    {
     "name": "stdout",
     "output_type": "stream",
     "text": [
      "Minimum Loss after epoch 14 is  1.5517241657647674e-06\n",
      "epoch:15   Total batches: 1080.0 \n"
     ]
    },
    {
     "name": "stderr",
     "output_type": "stream",
     "text": [
      "\r",
      " 75%|████████████████████████████████▎          | 15/20 [20:39<06:58, 83.76s/it]"
     ]
    },
    {
     "name": "stdout",
     "output_type": "stream",
     "text": [
      "Minimum Loss after epoch 15 is  1.5517241657647674e-06\n",
      "epoch:16   Total batches: 1080.0 \n"
     ]
    },
    {
     "name": "stderr",
     "output_type": "stream",
     "text": [
      "\r",
      " 80%|██████████████████████████████████▍        | 16/20 [22:02<05:34, 83.55s/it]"
     ]
    },
    {
     "name": "stdout",
     "output_type": "stream",
     "text": [
      "Minimum Loss after epoch 16 is  1.5517241657647674e-06\n",
      "epoch:17   Total batches: 1080.0 \n"
     ]
    },
    {
     "name": "stderr",
     "output_type": "stream",
     "text": [
      "\r",
      " 85%|████████████████████████████████████▌      | 17/20 [23:25<04:09, 83.28s/it]"
     ]
    },
    {
     "name": "stdout",
     "output_type": "stream",
     "text": [
      "Minimum Loss after epoch 17 is  1.5517241657647674e-06\n",
      "epoch:18   Total batches: 1080.0 \n"
     ]
    },
    {
     "name": "stderr",
     "output_type": "stream",
     "text": [
      "\r",
      " 90%|██████████████████████████████████████▋    | 18/20 [24:49<02:46, 83.49s/it]"
     ]
    },
    {
     "name": "stdout",
     "output_type": "stream",
     "text": [
      "Minimum Loss after epoch 18 is  2.8591068197414414e-07\n",
      "epoch:19   Total batches: 1080.0 \n"
     ]
    },
    {
     "name": "stderr",
     "output_type": "stream",
     "text": [
      "\r",
      " 95%|████████████████████████████████████████▊  | 19/20 [26:11<01:23, 83.09s/it]"
     ]
    },
    {
     "name": "stdout",
     "output_type": "stream",
     "text": [
      "Minimum Loss after epoch 19 is  1.0511632922316494e-07\n",
      "epoch:20   Total batches: 1080.0 \n"
     ]
    },
    {
     "name": "stderr",
     "output_type": "stream",
     "text": [
      "100%|███████████████████████████████████████████| 20/20 [27:34<00:00, 82.71s/it]"
     ]
    },
    {
     "name": "stdout",
     "output_type": "stream",
     "text": [
      "Minimum Loss after epoch 20 is  1.0511632922316494e-07\n",
      "Minimum Loss:  1.0511632922316494e-07\n",
      "#### training Done ####\n",
      "\n",
      "#########validation Started###########\n",
      "\n"
     ]
    },
    {
     "name": "stderr",
     "output_type": "stream",
     "text": [
      "\n"
     ]
    },
    {
     "name": "stdout",
     "output_type": "stream",
     "text": [
      "Batch size: 50, Learning rate: 0.01, Val loss: 0.10036837081243245, Val accuracy: 0.9818333333333333\n",
      "\n",
      "#########validation Done###########\n",
      "\n",
      "\n",
      "\n",
      "\n",
      "#### training Started ####\n"
     ]
    },
    {
     "name": "stderr",
     "output_type": "stream",
     "text": [
      "\r",
      "  0%|                                                    | 0/20 [00:00<?, ?it/s]"
     ]
    },
    {
     "name": "stdout",
     "output_type": "stream",
     "text": [
      "epoch:1   Total batches: 2700.0 \n"
     ]
    },
    {
     "name": "stderr",
     "output_type": "stream",
     "text": [
      "\r",
      "  5%|██▏                                         | 1/20 [01:25<27:04, 85.52s/it]"
     ]
    },
    {
     "name": "stdout",
     "output_type": "stream",
     "text": [
      "Minimum Loss after epoch 1 is  1.0562171589768408\n",
      "epoch:2   Total batches: 2700.0 \n"
     ]
    },
    {
     "name": "stderr",
     "output_type": "stream",
     "text": [
      "\r",
      " 10%|████▍                                       | 2/20 [02:50<25:35, 85.29s/it]"
     ]
    },
    {
     "name": "stdout",
     "output_type": "stream",
     "text": [
      "Minimum Loss after epoch 2 is  0.056530133913219635\n",
      "epoch:3   Total batches: 2700.0 \n"
     ]
    },
    {
     "name": "stderr",
     "output_type": "stream",
     "text": [
      "\r",
      " 15%|██████▌                                     | 3/20 [04:14<24:01, 84.81s/it]"
     ]
    },
    {
     "name": "stdout",
     "output_type": "stream",
     "text": [
      "Minimum Loss after epoch 3 is  0.01180651304355016\n",
      "epoch:4   Total batches: 2700.0 \n"
     ]
    },
    {
     "name": "stderr",
     "output_type": "stream",
     "text": [
      "\r",
      " 20%|████████▊                                   | 4/20 [05:40<22:38, 84.93s/it]"
     ]
    },
    {
     "name": "stdout",
     "output_type": "stream",
     "text": [
      "Minimum Loss after epoch 4 is  0.0026633679574651127\n",
      "epoch:5   Total batches: 2700.0 \n"
     ]
    },
    {
     "name": "stderr",
     "output_type": "stream",
     "text": [
      "\r",
      " 25%|███████████                                 | 5/20 [07:06<21:24, 85.62s/it]"
     ]
    },
    {
     "name": "stdout",
     "output_type": "stream",
     "text": [
      "Minimum Loss after epoch 5 is  0.0015428327063828462\n",
      "epoch:6   Total batches: 2700.0 \n"
     ]
    },
    {
     "name": "stderr",
     "output_type": "stream",
     "text": [
      "\r",
      " 30%|█████████████▏                              | 6/20 [08:33<20:01, 85.82s/it]"
     ]
    },
    {
     "name": "stdout",
     "output_type": "stream",
     "text": [
      "Minimum Loss after epoch 6 is  0.0012589635338326132\n",
      "epoch:7   Total batches: 2700.0 \n"
     ]
    },
    {
     "name": "stderr",
     "output_type": "stream",
     "text": [
      "\r",
      " 35%|███████████████▍                            | 7/20 [09:57<18:30, 85.43s/it]"
     ]
    },
    {
     "name": "stdout",
     "output_type": "stream",
     "text": [
      "Minimum Loss after epoch 7 is  0.0005629781670939416\n",
      "epoch:8   Total batches: 2700.0 \n"
     ]
    },
    {
     "name": "stderr",
     "output_type": "stream",
     "text": [
      "\r",
      " 40%|█████████████████▌                          | 8/20 [11:22<17:03, 85.27s/it]"
     ]
    },
    {
     "name": "stdout",
     "output_type": "stream",
     "text": [
      "Minimum Loss after epoch 8 is  0.0004247388008105091\n",
      "epoch:9   Total batches: 2700.0 \n"
     ]
    },
    {
     "name": "stderr",
     "output_type": "stream",
     "text": [
      "\r",
      " 45%|███████████████████▊                        | 9/20 [12:47<15:36, 85.15s/it]"
     ]
    },
    {
     "name": "stdout",
     "output_type": "stream",
     "text": [
      "Minimum Loss after epoch 9 is  0.00015657070932189042\n",
      "epoch:10   Total batches: 2700.0 \n"
     ]
    },
    {
     "name": "stderr",
     "output_type": "stream",
     "text": [
      "\r",
      " 50%|█████████████████████▌                     | 10/20 [14:12<14:09, 84.95s/it]"
     ]
    },
    {
     "name": "stdout",
     "output_type": "stream",
     "text": [
      "Minimum Loss after epoch 10 is  0.00015657070932189042\n",
      "epoch:11   Total batches: 2700.0 \n"
     ]
    },
    {
     "name": "stderr",
     "output_type": "stream",
     "text": [
      "\r",
      " 55%|███████████████████████▋                   | 11/20 [15:36<12:44, 84.95s/it]"
     ]
    },
    {
     "name": "stdout",
     "output_type": "stream",
     "text": [
      "Minimum Loss after epoch 11 is  8.970847114087022e-05\n",
      "epoch:12   Total batches: 2700.0 \n"
     ]
    },
    {
     "name": "stderr",
     "output_type": "stream",
     "text": [
      "\r",
      " 60%|█████████████████████████▊                 | 12/20 [17:02<11:21, 85.21s/it]"
     ]
    },
    {
     "name": "stdout",
     "output_type": "stream",
     "text": [
      "Minimum Loss after epoch 12 is  7.157006713454095e-05\n",
      "epoch:13   Total batches: 2700.0 \n"
     ]
    },
    {
     "name": "stderr",
     "output_type": "stream",
     "text": [
      "\r",
      " 65%|███████████████████████████▉               | 13/20 [18:28<09:58, 85.48s/it]"
     ]
    },
    {
     "name": "stdout",
     "output_type": "stream",
     "text": [
      "Minimum Loss after epoch 13 is  2.505651649977736e-05\n",
      "epoch:14   Total batches: 2700.0 \n"
     ]
    },
    {
     "name": "stderr",
     "output_type": "stream",
     "text": [
      "\r",
      " 70%|██████████████████████████████             | 14/20 [19:53<08:31, 85.19s/it]"
     ]
    },
    {
     "name": "stdout",
     "output_type": "stream",
     "text": [
      "Minimum Loss after epoch 14 is  2.505651649977736e-05\n",
      "epoch:15   Total batches: 2700.0 \n"
     ]
    },
    {
     "name": "stderr",
     "output_type": "stream",
     "text": [
      "\r",
      " 75%|████████████████████████████████▎          | 15/20 [21:18<07:05, 85.08s/it]"
     ]
    },
    {
     "name": "stdout",
     "output_type": "stream",
     "text": [
      "Minimum Loss after epoch 15 is  1.2501413255971982e-05\n",
      "epoch:16   Total batches: 2700.0 \n"
     ]
    },
    {
     "name": "stderr",
     "output_type": "stream",
     "text": [
      "\r",
      " 80%|██████████████████████████████████▍        | 16/20 [22:43<05:40, 85.15s/it]"
     ]
    },
    {
     "name": "stdout",
     "output_type": "stream",
     "text": [
      "Minimum Loss after epoch 16 is  4.696669905079887e-06\n",
      "epoch:17   Total batches: 2700.0 \n"
     ]
    },
    {
     "name": "stderr",
     "output_type": "stream",
     "text": [
      "\r",
      " 85%|████████████████████████████████████▌      | 17/20 [24:09<04:15, 85.26s/it]"
     ]
    },
    {
     "name": "stdout",
     "output_type": "stream",
     "text": [
      "Minimum Loss after epoch 17 is  4.696669905079887e-06\n",
      "epoch:18   Total batches: 2700.0 \n"
     ]
    },
    {
     "name": "stderr",
     "output_type": "stream",
     "text": [
      "\r",
      " 90%|██████████████████████████████████████▋    | 18/20 [25:34<02:50, 85.23s/it]"
     ]
    },
    {
     "name": "stdout",
     "output_type": "stream",
     "text": [
      "Minimum Loss after epoch 18 is  4.6457937813215725e-06\n",
      "epoch:19   Total batches: 2700.0 \n"
     ]
    },
    {
     "name": "stderr",
     "output_type": "stream",
     "text": [
      "\r",
      " 95%|████████████████████████████████████████▊  | 19/20 [27:00<01:25, 85.48s/it]"
     ]
    },
    {
     "name": "stdout",
     "output_type": "stream",
     "text": [
      "Minimum Loss after epoch 19 is  4.6457937813215725e-06\n",
      "epoch:20   Total batches: 2700.0 \n"
     ]
    },
    {
     "name": "stderr",
     "output_type": "stream",
     "text": [
      "100%|███████████████████████████████████████████| 20/20 [28:25<00:00, 85.30s/it]"
     ]
    },
    {
     "name": "stdout",
     "output_type": "stream",
     "text": [
      "Minimum Loss after epoch 20 is  4.6457937813215725e-06\n",
      "Minimum Loss:  4.6457937813215725e-06\n",
      "#### training Done ####\n",
      "\n",
      "#########validation Started###########\n",
      "\n"
     ]
    },
    {
     "name": "stderr",
     "output_type": "stream",
     "text": [
      "\n"
     ]
    },
    {
     "name": "stdout",
     "output_type": "stream",
     "text": [
      "Batch size: 20, Learning rate: 0.001, Val loss: 0.09781944724525686, Val accuracy: 0.9758333333333333\n",
      "\n",
      "#########validation Done###########\n",
      "\n",
      "\n",
      "\n",
      "\n",
      "#### training Started ####\n"
     ]
    },
    {
     "name": "stderr",
     "output_type": "stream",
     "text": [
      "\r",
      "  0%|                                                    | 0/20 [00:00<?, ?it/s]"
     ]
    },
    {
     "name": "stdout",
     "output_type": "stream",
     "text": [
      "epoch:1   Total batches: 1080.0 \n"
     ]
    },
    {
     "name": "stderr",
     "output_type": "stream",
     "text": [
      "\r",
      "  5%|██▏                                         | 1/20 [01:22<25:59, 82.11s/it]"
     ]
    },
    {
     "name": "stdout",
     "output_type": "stream",
     "text": [
      "Minimum Loss after epoch 1 is  1.8409429652243574\n",
      "epoch:2   Total batches: 1080.0 \n"
     ]
    },
    {
     "name": "stderr",
     "output_type": "stream",
     "text": [
      "\r",
      " 10%|████▍                                       | 2/20 [02:45<24:54, 83.02s/it]"
     ]
    },
    {
     "name": "stdout",
     "output_type": "stream",
     "text": [
      "Minimum Loss after epoch 2 is  1.544555876869909\n",
      "epoch:3   Total batches: 1080.0 \n"
     ]
    },
    {
     "name": "stderr",
     "output_type": "stream",
     "text": [
      "\r",
      " 15%|██████▌                                     | 3/20 [04:08<23:27, 82.78s/it]"
     ]
    },
    {
     "name": "stdout",
     "output_type": "stream",
     "text": [
      "Minimum Loss after epoch 3 is  1.00410961442972\n",
      "epoch:4   Total batches: 1080.0 \n"
     ]
    },
    {
     "name": "stderr",
     "output_type": "stream",
     "text": [
      "\r",
      " 20%|████████▊                                   | 4/20 [05:30<22:00, 82.56s/it]"
     ]
    },
    {
     "name": "stdout",
     "output_type": "stream",
     "text": [
      "Minimum Loss after epoch 4 is  0.48412053294600016\n",
      "epoch:5   Total batches: 1080.0 \n"
     ]
    },
    {
     "name": "stderr",
     "output_type": "stream",
     "text": [
      "\r",
      " 25%|███████████                                 | 5/20 [06:52<20:36, 82.41s/it]"
     ]
    },
    {
     "name": "stdout",
     "output_type": "stream",
     "text": [
      "Minimum Loss after epoch 5 is  0.08696209842243441\n",
      "epoch:6   Total batches: 1080.0 \n"
     ]
    },
    {
     "name": "stderr",
     "output_type": "stream",
     "text": [
      "\r",
      " 30%|█████████████▏                              | 6/20 [08:16<19:18, 82.74s/it]"
     ]
    },
    {
     "name": "stdout",
     "output_type": "stream",
     "text": [
      "Minimum Loss after epoch 6 is  0.035526590543383384\n",
      "epoch:7   Total batches: 1080.0 \n"
     ]
    },
    {
     "name": "stderr",
     "output_type": "stream",
     "text": [
      "\r",
      " 35%|███████████████▍                            | 7/20 [09:38<17:54, 82.64s/it]"
     ]
    },
    {
     "name": "stdout",
     "output_type": "stream",
     "text": [
      "Minimum Loss after epoch 7 is  0.02187165500822049\n",
      "epoch:8   Total batches: 1080.0 \n"
     ]
    },
    {
     "name": "stderr",
     "output_type": "stream",
     "text": [
      "\r",
      " 40%|█████████████████▌                          | 8/20 [11:00<16:31, 82.60s/it]"
     ]
    },
    {
     "name": "stdout",
     "output_type": "stream",
     "text": [
      "Minimum Loss after epoch 8 is  0.01954434352521661\n",
      "epoch:9   Total batches: 1080.0 \n"
     ]
    },
    {
     "name": "stderr",
     "output_type": "stream",
     "text": [
      "\r",
      " 45%|███████████████████▊                        | 9/20 [12:23<15:07, 82.45s/it]"
     ]
    },
    {
     "name": "stdout",
     "output_type": "stream",
     "text": [
      "Minimum Loss after epoch 9 is  0.012952235801522018\n",
      "epoch:10   Total batches: 1080.0 \n"
     ]
    },
    {
     "name": "stderr",
     "output_type": "stream",
     "text": [
      "\r",
      " 50%|█████████████████████▌                     | 10/20 [13:45<13:42, 82.30s/it]"
     ]
    },
    {
     "name": "stdout",
     "output_type": "stream",
     "text": [
      "Minimum Loss after epoch 10 is  0.008216585209513792\n",
      "epoch:11   Total batches: 1080.0 \n"
     ]
    },
    {
     "name": "stderr",
     "output_type": "stream",
     "text": [
      "\r",
      " 55%|███████████████████████▋                   | 11/20 [15:07<12:20, 82.32s/it]"
     ]
    },
    {
     "name": "stdout",
     "output_type": "stream",
     "text": [
      "Minimum Loss after epoch 11 is  0.008128688230875803\n",
      "epoch:12   Total batches: 1080.0 \n"
     ]
    },
    {
     "name": "stderr",
     "output_type": "stream",
     "text": [
      "\r",
      " 60%|█████████████████████████▊                 | 12/20 [16:30<10:59, 82.45s/it]"
     ]
    },
    {
     "name": "stdout",
     "output_type": "stream",
     "text": [
      "Minimum Loss after epoch 12 is  0.004235386429466441\n",
      "epoch:13   Total batches: 1080.0 \n"
     ]
    },
    {
     "name": "stderr",
     "output_type": "stream",
     "text": [
      "\r",
      " 65%|███████████████████████████▉               | 13/20 [17:53<09:39, 82.84s/it]"
     ]
    },
    {
     "name": "stdout",
     "output_type": "stream",
     "text": [
      "Minimum Loss after epoch 13 is  0.004075996571711898\n",
      "epoch:14   Total batches: 1080.0 \n"
     ]
    },
    {
     "name": "stderr",
     "output_type": "stream",
     "text": [
      "\r",
      " 70%|██████████████████████████████             | 14/20 [19:16<08:15, 82.62s/it]"
     ]
    },
    {
     "name": "stdout",
     "output_type": "stream",
     "text": [
      "Minimum Loss after epoch 14 is  0.0019304154041210175\n",
      "epoch:15   Total batches: 1080.0 \n"
     ]
    },
    {
     "name": "stderr",
     "output_type": "stream",
     "text": [
      "\r",
      " 75%|████████████████████████████████▎          | 15/20 [20:37<06:51, 82.39s/it]"
     ]
    },
    {
     "name": "stdout",
     "output_type": "stream",
     "text": [
      "Minimum Loss after epoch 15 is  0.0019304154041210175\n",
      "epoch:16   Total batches: 1080.0 \n"
     ]
    },
    {
     "name": "stderr",
     "output_type": "stream",
     "text": [
      "\r",
      " 80%|██████████████████████████████████▍        | 16/20 [22:02<05:32, 83.21s/it]"
     ]
    },
    {
     "name": "stdout",
     "output_type": "stream",
     "text": [
      "Minimum Loss after epoch 16 is  0.0019253820542025934\n",
      "epoch:17   Total batches: 1080.0 \n"
     ]
    },
    {
     "name": "stderr",
     "output_type": "stream",
     "text": [
      "\r",
      " 85%|████████████████████████████████████▌      | 17/20 [23:27<04:11, 83.69s/it]"
     ]
    },
    {
     "name": "stdout",
     "output_type": "stream",
     "text": [
      "Minimum Loss after epoch 17 is  0.001870760897184205\n",
      "epoch:18   Total batches: 1080.0 \n"
     ]
    },
    {
     "name": "stderr",
     "output_type": "stream",
     "text": [
      "\r",
      " 90%|██████████████████████████████████████▋    | 18/20 [24:48<02:45, 82.90s/it]"
     ]
    },
    {
     "name": "stdout",
     "output_type": "stream",
     "text": [
      "Minimum Loss after epoch 18 is  0.001212861627658519\n",
      "epoch:19   Total batches: 1080.0 \n"
     ]
    },
    {
     "name": "stderr",
     "output_type": "stream",
     "text": [
      "\r",
      " 95%|████████████████████████████████████████▊  | 19/20 [26:10<01:22, 82.43s/it]"
     ]
    },
    {
     "name": "stdout",
     "output_type": "stream",
     "text": [
      "Minimum Loss after epoch 19 is  0.001212861627658519\n",
      "epoch:20   Total batches: 1080.0 \n"
     ]
    },
    {
     "name": "stderr",
     "output_type": "stream",
     "text": [
      "100%|███████████████████████████████████████████| 20/20 [27:32<00:00, 82.61s/it]"
     ]
    },
    {
     "name": "stdout",
     "output_type": "stream",
     "text": [
      "Minimum Loss after epoch 20 is  0.001212861627658519\n",
      "Minimum Loss:  0.001212861627658519\n",
      "#### training Done ####\n",
      "\n",
      "#########validation Started###########\n",
      "\n"
     ]
    },
    {
     "name": "stderr",
     "output_type": "stream",
     "text": [
      "\n"
     ]
    },
    {
     "name": "stdout",
     "output_type": "stream",
     "text": [
      "Batch size: 50, Learning rate: 0.001, Val loss: 0.09849921475169572, Val accuracy: 0.9716666666666667\n",
      "\n",
      "#########validation Done###########\n",
      "\n",
      "\n",
      "\n",
      "\n",
      "#### training Started ####\n"
     ]
    },
    {
     "name": "stderr",
     "output_type": "stream",
     "text": [
      "\r",
      "  0%|                                                    | 0/20 [00:00<?, ?it/s]"
     ]
    },
    {
     "name": "stdout",
     "output_type": "stream",
     "text": [
      "epoch:1   Total batches: 2700.0 \n"
     ]
    },
    {
     "name": "stderr",
     "output_type": "stream",
     "text": [
      "\r",
      "  5%|██▏                                         | 1/20 [01:27<27:35, 87.15s/it]"
     ]
    },
    {
     "name": "stdout",
     "output_type": "stream",
     "text": [
      "Minimum Loss after epoch 1 is  1.8406799281912878\n",
      "epoch:2   Total batches: 2700.0 \n"
     ]
    },
    {
     "name": "stderr",
     "output_type": "stream",
     "text": [
      "\r",
      " 10%|████▍                                       | 2/20 [02:52<25:48, 86.05s/it]"
     ]
    },
    {
     "name": "stdout",
     "output_type": "stream",
     "text": [
      "Minimum Loss after epoch 2 is  1.5783284469072334\n",
      "epoch:3   Total batches: 2700.0 \n"
     ]
    },
    {
     "name": "stderr",
     "output_type": "stream",
     "text": [
      "\r",
      " 15%|██████▌                                     | 3/20 [04:18<24:20, 85.90s/it]"
     ]
    },
    {
     "name": "stdout",
     "output_type": "stream",
     "text": [
      "Minimum Loss after epoch 3 is  1.5783284469072334\n",
      "epoch:4   Total batches: 2700.0 \n"
     ]
    },
    {
     "name": "stderr",
     "output_type": "stream",
     "text": [
      "\r",
      " 20%|████████▊                                   | 4/20 [05:43<22:49, 85.58s/it]"
     ]
    },
    {
     "name": "stdout",
     "output_type": "stream",
     "text": [
      "Minimum Loss after epoch 4 is  1.567001763511163\n",
      "epoch:5   Total batches: 2700.0 \n"
     ]
    },
    {
     "name": "stderr",
     "output_type": "stream",
     "text": [
      "\r",
      " 25%|███████████                                 | 5/20 [07:08<21:21, 85.42s/it]"
     ]
    },
    {
     "name": "stdout",
     "output_type": "stream",
     "text": [
      "Minimum Loss after epoch 5 is  1.567001763511163\n",
      "epoch:6   Total batches: 2700.0 \n"
     ]
    },
    {
     "name": "stderr",
     "output_type": "stream",
     "text": [
      "\r",
      " 30%|█████████████▏                              | 6/20 [08:33<19:53, 85.28s/it]"
     ]
    },
    {
     "name": "stdout",
     "output_type": "stream",
     "text": [
      "Minimum Loss after epoch 6 is  1.567001763511163\n",
      "epoch:7   Total batches: 2700.0 \n"
     ]
    },
    {
     "name": "stderr",
     "output_type": "stream",
     "text": [
      "\r",
      " 35%|███████████████▍                            | 7/20 [09:58<18:28, 85.26s/it]"
     ]
    },
    {
     "name": "stdout",
     "output_type": "stream",
     "text": [
      "Minimum Loss after epoch 7 is  1.2838032305850722\n",
      "epoch:8   Total batches: 2700.0 \n"
     ]
    },
    {
     "name": "stderr",
     "output_type": "stream",
     "text": [
      "\r",
      " 40%|█████████████████▌                          | 8/20 [11:26<17:12, 86.00s/it]"
     ]
    },
    {
     "name": "stdout",
     "output_type": "stream",
     "text": [
      "Minimum Loss after epoch 8 is  1.2333775751127942\n",
      "epoch:9   Total batches: 2700.0 \n"
     ]
    },
    {
     "name": "stderr",
     "output_type": "stream",
     "text": [
      "\r",
      " 45%|███████████████████▊                        | 9/20 [12:51<15:44, 85.87s/it]"
     ]
    },
    {
     "name": "stdout",
     "output_type": "stream",
     "text": [
      "Minimum Loss after epoch 9 is  1.1311739114505595\n",
      "epoch:10   Total batches: 2700.0 \n"
     ]
    },
    {
     "name": "stderr",
     "output_type": "stream",
     "text": [
      "\r",
      " 50%|█████████████████████▌                     | 10/20 [14:16<14:15, 85.58s/it]"
     ]
    },
    {
     "name": "stdout",
     "output_type": "stream",
     "text": [
      "Minimum Loss after epoch 10 is  1.0035000172537192\n",
      "epoch:11   Total batches: 2700.0 \n"
     ]
    },
    {
     "name": "stderr",
     "output_type": "stream",
     "text": [
      "\r",
      " 55%|███████████████████████▋                   | 11/20 [15:41<12:48, 85.34s/it]"
     ]
    },
    {
     "name": "stdout",
     "output_type": "stream",
     "text": [
      "Minimum Loss after epoch 11 is  0.6482233979726983\n",
      "epoch:12   Total batches: 2700.0 \n"
     ]
    },
    {
     "name": "stderr",
     "output_type": "stream",
     "text": [
      "\r",
      " 60%|█████████████████████████▊                 | 12/20 [17:06<11:22, 85.28s/it]"
     ]
    },
    {
     "name": "stdout",
     "output_type": "stream",
     "text": [
      "Minimum Loss after epoch 12 is  0.47514894226941723\n",
      "epoch:13   Total batches: 2700.0 \n"
     ]
    },
    {
     "name": "stderr",
     "output_type": "stream",
     "text": [
      "\r",
      " 65%|███████████████████████████▉               | 13/20 [18:31<09:55, 85.14s/it]"
     ]
    },
    {
     "name": "stdout",
     "output_type": "stream",
     "text": [
      "Minimum Loss after epoch 13 is  0.47514894226941723\n",
      "epoch:14   Total batches: 2700.0 \n"
     ]
    },
    {
     "name": "stderr",
     "output_type": "stream",
     "text": [
      "\r",
      " 70%|██████████████████████████████             | 14/20 [19:56<08:30, 85.06s/it]"
     ]
    },
    {
     "name": "stdout",
     "output_type": "stream",
     "text": [
      "Minimum Loss after epoch 14 is  0.4324491333025768\n",
      "epoch:15   Total batches: 2700.0 \n"
     ]
    },
    {
     "name": "stderr",
     "output_type": "stream",
     "text": [
      "\r",
      " 75%|████████████████████████████████▎          | 15/20 [21:22<07:06, 85.40s/it]"
     ]
    },
    {
     "name": "stdout",
     "output_type": "stream",
     "text": [
      "Minimum Loss after epoch 15 is  0.238490572419074\n",
      "epoch:16   Total batches: 2700.0 \n"
     ]
    },
    {
     "name": "stderr",
     "output_type": "stream",
     "text": [
      "\r",
      " 80%|██████████████████████████████████▍        | 16/20 [22:47<05:41, 85.33s/it]"
     ]
    },
    {
     "name": "stdout",
     "output_type": "stream",
     "text": [
      "Minimum Loss after epoch 16 is  0.2113745880583881\n",
      "epoch:17   Total batches: 2700.0 \n"
     ]
    },
    {
     "name": "stderr",
     "output_type": "stream",
     "text": [
      "\r",
      " 85%|████████████████████████████████████▌      | 17/20 [24:12<04:15, 85.19s/it]"
     ]
    },
    {
     "name": "stdout",
     "output_type": "stream",
     "text": [
      "Minimum Loss after epoch 17 is  0.13849759118690852\n",
      "epoch:18   Total batches: 2700.0 \n"
     ]
    },
    {
     "name": "stderr",
     "output_type": "stream",
     "text": [
      "\r",
      " 90%|██████████████████████████████████████▋    | 18/20 [25:37<02:50, 85.17s/it]"
     ]
    },
    {
     "name": "stdout",
     "output_type": "stream",
     "text": [
      "Minimum Loss after epoch 18 is  0.09950238873951474\n",
      "epoch:19   Total batches: 2700.0 \n"
     ]
    },
    {
     "name": "stderr",
     "output_type": "stream",
     "text": [
      "\r",
      " 95%|████████████████████████████████████████▊  | 19/20 [27:02<01:25, 85.11s/it]"
     ]
    },
    {
     "name": "stdout",
     "output_type": "stream",
     "text": [
      "Minimum Loss after epoch 19 is  0.02422709314165914\n",
      "epoch:20   Total batches: 2700.0 \n"
     ]
    },
    {
     "name": "stderr",
     "output_type": "stream",
     "text": [
      "100%|███████████████████████████████████████████| 20/20 [28:28<00:00, 85.41s/it]"
     ]
    },
    {
     "name": "stdout",
     "output_type": "stream",
     "text": [
      "Minimum Loss after epoch 20 is  0.02368188296107987\n",
      "Minimum Loss:  0.02368188296107987\n",
      "#### training Done ####\n",
      "\n",
      "#########validation Started###########\n",
      "\n"
     ]
    },
    {
     "name": "stderr",
     "output_type": "stream",
     "text": [
      "\n"
     ]
    },
    {
     "name": "stdout",
     "output_type": "stream",
     "text": [
      "Batch size: 20, Learning rate: 0.0001, Val loss: 0.2761667628286763, Val accuracy: 0.9233333333333333\n",
      "\n",
      "#########validation Done###########\n",
      "\n",
      "\n",
      "\n",
      "\n",
      "#### training Started ####\n"
     ]
    },
    {
     "name": "stderr",
     "output_type": "stream",
     "text": [
      "\r",
      "  0%|                                                    | 0/20 [00:00<?, ?it/s]"
     ]
    },
    {
     "name": "stdout",
     "output_type": "stream",
     "text": [
      "epoch:1   Total batches: 1080.0 \n"
     ]
    },
    {
     "name": "stderr",
     "output_type": "stream",
     "text": [
      "\r",
      "  5%|██▏                                         | 1/20 [01:20<25:31, 80.61s/it]"
     ]
    },
    {
     "name": "stdout",
     "output_type": "stream",
     "text": [
      "Minimum Loss after epoch 1 is  2.2367673860151838\n",
      "epoch:2   Total batches: 1080.0 \n"
     ]
    },
    {
     "name": "stderr",
     "output_type": "stream",
     "text": [
      "\r",
      " 10%|████▍                                       | 2/20 [02:42<24:25, 81.42s/it]"
     ]
    },
    {
     "name": "stdout",
     "output_type": "stream",
     "text": [
      "Minimum Loss after epoch 2 is  2.0967247593800904\n",
      "epoch:3   Total batches: 1080.0 \n"
     ]
    },
    {
     "name": "stderr",
     "output_type": "stream",
     "text": [
      "\r",
      " 15%|██████▌                                     | 3/20 [04:02<22:53, 80.77s/it]"
     ]
    },
    {
     "name": "stdout",
     "output_type": "stream",
     "text": [
      "Minimum Loss after epoch 3 is  1.9113896835776347\n",
      "epoch:4   Total batches: 1080.0 \n"
     ]
    },
    {
     "name": "stderr",
     "output_type": "stream",
     "text": [
      "\r",
      " 20%|████████▊                                   | 4/20 [05:23<21:32, 80.75s/it]"
     ]
    },
    {
     "name": "stdout",
     "output_type": "stream",
     "text": [
      "Minimum Loss after epoch 4 is  1.8465604849764892\n",
      "epoch:5   Total batches: 1080.0 \n"
     ]
    },
    {
     "name": "stderr",
     "output_type": "stream",
     "text": [
      "\r",
      " 25%|███████████                                 | 5/20 [06:45<20:19, 81.33s/it]"
     ]
    },
    {
     "name": "stdout",
     "output_type": "stream",
     "text": [
      "Minimum Loss after epoch 5 is  1.8465604849764892\n",
      "epoch:6   Total batches: 1080.0 \n"
     ]
    },
    {
     "name": "stderr",
     "output_type": "stream",
     "text": [
      "\r",
      " 30%|█████████████▏                              | 6/20 [08:05<18:53, 80.99s/it]"
     ]
    },
    {
     "name": "stdout",
     "output_type": "stream",
     "text": [
      "Minimum Loss after epoch 6 is  1.8167534589321541\n",
      "epoch:7   Total batches: 1080.0 \n"
     ]
    },
    {
     "name": "stderr",
     "output_type": "stream",
     "text": [
      "\r",
      " 35%|███████████████▍                            | 7/20 [09:25<17:28, 80.62s/it]"
     ]
    },
    {
     "name": "stdout",
     "output_type": "stream",
     "text": [
      "Minimum Loss after epoch 7 is  1.7550894409155944\n",
      "epoch:8   Total batches: 1080.0 \n"
     ]
    },
    {
     "name": "stderr",
     "output_type": "stream",
     "text": [
      "\r",
      " 40%|█████████████████▌                          | 8/20 [10:46<16:07, 80.63s/it]"
     ]
    },
    {
     "name": "stdout",
     "output_type": "stream",
     "text": [
      "Minimum Loss after epoch 8 is  1.7550894409155944\n",
      "epoch:9   Total batches: 1080.0 \n"
     ]
    },
    {
     "name": "stderr",
     "output_type": "stream",
     "text": [
      "\r",
      " 45%|███████████████████▊                        | 9/20 [12:08<14:50, 80.95s/it]"
     ]
    },
    {
     "name": "stdout",
     "output_type": "stream",
     "text": [
      "Minimum Loss after epoch 9 is  1.7550894409155944\n",
      "epoch:10   Total batches: 1080.0 \n"
     ]
    },
    {
     "name": "stderr",
     "output_type": "stream",
     "text": [
      "\r",
      " 50%|█████████████████████▌                     | 10/20 [13:28<13:26, 80.68s/it]"
     ]
    },
    {
     "name": "stdout",
     "output_type": "stream",
     "text": [
      "Minimum Loss after epoch 10 is  1.7462079329281135\n",
      "epoch:11   Total batches: 1080.0 \n"
     ]
    },
    {
     "name": "stderr",
     "output_type": "stream",
     "text": [
      "\r",
      " 55%|███████████████████████▋                   | 11/20 [14:49<12:07, 80.83s/it]"
     ]
    },
    {
     "name": "stdout",
     "output_type": "stream",
     "text": [
      "Minimum Loss after epoch 11 is  1.727185137677881\n",
      "epoch:12   Total batches: 1080.0 \n"
     ]
    },
    {
     "name": "stderr",
     "output_type": "stream",
     "text": [
      "\r",
      " 60%|█████████████████████████▊                 | 12/20 [16:09<10:44, 80.58s/it]"
     ]
    },
    {
     "name": "stdout",
     "output_type": "stream",
     "text": [
      "Minimum Loss after epoch 12 is  1.727185137677881\n",
      "epoch:13   Total batches: 1080.0 \n"
     ]
    },
    {
     "name": "stderr",
     "output_type": "stream",
     "text": [
      "\r",
      " 65%|███████████████████████████▉               | 13/20 [17:30<09:24, 80.58s/it]"
     ]
    },
    {
     "name": "stdout",
     "output_type": "stream",
     "text": [
      "Minimum Loss after epoch 13 is  1.7085050180630912\n",
      "epoch:14   Total batches: 1080.0 \n"
     ]
    },
    {
     "name": "stderr",
     "output_type": "stream",
     "text": [
      "\r",
      " 70%|██████████████████████████████             | 14/20 [18:49<08:02, 80.34s/it]"
     ]
    },
    {
     "name": "stdout",
     "output_type": "stream",
     "text": [
      "Minimum Loss after epoch 14 is  1.7085050180630912\n",
      "epoch:15   Total batches: 1080.0 \n"
     ]
    },
    {
     "name": "stderr",
     "output_type": "stream",
     "text": [
      "\r",
      " 75%|████████████████████████████████▎          | 15/20 [20:10<06:42, 80.43s/it]"
     ]
    },
    {
     "name": "stdout",
     "output_type": "stream",
     "text": [
      "Minimum Loss after epoch 15 is  1.705299279434174\n",
      "epoch:16   Total batches: 1080.0 \n"
     ]
    },
    {
     "name": "stderr",
     "output_type": "stream",
     "text": [
      "\r",
      " 80%|██████████████████████████████████▍        | 16/20 [21:31<05:22, 80.57s/it]"
     ]
    },
    {
     "name": "stdout",
     "output_type": "stream",
     "text": [
      "Minimum Loss after epoch 16 is  1.645752767661571\n",
      "epoch:17   Total batches: 1080.0 \n"
     ]
    },
    {
     "name": "stderr",
     "output_type": "stream",
     "text": [
      "\r",
      " 85%|████████████████████████████████████▌      | 17/20 [22:52<04:02, 80.81s/it]"
     ]
    },
    {
     "name": "stdout",
     "output_type": "stream",
     "text": [
      "Minimum Loss after epoch 17 is  1.587412299470017\n",
      "epoch:18   Total batches: 1080.0 \n"
     ]
    },
    {
     "name": "stderr",
     "output_type": "stream",
     "text": [
      "\r",
      " 90%|██████████████████████████████████████▋    | 18/20 [24:13<02:41, 80.70s/it]"
     ]
    },
    {
     "name": "stdout",
     "output_type": "stream",
     "text": [
      "Minimum Loss after epoch 18 is  1.5098248033167823\n",
      "epoch:19   Total batches: 1080.0 \n"
     ]
    },
    {
     "name": "stderr",
     "output_type": "stream",
     "text": [
      "\r",
      " 95%|████████████████████████████████████████▊  | 19/20 [25:33<01:20, 80.58s/it]"
     ]
    },
    {
     "name": "stdout",
     "output_type": "stream",
     "text": [
      "Minimum Loss after epoch 19 is  1.4973972095718393\n",
      "epoch:20   Total batches: 1080.0 \n"
     ]
    },
    {
     "name": "stderr",
     "output_type": "stream",
     "text": [
      "100%|███████████████████████████████████████████| 20/20 [26:53<00:00, 80.70s/it]"
     ]
    },
    {
     "name": "stdout",
     "output_type": "stream",
     "text": [
      "Minimum Loss after epoch 20 is  1.297866392375142\n",
      "Minimum Loss:  1.297866392375142\n",
      "#### training Done ####\n",
      "\n",
      "#########validation Started###########\n",
      "\n"
     ]
    },
    {
     "name": "stderr",
     "output_type": "stream",
     "text": [
      "\n"
     ]
    },
    {
     "name": "stdout",
     "output_type": "stream",
     "text": [
      "Batch size: 50, Learning rate: 0.0001, Val loss: 1.7813382354148313, Val accuracy: 0.23616666666666666\n",
      "\n",
      "#########validation Done###########\n",
      "\n",
      "\n",
      "\n",
      "\n"
     ]
    }
   ],
   "source": [
    "# Find the optimal value of learning rate and batch size. \n",
    "# Use the same tuning strategy as the previous question\n",
    "# Create plot and table to show the effect of the hparams.\n",
    "####### hyperparameters ########\n",
    "# epochs_s = [2,5]\n",
    "epochs = 20\n",
    "etas = [0.01,0.001,0.0001]     # ,0.0001,0.00001\n",
    "batch_size =50\n",
    "batch_sizes = [20,50]\n",
    "output_size = 10\n",
    "input_size = 784\n",
    "\n",
    "val_results =[]\n",
    "for eta in etas:\n",
    "    for batch_size in batch_sizes:\n",
    "        \n",
    "        mlp1 = MLP()\n",
    "        ##### add layer #####\n",
    "        mlp1.add_layer(Linear_Layer(input_size,512,batch_size,eta))\n",
    "        mlp1.add_layer(ReLU())\n",
    "\n",
    "        mlp1.add_layer(Linear_Layer(512,256,batch_size,eta))\n",
    "        mlp1.add_layer(ReLU())\n",
    "        mlp1.add_layer(Linear_Layer(256,10,batch_size,eta))\n",
    "        mlp1.train(train_imgs,train_labels,epochs,batch_size,eta)\n",
    "        val_results.append(mlp1.valid(val_imgs,val_labels,epochs,batch_size,eta))\n",
    "        \n",
    "        \n"
   ]
  },
  {
   "cell_type": "code",
   "execution_count": 24,
   "metadata": {},
   "outputs": [
    {
     "name": "stdout",
     "output_type": "stream",
     "text": [
      "\n",
      "######## Data Generated for 20 epochs ##########\n",
      "\n",
      "   batch_size  learning_rate  val_loss  val_accuracy  epochs\n",
      "0          20         0.0100  0.249717      0.961500      20\n",
      "1          50         0.0100  0.100368      0.981833      20\n",
      "2          20         0.0010  0.097819      0.975833      20\n",
      "3          50         0.0010  0.098499      0.971667      20\n",
      "4          20         0.0001  0.276167      0.923333      20\n",
      "5          50         0.0001  1.781338      0.236167      20\n"
     ]
    },
    {
     "data": {
      "image/png": "[encoded data removed]",
      "text/plain": [
       "<Figure size 432x288 with 2 Axes>"
      ]
     },
     "metadata": {
      "needs_background": "light"
     },
     "output_type": "display_data"
    }
   ],
   "source": [
    "def plot_hyperparam_results(results):\n",
    "    # Create a table of the performance metrics\n",
    "    df = pd.DataFrame(results, columns=['batch_size', 'learning_rate', 'val_loss', 'val_accuracy','epochs'])\n",
    "    \n",
    "    print(df)\n",
    "    df = df.pivot(index='learning_rate', columns='batch_size', values='val_accuracy')\n",
    "    df = df.round(3)\n",
    "\n",
    "    # Create heatmap\n",
    "    ax = sns.heatmap(df, annot=True, cmap='coolwarm')\n",
    "    ax.invert_yaxis()\n",
    "    ax.set_title('Validation Accuracy')\n",
    "    ax.set_xlabel('batch_size')\n",
    "    ax.set_ylabel('learning_rate(or)eta)')\n",
    "    plt.show()\n",
    "print(\"\\n######## Data Generated for 20 epochs ##########\\n\")\n",
    "plot_hyperparam_results(val_results)"
   ]
  },
  {
   "cell_type": "markdown",
   "metadata": {
    "colab": {},
    "colab_type": "code",
    "id": "BDrq0GfKpdb8"
   },
   "source": [
    "### Report final performance on MNIST test set"
   ]
  },
  {
   "cell_type": "code",
   "execution_count": 25,
   "metadata": {},
   "outputs": [
    {
     "name": "stdout",
     "output_type": "stream",
     "text": [
      "############ Test Accuracy Using MLP #################\n",
      "              precision    recall  f1-score   support\n",
      "\n",
      "           0       0.99      0.93      0.96      1043\n",
      "           1       0.99      0.98      0.99      1146\n",
      "           2       0.96      0.97      0.96      1023\n",
      "           3       0.93      0.98      0.96       959\n",
      "           4       0.97      0.96      0.97       986\n",
      "           5       0.98      0.94      0.96       933\n",
      "           6       0.97      0.96      0.96       968\n",
      "           7       0.96      0.96      0.96      1025\n",
      "           8       0.93      0.95      0.94       949\n",
      "           9       0.93      0.97      0.95       968\n",
      "\n",
      "    accuracy                           0.96     10000\n",
      "   macro avg       0.96      0.96      0.96     10000\n",
      "weighted avg       0.96      0.96      0.96     10000\n",
      "\n",
      "The best and worst performing class is mentioned in given classification report of model trained above ......\n"
     ]
    },
    {
     "data": {
      "text/plain": [
       "<Figure size 720x864 with 0 Axes>"
      ]
     },
     "metadata": {},
     "output_type": "display_data"
    }
   ],
   "source": [
    "# WRITE CODE HERE\n",
    "print(\"############ Test Accuracy Using MLP #################\")\n",
    "y_test_pred = mlp.predict(test_imgs.reshape(test_imgs.shape[0],-1))\n",
    "plt.figure(figsize=(10,12))\n",
    "print(classification_report(y_test_pred,test_labels))\n",
    "# sns.heatmap(confusion_matrix(y_test_pred,test_labels))\n",
    "print(\"The best and worst performing class is mentioned in given classification report of model trained above ......\" )\n"
   ]
  },
  {
   "cell_type": "markdown",
   "metadata": {
    "colab_type": "text",
    "id": "KX-cXeY3pdhr"
   },
   "source": [
    "\n",
    "# Implementing a Convolution Module with Numpy\n",
    "\n",
    "* This topic will require you to implement the Convolution operation using Numpy.\n",
    "* We will use the Module for tasks like Blurring.\n",
    "* Finally, we implement Backpropagation for the convolution module.\n"
   ]
  },
  {
   "cell_type": "markdown",
   "metadata": {
    "colab_type": "text",
    "id": "kHeieqicpdhz"
   },
   "source": [
    "# Question 4\n",
    "\n",
    "* Implement a naive Convolution module, with basic functionalities: kernel_size, padding, stride and dilation\n",
    "  \n",
    "* Test out the convolution layer by using it to do gaussian blurring on 10 random images of CIFAR-10 dataset\n"
   ]
  },
  {
   "cell_type": "code",
   "execution_count": 26,
   "metadata": {
    "colab": {},
    "colab_type": "code",
    "id": "YoVvSEj0pdh5"
   },
   "outputs": [],
   "source": [
    "## Define a class Convolution Layer, which is initialized with the various required params:\n",
    "class Convolution_Layer():\n",
    "    \n",
    "    def __init__(self,in_channels,out_channels,filter_size, bias=True, stride=1, padding=0, dilation=1,eta=0.00001):\n",
    "        self.weights = np.random.normal(loc=0,scale=0.001 ,size= (out_channels,filter_size[0],filter_size[1],in_channels))//np.sqrt(np.product(filter_size)*in_channels*out_channels)\n",
    "        self.filter_size = filter_size\n",
    "        self.out_channels = out_channels\n",
    "        self.in_channels = in_channels\n",
    "        self.stride = stride\n",
    "        self.padding = 0 and padding\n",
    "        self.dilation = dilation\n",
    "        self.output= None\n",
    "        self.eta = eta\n",
    "        self.gradient_matrix = np.zeros(shape= (filter_size[0],filter_size[1],in_channels))\n",
    "        \n",
    "        print(\"Filter Weights Shape: \",self.weights.shape)\n",
    "         \n",
    "        # For an untrained layer, set random initial filter weights\n",
    "    def convolve2D(self,Input,filter_w,mode=\"default\"):\n",
    "#         print(\"Convolve2D:\\n\") \n",
    "#         print(Input.shape)\n",
    "        input_shape = Input.shape\n",
    "        filter_shape = filter_w.shape\n",
    "        df = len(filter_shape)\n",
    "        di = len(input_shape)\n",
    "        if di!=df: print(\"Dimension are different ie.e x shape {}!= f_shape{}\".format(di,df))\n",
    "        pdd= [(filter_shape[0]-1,filter_shape[0]-1),(filter_shape[1]-1,filter_shape[1]-1)]\n",
    "        \n",
    "        output = np.zeros(shape=(self.weights.shape[1],self.weights.shape[2]))\n",
    "        \n",
    "        if(mode==\"full\"):\n",
    "            Input = np.pad(Input,pdd)\n",
    "            output =np.zeros(shape=(self.input_v.shape[0],self.input_v.shape[1]))\n",
    "            \n",
    "        for i in range(0,output.shape[0],self.stride):\n",
    "            for j in range(0,output.shape[1],self.stride):\n",
    "                output[i,j] = np.sum(np.multiply(filter_w,Input[i:i+filter_shape[0],j:j+filter_shape[1]]))\n",
    "        \n",
    "        return output\n",
    "            \n",
    "    def forward(self,input_v,mode=\"\"):\n",
    "        h,w,d = input_v.shape\n",
    "#         \n",
    "        \n",
    "        input_v = np.pad(input_v,[(self.padding, self.padding), (self.padding, self.padding),(0,0)],mode='constant')\n",
    "        self.input_v = input_v\n",
    "        hd,wd,dd = (h-self.filter_size[0]+2*self.padding)//self.stride + 1,(w-self.filter_size[1]+2*self.padding)//self.stride + 1, self.out_channels\n",
    "        output = np.zeros(shape=(hd,wd,dd))\n",
    "\n",
    "\n",
    "        for k in range(0,self.out_channels):\n",
    "            for i in range(0,output.shape[0],self.stride):\n",
    "                for j in range(0,output.shape[1],self.stride):\n",
    "                    output[i,j,k] = np.sum(np.multiply(self.weights[k,:,:,:],input_v[i:i+self.filter_size[0],j:j+self.filter_size[1],:self.in_channels]))\n",
    "        self.output = output\n",
    "\n",
    "        return output\n",
    "\n",
    "\n",
    "\n",
    "    def backward(self, output_gradient):\n",
    "        input_gradient = np.zeros(shape=self.input_v.shape)\n",
    "        \n",
    "        weight_gradient = np.zeros(shape=self.weights.shape)\n",
    "        \n",
    "        for i in range(0,self.out_channels):\n",
    "            for j in range(0,self.in_channels):\n",
    "                weight_gradient[i,:,:,j] = self.convolve2D(self.input_v[:,:,j],output_gradient[:,:,i])\n",
    "                input_gradient[:,:,j] += self.convolve2D(output_gradient[:,:,i],self.weights[i,:,:,j],mode=\"full\")\n",
    "        self.weights -= self.eta*weight_gradient\n",
    "        return input_gradient\n",
    "        \n",
    "    \n",
    "    def set_weights(self, new_weights):\n",
    "            \n",
    "        self.weights = new_weights\n",
    "        \n",
    "    "
   ]
  },
  {
   "cell_type": "code",
   "execution_count": 27,
   "metadata": {},
   "outputs": [],
   "source": [
    "\n",
    "\n",
    "def unpickle(file):\n",
    "    with open(file, 'rb') as fo:\n",
    "        dict = pickle.load(fo, encoding='bytes')\n",
    "    return dict\n",
    "\n",
    "    \n",
    "\n",
    "def gaussian_filter(image, kernel_size, sigma,cl):\n",
    "    \n",
    "    ########## kernel Implementation ##############\n",
    "    kernel = np.zeros((kernel_size, kernel_size))\n",
    "    for i in range(kernel_size):\n",
    "        for j in range(kernel_size):\n",
    "            kernel[i,j] = np.exp(-((i-kernel_size//2)**2 + (j-kernel_size//2)**2) / (2*sigma**2))\n",
    "    \n",
    "    kernel = kernel / np.sum(kernel)\n",
    "    kernel = kernel.reshape(1,kernel_size,kernel_size,1)\n",
    "    \n",
    "    \n",
    "    cl.set_weights(kernel)\n",
    "    filtered_image = np.zeros(shape=(image.shape[0]-kernel_size+1,image.shape[1]-kernel_size+1,3))\n",
    "    \n",
    "    for i in range(image.shape[2]):\n",
    "        filtered_image[:,:,i] = cl.forward(image[:,:,i:i+1])[:,:,0]\n",
    "    return filtered_image\n",
    "\n",
    "    \n",
    "  \n",
    "\n"
   ]
  },
  {
   "cell_type": "markdown",
   "metadata": {
    "colab": {},
    "colab_type": "code",
    "id": "TDoqiua8pdia"
   },
   "source": [
    "### Download CIFAR-10 images and load it in a numpy array (https://www.cs.toronto.edu/~kriz/cifar.html)\n",
    "\n"
   ]
  },
  {
   "cell_type": "code",
   "execution_count": 28,
   "metadata": {},
   "outputs": [],
   "source": [
    "s=unpickle(\"data/cifar-10-batches-py/data_batch_1\")    \n"
   ]
  },
  {
   "cell_type": "markdown",
   "metadata": {},
   "source": [
    "### Initialize a conv layer. Set weights for gaussian blurring (do not train the filter for this part). Visualise the filters using matplotlib\n"
   ]
  },
  {
   "cell_type": "code",
   "execution_count": 29,
   "metadata": {},
   "outputs": [
    {
     "name": "stdout",
     "output_type": "stream",
     "text": [
      "Filter Weights Shape:  (1, 3, 3, 1)\n"
     ]
    }
   ],
   "source": [
    "b_imgs=[]\n",
    "for i in range(5):\n",
    "    img = s[b'data'][i].reshape(3,32,32).transpose(1,2,0)\n",
    "    b_imgs.append(img)\n",
    "    \n",
    "       \n",
    "cl = Convolution_Layer(1,1,(3,3))\n"
   ]
  },
  {
   "cell_type": "code",
   "execution_count": null,
   "metadata": {},
   "outputs": [],
   "source": []
  },
  {
   "cell_type": "markdown",
   "metadata": {},
   "source": [
    "### Generate output for the first 5 images of the training set"
   ]
  },
  {
   "cell_type": "code",
   "execution_count": 30,
   "metadata": {},
   "outputs": [],
   "source": [
    "# WRITE CODE HERE\n",
    "## gaussian blurring here ######\n",
    "\n",
    "filtered_images = [[],[],[]]\n",
    "for image in b_imgs[:5]:\n",
    "    f_img = gaussian_filter(image,3,3,cl)\n",
    "    f_img = f_img.astype(np.uint8)\n",
    "    \n",
    "    filtered_images[0].append(f_img[:,:,0])   # for Ist channel\n",
    "    filtered_images[1].append(f_img[:,:,1])   # for IInd channel\n",
    "    filtered_images[2].append(f_img[:,:,2])   # for IIIrd channel\n"
   ]
  },
  {
   "cell_type": "markdown",
   "metadata": {},
   "source": [
    "### Use matplotlib to show the input and corresponding blurred output"
   ]
  },
  {
   "cell_type": "code",
   "execution_count": 31,
   "metadata": {},
   "outputs": [
    {
     "data": {
      "image/png": "[encoded data removed]",
      "text/plain": [
       "<Figure size 1080x1080 with 20 Axes>"
      ]
     },
     "metadata": {
      "needs_background": "light"
     },
     "output_type": "display_data"
    }
   ],
   "source": [
    "\n",
    "rows=5\n",
    "cols = 4\n",
    "img_count = 0\n",
    "\n",
    "fig, axes = plt.subplots(nrows=rows, ncols=cols, figsize=(15,15))\n",
    "\n",
    "for i in range(5):\n",
    "    axes[i, 0].imshow(b_imgs[i])\n",
    "    axes[i, 1].imshow(filtered_images[0][i])    \n",
    "    axes[i, 2].imshow(filtered_images[1][i])    \n",
    "    axes[i, 3].imshow(filtered_images[2][i])  "
   ]
  },
  {
   "cell_type": "markdown",
   "metadata": {
    "colab_type": "text",
    "id": "zmsPeOEOpdi8"
   },
   "source": [
    "## Question 5\n",
    "<br>\n",
    "Now we will use this module for training a simple Convolution Layer using CIFAR-10 images. \n",
    "\n",
    "* The goal is to learn a set of weights, by using the backpropagation function created. To test the backpropagation, instead of training a whole network, we will train only a single layer.\n",
    "  * Instantiate a Convolution  layer $C_0$ with 20 filters, each with size 5$\\times$5 (RGB image, so 3 input channels). Load the given numpy array of size (20,3,5,5), which represents the weights of a convolution layer. Set the given values as the filter weights for $C_0$. Take 100 CIFAR-10 images. Save the output of these 100 images generated from this Convolution layer $C_0$. \n",
    "  \n",
    "  * Now, initialize a new convolution layer $C$ with weight values sampled from uniform distribution [-1,1]. Use the $L_2$ loss between the output of this layer $C$ and the output generated in the previous step to learn the filter weights of $C_0$.\n"
   ]
  },
  {
   "cell_type": "code",
   "execution_count": 32,
   "metadata": {},
   "outputs": [
    {
     "name": "stdout",
     "output_type": "stream",
     "text": [
      "b'broodmare_s_001836.png'\n",
      "(100, 32, 32, 3) (100,)\n"
     ]
    },
    {
     "data": {
      "text/plain": [
       "7"
      ]
     },
     "execution_count": 32,
     "metadata": {},
     "output_type": "execute_result"
    },
    {
     "data": {
      "image/png": "[encoded data removed]",
      "text/plain": [
       "<Figure size 432x288 with 1 Axes>"
      ]
     },
     "metadata": {
      "needs_background": "light"
     },
     "output_type": "display_data"
    }
   ],
   "source": [
    "b_imgs = []\n",
    "b_labels  = np.array(s[b'labels'])\n",
    "###### choose the 100 shuffled images at random from 1st batch #######\n",
    "for j in range(10000):\n",
    "    img = s[b'data'][j].reshape(3,32,32).transpose(1,2,0)\n",
    "    b_imgs.append(img)\n",
    "b_imgs = np.array(b_imgs)    \n",
    "ind = list(range(10000))\n",
    "np.random.shuffle(ind)\n",
    "\n",
    "\n",
    "\n",
    "train_imgs =b_imgs[ind[:100],:]\n",
    "train_labels = b_labels[ind[:100]]\n",
    "    \n",
    "    \n",
    "######## 15th example chosen from Dataset #####\n",
    "print(s[b'filenames'][ind[15]])\n",
    "print(train_imgs.shape,train_labels.shape)\n",
    "plt.imshow(train_imgs[15])\n",
    "train_labels[15]"
   ]
  },
  {
   "cell_type": "code",
   "execution_count": 33,
   "metadata": {
    "colab": {},
    "colab_type": "code",
    "id": "p8dGnMHOpdjD"
   },
   "outputs": [
    {
     "name": "stdout",
     "output_type": "stream",
     "text": [
      "(20, 3, 5, 5)\n",
      "(20, 5, 5, 3)\n",
      "Filter Weights Shape:  (20, 5, 5, 3)\n"
     ]
    }
   ],
   "source": [
    "## Load filter weights from given numpy array \"C0_weights.npy\".\n",
    "## Init a conv layer C_0 with these given weights\n",
    "x= train_imgs\n",
    "train_imgs = (x - x.mean(axis=(0,1,2), keepdims=True)) / x.std(axis=(0,1,2), keepdims=True)\n",
    "\n",
    "C0_weights = np.load(\"data/C0_weights.npy\")\n",
    "print(C0_weights.shape)\n",
    "C0_weights = C0_weights.transpose(0,2,3,1)\n",
    "print(C0_weights.shape)\n",
    "\n",
    "## For all images get output. Store in numpy array.\n",
    "C0_layer = Convolution_Layer(3,20,(5,5))\n",
    "C0_layer.set_weights(C0_weights)\n",
    "C0_output_imgs = []\n",
    "for i in range(100):\n",
    "    C0_output = C0_layer.forward(train_imgs[i])\n",
    "    C0_output_imgs.append(C0_output)\n",
    "C0_output_imgs = np.array(C0_output_imgs)"
   ]
  },
  {
   "cell_type": "code",
   "execution_count": 34,
   "metadata": {},
   "outputs": [
    {
     "data": {
      "text/plain": [
       "(100, 28, 28, 20)"
      ]
     },
     "execution_count": 34,
     "metadata": {},
     "output_type": "execute_result"
    }
   ],
   "source": [
    "C0_output_imgs.shape"
   ]
  },
  {
   "cell_type": "code",
   "execution_count": 35,
   "metadata": {
    "colab": {},
    "colab_type": "code",
    "id": "nhhHA4UCpdji"
   },
   "outputs": [
    {
     "name": "stdout",
     "output_type": "stream",
     "text": [
      "Filter Weights Shape:  (20, 5, 5, 3)\n"
     ]
    },
    {
     "name": "stderr",
     "output_type": "stream",
     "text": [
      "100%|█████████████████████████████████████████| 100/100 [00:18<00:00,  5.34it/s]\n"
     ]
    },
    {
     "name": "stdout",
     "output_type": "stream",
     "text": [
      "epochs 1/100 and avg_loss: 156.32080721050914\n"
     ]
    },
    {
     "name": "stderr",
     "output_type": "stream",
     "text": [
      "100%|█████████████████████████████████████████| 100/100 [00:18<00:00,  5.35it/s]\n"
     ]
    },
    {
     "name": "stdout",
     "output_type": "stream",
     "text": [
      "epochs 2/100 and avg_loss: 88.48919729777423\n"
     ]
    },
    {
     "name": "stderr",
     "output_type": "stream",
     "text": [
      "100%|█████████████████████████████████████████| 100/100 [00:18<00:00,  5.35it/s]\n"
     ]
    },
    {
     "name": "stdout",
     "output_type": "stream",
     "text": [
      "epochs 3/100 and avg_loss: 70.36822297032934\n"
     ]
    },
    {
     "name": "stderr",
     "output_type": "stream",
     "text": [
      "100%|█████████████████████████████████████████| 100/100 [00:18<00:00,  5.35it/s]\n"
     ]
    },
    {
     "name": "stdout",
     "output_type": "stream",
     "text": [
      "epochs 4/100 and avg_loss: 60.155696625816354\n"
     ]
    },
    {
     "name": "stderr",
     "output_type": "stream",
     "text": [
      "100%|█████████████████████████████████████████| 100/100 [00:18<00:00,  5.34it/s]\n"
     ]
    },
    {
     "name": "stdout",
     "output_type": "stream",
     "text": [
      "epochs 5/100 and avg_loss: 53.325330491332316\n"
     ]
    },
    {
     "name": "stderr",
     "output_type": "stream",
     "text": [
      "100%|█████████████████████████████████████████| 100/100 [00:18<00:00,  5.33it/s]\n"
     ]
    },
    {
     "name": "stdout",
     "output_type": "stream",
     "text": [
      "epochs 6/100 and avg_loss: 48.310188040081975\n"
     ]
    },
    {
     "name": "stderr",
     "output_type": "stream",
     "text": [
      "100%|█████████████████████████████████████████| 100/100 [00:18<00:00,  5.33it/s]\n"
     ]
    },
    {
     "name": "stdout",
     "output_type": "stream",
     "text": [
      "epochs 7/100 and avg_loss: 44.405730275737874\n"
     ]
    },
    {
     "name": "stderr",
     "output_type": "stream",
     "text": [
      "100%|█████████████████████████████████████████| 100/100 [00:18<00:00,  5.35it/s]\n"
     ]
    },
    {
     "name": "stdout",
     "output_type": "stream",
     "text": [
      "epochs 8/100 and avg_loss: 41.244458417083905\n"
     ]
    },
    {
     "name": "stderr",
     "output_type": "stream",
     "text": [
      "100%|█████████████████████████████████████████| 100/100 [00:18<00:00,  5.38it/s]\n"
     ]
    },
    {
     "name": "stdout",
     "output_type": "stream",
     "text": [
      "epochs 9/100 and avg_loss: 38.613377446631894\n"
     ]
    },
    {
     "name": "stderr",
     "output_type": "stream",
     "text": [
      "100%|█████████████████████████████████████████| 100/100 [00:18<00:00,  5.40it/s]\n"
     ]
    },
    {
     "name": "stdout",
     "output_type": "stream",
     "text": [
      "epochs 10/100 and avg_loss: 36.379018899955675\n"
     ]
    },
    {
     "name": "stderr",
     "output_type": "stream",
     "text": [
      "100%|█████████████████████████████████████████| 100/100 [00:18<00:00,  5.40it/s]\n"
     ]
    },
    {
     "name": "stdout",
     "output_type": "stream",
     "text": [
      "epochs 11/100 and avg_loss: 34.45255226527642\n"
     ]
    },
    {
     "name": "stderr",
     "output_type": "stream",
     "text": [
      "100%|█████████████████████████████████████████| 100/100 [00:18<00:00,  5.40it/s]\n"
     ]
    },
    {
     "name": "stdout",
     "output_type": "stream",
     "text": [
      "epochs 12/100 and avg_loss: 32.771876428058484\n"
     ]
    },
    {
     "name": "stderr",
     "output_type": "stream",
     "text": [
      "100%|█████████████████████████████████████████| 100/100 [00:18<00:00,  5.40it/s]\n"
     ]
    },
    {
     "name": "stdout",
     "output_type": "stream",
     "text": [
      "epochs 13/100 and avg_loss: 31.291738938607043\n"
     ]
    },
    {
     "name": "stderr",
     "output_type": "stream",
     "text": [
      "100%|█████████████████████████████████████████| 100/100 [00:18<00:00,  5.39it/s]\n"
     ]
    },
    {
     "name": "stdout",
     "output_type": "stream",
     "text": [
      "epochs 14/100 and avg_loss: 29.977990373395226\n"
     ]
    },
    {
     "name": "stderr",
     "output_type": "stream",
     "text": [
      "100%|█████████████████████████████████████████| 100/100 [00:18<00:00,  5.39it/s]\n"
     ]
    },
    {
     "name": "stdout",
     "output_type": "stream",
     "text": [
      "epochs 15/100 and avg_loss: 28.804102028316336\n"
     ]
    },
    {
     "name": "stderr",
     "output_type": "stream",
     "text": [
      "100%|█████████████████████████████████████████| 100/100 [00:18<00:00,  5.40it/s]\n"
     ]
    },
    {
     "name": "stdout",
     "output_type": "stream",
     "text": [
      "epochs 16/100 and avg_loss: 27.74897647403419\n"
     ]
    },
    {
     "name": "stderr",
     "output_type": "stream",
     "text": [
      "100%|█████████████████████████████████████████| 100/100 [00:18<00:00,  5.40it/s]\n"
     ]
    },
    {
     "name": "stdout",
     "output_type": "stream",
     "text": [
      "epochs 17/100 and avg_loss: 26.79552125944458\n"
     ]
    },
    {
     "name": "stderr",
     "output_type": "stream",
     "text": [
      "100%|█████████████████████████████████████████| 100/100 [00:18<00:00,  5.39it/s]\n"
     ]
    },
    {
     "name": "stdout",
     "output_type": "stream",
     "text": [
      "epochs 18/100 and avg_loss: 25.929686320759412\n"
     ]
    },
    {
     "name": "stderr",
     "output_type": "stream",
     "text": [
      "100%|█████████████████████████████████████████| 100/100 [00:18<00:00,  5.39it/s]\n"
     ]
    },
    {
     "name": "stdout",
     "output_type": "stream",
     "text": [
      "epochs 19/100 and avg_loss: 25.139791335053822\n"
     ]
    },
    {
     "name": "stderr",
     "output_type": "stream",
     "text": [
      "100%|█████████████████████████████████████████| 100/100 [00:18<00:00,  5.40it/s]\n"
     ]
    },
    {
     "name": "stdout",
     "output_type": "stream",
     "text": [
      "epochs 20/100 and avg_loss: 24.416039880479307\n"
     ]
    },
    {
     "name": "stderr",
     "output_type": "stream",
     "text": [
      "100%|█████████████████████████████████████████| 100/100 [00:18<00:00,  5.40it/s]\n"
     ]
    },
    {
     "name": "stdout",
     "output_type": "stream",
     "text": [
      "epochs 21/100 and avg_loss: 23.750157802372897\n"
     ]
    },
    {
     "name": "stderr",
     "output_type": "stream",
     "text": [
      "100%|█████████████████████████████████████████| 100/100 [00:18<00:00,  5.40it/s]\n"
     ]
    },
    {
     "name": "stdout",
     "output_type": "stream",
     "text": [
      "epochs 22/100 and avg_loss: 23.13511687227496\n"
     ]
    },
    {
     "name": "stderr",
     "output_type": "stream",
     "text": [
      "100%|█████████████████████████████████████████| 100/100 [00:18<00:00,  5.40it/s]\n"
     ]
    },
    {
     "name": "stdout",
     "output_type": "stream",
     "text": [
      "epochs 23/100 and avg_loss: 22.564918910882874\n"
     ]
    },
    {
     "name": "stderr",
     "output_type": "stream",
     "text": [
      "100%|█████████████████████████████████████████| 100/100 [00:18<00:00,  5.40it/s]\n"
     ]
    },
    {
     "name": "stdout",
     "output_type": "stream",
     "text": [
      "epochs 24/100 and avg_loss: 22.03442407622934\n"
     ]
    },
    {
     "name": "stderr",
     "output_type": "stream",
     "text": [
      "100%|█████████████████████████████████████████| 100/100 [00:18<00:00,  5.40it/s]\n"
     ]
    },
    {
     "name": "stdout",
     "output_type": "stream",
     "text": [
      "epochs 25/100 and avg_loss: 21.539212292779773\n"
     ]
    },
    {
     "name": "stderr",
     "output_type": "stream",
     "text": [
      "100%|█████████████████████████████████████████| 100/100 [00:18<00:00,  5.40it/s]\n"
     ]
    },
    {
     "name": "stdout",
     "output_type": "stream",
     "text": [
      "epochs 26/100 and avg_loss: 21.075470135230077\n"
     ]
    },
    {
     "name": "stderr",
     "output_type": "stream",
     "text": [
      "100%|█████████████████████████████████████████| 100/100 [00:18<00:00,  5.40it/s]\n"
     ]
    },
    {
     "name": "stdout",
     "output_type": "stream",
     "text": [
      "epochs 27/100 and avg_loss: 20.639897648683903\n"
     ]
    },
    {
     "name": "stderr",
     "output_type": "stream",
     "text": [
      "100%|█████████████████████████████████████████| 100/100 [00:18<00:00,  5.39it/s]\n"
     ]
    },
    {
     "name": "stdout",
     "output_type": "stream",
     "text": [
      "epochs 28/100 and avg_loss: 20.229631034471968\n"
     ]
    },
    {
     "name": "stderr",
     "output_type": "stream",
     "text": [
      "100%|█████████████████████████████████████████| 100/100 [00:18<00:00,  5.39it/s]\n"
     ]
    },
    {
     "name": "stdout",
     "output_type": "stream",
     "text": [
      "epochs 29/100 and avg_loss: 19.8421781256278\n"
     ]
    },
    {
     "name": "stderr",
     "output_type": "stream",
     "text": [
      "100%|█████████████████████████████████████████| 100/100 [00:18<00:00,  5.40it/s]\n"
     ]
    },
    {
     "name": "stdout",
     "output_type": "stream",
     "text": [
      "epochs 30/100 and avg_loss: 19.4753642792864\n"
     ]
    },
    {
     "name": "stderr",
     "output_type": "stream",
     "text": [
      "100%|█████████████████████████████████████████| 100/100 [00:18<00:00,  5.41it/s]\n"
     ]
    },
    {
     "name": "stdout",
     "output_type": "stream",
     "text": [
      "epochs 31/100 and avg_loss: 19.127286823969087\n"
     ]
    },
    {
     "name": "stderr",
     "output_type": "stream",
     "text": [
      "100%|█████████████████████████████████████████| 100/100 [00:18<00:00,  5.40it/s]\n"
     ]
    },
    {
     "name": "stdout",
     "output_type": "stream",
     "text": [
      "epochs 32/100 and avg_loss: 18.79627657972244\n"
     ]
    },
    {
     "name": "stderr",
     "output_type": "stream",
     "text": [
      "100%|█████████████████████████████████████████| 100/100 [00:18<00:00,  5.41it/s]\n"
     ]
    },
    {
     "name": "stdout",
     "output_type": "stream",
     "text": [
      "epochs 33/100 and avg_loss: 18.48086525792713\n"
     ]
    },
    {
     "name": "stderr",
     "output_type": "stream",
     "text": [
      "100%|█████████████████████████████████████████| 100/100 [00:18<00:00,  5.40it/s]\n"
     ]
    },
    {
     "name": "stdout",
     "output_type": "stream",
     "text": [
      "epochs 34/100 and avg_loss: 18.179757771168898\n"
     ]
    },
    {
     "name": "stderr",
     "output_type": "stream",
     "text": [
      "100%|█████████████████████████████████████████| 100/100 [00:18<00:00,  5.40it/s]\n"
     ]
    },
    {
     "name": "stdout",
     "output_type": "stream",
     "text": [
      "epochs 35/100 and avg_loss: 17.891808659253087\n"
     ]
    },
    {
     "name": "stderr",
     "output_type": "stream",
     "text": [
      "100%|█████████████████████████████████████████| 100/100 [00:18<00:00,  5.41it/s]\n"
     ]
    },
    {
     "name": "stdout",
     "output_type": "stream",
     "text": [
      "epochs 36/100 and avg_loss: 17.616001977233243\n"
     ]
    },
    {
     "name": "stderr",
     "output_type": "stream",
     "text": [
      "100%|█████████████████████████████████████████| 100/100 [00:18<00:00,  5.41it/s]\n"
     ]
    },
    {
     "name": "stdout",
     "output_type": "stream",
     "text": [
      "epochs 37/100 and avg_loss: 17.35143410369176\n"
     ]
    },
    {
     "name": "stderr",
     "output_type": "stream",
     "text": [
      "100%|█████████████████████████████████████████| 100/100 [00:18<00:00,  5.40it/s]\n"
     ]
    },
    {
     "name": "stdout",
     "output_type": "stream",
     "text": [
      "epochs 38/100 and avg_loss: 17.097299018596107\n"
     ]
    },
    {
     "name": "stderr",
     "output_type": "stream",
     "text": [
      "100%|█████████████████████████████████████████| 100/100 [00:18<00:00,  5.40it/s]\n"
     ]
    },
    {
     "name": "stdout",
     "output_type": "stream",
     "text": [
      "epochs 39/100 and avg_loss: 16.85287567440635\n"
     ]
    },
    {
     "name": "stderr",
     "output_type": "stream",
     "text": [
      "100%|█████████████████████████████████████████| 100/100 [00:18<00:00,  5.41it/s]\n"
     ]
    },
    {
     "name": "stdout",
     "output_type": "stream",
     "text": [
      "epochs 40/100 and avg_loss: 16.61751714515574\n"
     ]
    },
    {
     "name": "stderr",
     "output_type": "stream",
     "text": [
      "100%|█████████████████████████████████████████| 100/100 [00:18<00:00,  5.40it/s]\n"
     ]
    },
    {
     "name": "stdout",
     "output_type": "stream",
     "text": [
      "epochs 41/100 and avg_loss: 16.390641288599426\n"
     ]
    },
    {
     "name": "stderr",
     "output_type": "stream",
     "text": [
      "100%|█████████████████████████████████████████| 100/100 [00:18<00:00,  5.41it/s]\n"
     ]
    },
    {
     "name": "stdout",
     "output_type": "stream",
     "text": [
      "epochs 42/100 and avg_loss: 16.171722698269036\n"
     ]
    },
    {
     "name": "stderr",
     "output_type": "stream",
     "text": [
      "100%|█████████████████████████████████████████| 100/100 [00:18<00:00,  5.41it/s]\n"
     ]
    },
    {
     "name": "stdout",
     "output_type": "stream",
     "text": [
      "epochs 43/100 and avg_loss: 15.9602857569933\n"
     ]
    },
    {
     "name": "stderr",
     "output_type": "stream",
     "text": [
      "100%|█████████████████████████████████████████| 100/100 [00:18<00:00,  5.41it/s]\n"
     ]
    },
    {
     "name": "stdout",
     "output_type": "stream",
     "text": [
      "epochs 44/100 and avg_loss: 15.75589863242266\n"
     ]
    },
    {
     "name": "stderr",
     "output_type": "stream",
     "text": [
      "100%|█████████████████████████████████████████| 100/100 [00:18<00:00,  5.42it/s]\n"
     ]
    },
    {
     "name": "stdout",
     "output_type": "stream",
     "text": [
      "epochs 45/100 and avg_loss: 15.558168079352578\n"
     ]
    },
    {
     "name": "stderr",
     "output_type": "stream",
     "text": [
      "100%|█████████████████████████████████████████| 100/100 [00:18<00:00,  5.41it/s]\n"
     ]
    },
    {
     "name": "stdout",
     "output_type": "stream",
     "text": [
      "epochs 46/100 and avg_loss: 15.36673493399845\n"
     ]
    },
    {
     "name": "stderr",
     "output_type": "stream",
     "text": [
      "100%|█████████████████████████████████████████| 100/100 [00:18<00:00,  5.41it/s]\n"
     ]
    },
    {
     "name": "stdout",
     "output_type": "stream",
     "text": [
      "epochs 47/100 and avg_loss: 15.18127020250492\n"
     ]
    },
    {
     "name": "stderr",
     "output_type": "stream",
     "text": [
      "100%|█████████████████████████████████████████| 100/100 [00:18<00:00,  5.41it/s]\n"
     ]
    },
    {
     "name": "stdout",
     "output_type": "stream",
     "text": [
      "epochs 48/100 and avg_loss: 15.001471660416252\n"
     ]
    },
    {
     "name": "stderr",
     "output_type": "stream",
     "text": [
      "100%|█████████████████████████████████████████| 100/100 [00:18<00:00,  5.41it/s]\n"
     ]
    },
    {
     "name": "stdout",
     "output_type": "stream",
     "text": [
      "epochs 49/100 and avg_loss: 14.8270608920404\n"
     ]
    },
    {
     "name": "stderr",
     "output_type": "stream",
     "text": [
      "100%|█████████████████████████████████████████| 100/100 [00:18<00:00,  5.40it/s]\n"
     ]
    },
    {
     "name": "stdout",
     "output_type": "stream",
     "text": [
      "epochs 50/100 and avg_loss: 14.657780708972227\n"
     ]
    },
    {
     "name": "stderr",
     "output_type": "stream",
     "text": [
      "100%|█████████████████████████████████████████| 100/100 [00:18<00:00,  5.41it/s]\n"
     ]
    },
    {
     "name": "stdout",
     "output_type": "stream",
     "text": [
      "epochs 51/100 and avg_loss: 14.493392895805613\n"
     ]
    },
    {
     "name": "stderr",
     "output_type": "stream",
     "text": [
      "100%|█████████████████████████████████████████| 100/100 [00:18<00:00,  5.40it/s]\n"
     ]
    },
    {
     "name": "stdout",
     "output_type": "stream",
     "text": [
      "epochs 52/100 and avg_loss: 14.333676238508204\n"
     ]
    },
    {
     "name": "stderr",
     "output_type": "stream",
     "text": [
      "100%|█████████████████████████████████████████| 100/100 [00:18<00:00,  5.40it/s]\n"
     ]
    },
    {
     "name": "stdout",
     "output_type": "stream",
     "text": [
      "epochs 53/100 and avg_loss: 14.178424797266558\n"
     ]
    },
    {
     "name": "stderr",
     "output_type": "stream",
     "text": [
      "100%|█████████████████████████████████████████| 100/100 [00:18<00:00,  5.40it/s]\n"
     ]
    },
    {
     "name": "stdout",
     "output_type": "stream",
     "text": [
      "epochs 54/100 and avg_loss: 14.027446391005794\n"
     ]
    },
    {
     "name": "stderr",
     "output_type": "stream",
     "text": [
      "100%|█████████████████████████████████████████| 100/100 [00:18<00:00,  5.41it/s]\n"
     ]
    },
    {
     "name": "stdout",
     "output_type": "stream",
     "text": [
      "epochs 55/100 and avg_loss: 13.880561265391226\n"
     ]
    },
    {
     "name": "stderr",
     "output_type": "stream",
     "text": [
      "100%|█████████████████████████████████████████| 100/100 [00:18<00:00,  5.40it/s]\n"
     ]
    },
    {
     "name": "stdout",
     "output_type": "stream",
     "text": [
      "epochs 56/100 and avg_loss: 13.7376009200522\n"
     ]
    },
    {
     "name": "stderr",
     "output_type": "stream",
     "text": [
      "100%|█████████████████████████████████████████| 100/100 [00:18<00:00,  5.40it/s]\n"
     ]
    },
    {
     "name": "stdout",
     "output_type": "stream",
     "text": [
      "epochs 57/100 and avg_loss: 13.598407074130991\n"
     ]
    },
    {
     "name": "stderr",
     "output_type": "stream",
     "text": [
      "100%|█████████████████████████████████████████| 100/100 [00:18<00:00,  5.40it/s]\n"
     ]
    },
    {
     "name": "stdout",
     "output_type": "stream",
     "text": [
      "epochs 58/100 and avg_loss: 13.462830752139302\n"
     ]
    },
    {
     "name": "stderr",
     "output_type": "stream",
     "text": [
      "100%|█████████████████████████████████████████| 100/100 [00:18<00:00,  5.41it/s]\n"
     ]
    },
    {
     "name": "stdout",
     "output_type": "stream",
     "text": [
      "epochs 59/100 and avg_loss: 13.3307314745721\n"
     ]
    },
    {
     "name": "stderr",
     "output_type": "stream",
     "text": [
      "100%|█████████████████████████████████████████| 100/100 [00:18<00:00,  5.41it/s]\n"
     ]
    },
    {
     "name": "stdout",
     "output_type": "stream",
     "text": [
      "epochs 60/100 and avg_loss: 13.201976539846026\n"
     ]
    },
    {
     "name": "stderr",
     "output_type": "stream",
     "text": [
      "100%|█████████████████████████████████████████| 100/100 [00:18<00:00,  5.41it/s]\n"
     ]
    },
    {
     "name": "stdout",
     "output_type": "stream",
     "text": [
      "epochs 61/100 and avg_loss: 13.076440385947398\n"
     ]
    },
    {
     "name": "stderr",
     "output_type": "stream",
     "text": [
      "100%|█████████████████████████████████████████| 100/100 [00:18<00:00,  5.40it/s]\n"
     ]
    },
    {
     "name": "stdout",
     "output_type": "stream",
     "text": [
      "epochs 62/100 and avg_loss: 12.954004021737976\n"
     ]
    },
    {
     "name": "stderr",
     "output_type": "stream",
     "text": [
      "100%|█████████████████████████████████████████| 100/100 [00:18<00:00,  5.40it/s]\n"
     ]
    },
    {
     "name": "stdout",
     "output_type": "stream",
     "text": [
      "epochs 63/100 and avg_loss: 12.834554519210801\n"
     ]
    },
    {
     "name": "stderr",
     "output_type": "stream",
     "text": [
      "100%|█████████████████████████████████████████| 100/100 [00:18<00:00,  5.41it/s]\n"
     ]
    },
    {
     "name": "stdout",
     "output_type": "stream",
     "text": [
      "epochs 64/100 and avg_loss: 12.71798455914645\n"
     ]
    },
    {
     "name": "stderr",
     "output_type": "stream",
     "text": [
      "100%|█████████████████████████████████████████| 100/100 [00:18<00:00,  5.41it/s]\n"
     ]
    },
    {
     "name": "stdout",
     "output_type": "stream",
     "text": [
      "epochs 65/100 and avg_loss: 12.60419202361799\n"
     ]
    },
    {
     "name": "stderr",
     "output_type": "stream",
     "text": [
      "100%|█████████████████████████████████████████| 100/100 [00:18<00:00,  5.40it/s]\n"
     ]
    },
    {
     "name": "stdout",
     "output_type": "stream",
     "text": [
      "epochs 66/100 and avg_loss: 12.493079629653293\n"
     ]
    },
    {
     "name": "stderr",
     "output_type": "stream",
     "text": [
      "100%|█████████████████████████████████████████| 100/100 [00:18<00:00,  5.39it/s]\n"
     ]
    },
    {
     "name": "stdout",
     "output_type": "stream",
     "text": [
      "epochs 67/100 and avg_loss: 12.384554599106817\n"
     ]
    },
    {
     "name": "stderr",
     "output_type": "stream",
     "text": [
      "100%|█████████████████████████████████████████| 100/100 [00:18<00:00,  5.40it/s]\n"
     ]
    },
    {
     "name": "stdout",
     "output_type": "stream",
     "text": [
      "epochs 68/100 and avg_loss: 12.27852836043471\n"
     ]
    },
    {
     "name": "stderr",
     "output_type": "stream",
     "text": [
      "100%|█████████████████████████████████████████| 100/100 [00:18<00:00,  5.39it/s]\n"
     ]
    },
    {
     "name": "stdout",
     "output_type": "stream",
     "text": [
      "epochs 69/100 and avg_loss: 12.174916278622337\n"
     ]
    },
    {
     "name": "stderr",
     "output_type": "stream",
     "text": [
      "100%|█████████████████████████████████████████| 100/100 [00:18<00:00,  5.40it/s]\n"
     ]
    },
    {
     "name": "stdout",
     "output_type": "stream",
     "text": [
      "epochs 70/100 and avg_loss: 12.073637409993633\n"
     ]
    },
    {
     "name": "stderr",
     "output_type": "stream",
     "text": [
      "100%|█████████████████████████████████████████| 100/100 [00:18<00:00,  5.40it/s]\n"
     ]
    },
    {
     "name": "stdout",
     "output_type": "stream",
     "text": [
      "epochs 71/100 and avg_loss: 11.974614279048138\n"
     ]
    },
    {
     "name": "stderr",
     "output_type": "stream",
     "text": [
      "100%|█████████████████████████████████████████| 100/100 [00:18<00:00,  5.40it/s]\n"
     ]
    },
    {
     "name": "stdout",
     "output_type": "stream",
     "text": [
      "epochs 72/100 and avg_loss: 11.877772674831517\n"
     ]
    },
    {
     "name": "stderr",
     "output_type": "stream",
     "text": [
      "100%|█████████████████████████████████████████| 100/100 [00:18<00:00,  5.39it/s]\n"
     ]
    },
    {
     "name": "stdout",
     "output_type": "stream",
     "text": [
      "epochs 73/100 and avg_loss: 11.783041464659162\n"
     ]
    },
    {
     "name": "stderr",
     "output_type": "stream",
     "text": [
      "100%|█████████████████████████████████████████| 100/100 [00:18<00:00,  5.39it/s]\n"
     ]
    },
    {
     "name": "stdout",
     "output_type": "stream",
     "text": [
      "epochs 74/100 and avg_loss: 11.690352423283176\n"
     ]
    },
    {
     "name": "stderr",
     "output_type": "stream",
     "text": [
      "100%|█████████████████████████████████████████| 100/100 [00:18<00:00,  5.39it/s]\n"
     ]
    },
    {
     "name": "stdout",
     "output_type": "stream",
     "text": [
      "epochs 75/100 and avg_loss: 11.59964007582989\n"
     ]
    },
    {
     "name": "stderr",
     "output_type": "stream",
     "text": [
      "100%|█████████████████████████████████████████| 100/100 [00:18<00:00,  5.39it/s]\n"
     ]
    },
    {
     "name": "stdout",
     "output_type": "stream",
     "text": [
      "epochs 76/100 and avg_loss: 11.510841553039423\n"
     ]
    },
    {
     "name": "stderr",
     "output_type": "stream",
     "text": [
      "100%|█████████████████████████████████████████| 100/100 [00:18<00:00,  5.40it/s]\n"
     ]
    },
    {
     "name": "stdout",
     "output_type": "stream",
     "text": [
      "epochs 77/100 and avg_loss: 11.423896457518241\n"
     ]
    },
    {
     "name": "stderr",
     "output_type": "stream",
     "text": [
      "100%|█████████████████████████████████████████| 100/100 [00:18<00:00,  5.41it/s]\n"
     ]
    },
    {
     "name": "stdout",
     "output_type": "stream",
     "text": [
      "epochs 78/100 and avg_loss: 11.338746739870627\n"
     ]
    },
    {
     "name": "stderr",
     "output_type": "stream",
     "text": [
      "100%|█████████████████████████████████████████| 100/100 [00:18<00:00,  5.41it/s]\n"
     ]
    },
    {
     "name": "stdout",
     "output_type": "stream",
     "text": [
      "epochs 79/100 and avg_loss: 11.2553365837108\n"
     ]
    },
    {
     "name": "stderr",
     "output_type": "stream",
     "text": [
      "100%|█████████████████████████████████████████| 100/100 [00:18<00:00,  5.41it/s]\n"
     ]
    },
    {
     "name": "stdout",
     "output_type": "stream",
     "text": [
      "epochs 80/100 and avg_loss: 11.173612298675684\n"
     ]
    },
    {
     "name": "stderr",
     "output_type": "stream",
     "text": [
      "100%|█████████████████████████████████████████| 100/100 [00:18<00:00,  5.41it/s]\n"
     ]
    },
    {
     "name": "stdout",
     "output_type": "stream",
     "text": [
      "epochs 81/100 and avg_loss: 11.093522220661754\n"
     ]
    },
    {
     "name": "stderr",
     "output_type": "stream",
     "text": [
      "100%|█████████████████████████████████████████| 100/100 [00:18<00:00,  5.39it/s]\n"
     ]
    },
    {
     "name": "stdout",
     "output_type": "stream",
     "text": [
      "epochs 82/100 and avg_loss: 11.015016618599308\n"
     ]
    },
    {
     "name": "stderr",
     "output_type": "stream",
     "text": [
      "100%|█████████████████████████████████████████| 100/100 [00:18<00:00,  5.40it/s]\n"
     ]
    },
    {
     "name": "stdout",
     "output_type": "stream",
     "text": [
      "epochs 83/100 and avg_loss: 10.938047607156905\n"
     ]
    },
    {
     "name": "stderr",
     "output_type": "stream",
     "text": [
      "100%|█████████████████████████████████████████| 100/100 [00:18<00:00,  5.40it/s]\n"
     ]
    },
    {
     "name": "stdout",
     "output_type": "stream",
     "text": [
      "epochs 84/100 and avg_loss: 10.862569064837352\n"
     ]
    },
    {
     "name": "stderr",
     "output_type": "stream",
     "text": [
      "100%|█████████████████████████████████████████| 100/100 [00:18<00:00,  5.40it/s]\n"
     ]
    },
    {
     "name": "stdout",
     "output_type": "stream",
     "text": [
      "epochs 85/100 and avg_loss: 10.788536556987584\n"
     ]
    },
    {
     "name": "stderr",
     "output_type": "stream",
     "text": [
      "100%|█████████████████████████████████████████| 100/100 [00:18<00:00,  5.40it/s]\n"
     ]
    },
    {
     "name": "stdout",
     "output_type": "stream",
     "text": [
      "epochs 86/100 and avg_loss: 10.71590726329762\n"
     ]
    },
    {
     "name": "stderr",
     "output_type": "stream",
     "text": [
      "100%|█████████████████████████████████████████| 100/100 [00:18<00:00,  5.40it/s]\n"
     ]
    },
    {
     "name": "stdout",
     "output_type": "stream",
     "text": [
      "epochs 87/100 and avg_loss: 10.644639909410326\n"
     ]
    },
    {
     "name": "stderr",
     "output_type": "stream",
     "text": [
      "100%|█████████████████████████████████████████| 100/100 [00:18<00:00,  5.37it/s]\n"
     ]
    },
    {
     "name": "stdout",
     "output_type": "stream",
     "text": [
      "epochs 88/100 and avg_loss: 10.574694702304946\n"
     ]
    },
    {
     "name": "stderr",
     "output_type": "stream",
     "text": [
      "100%|█████████████████████████████████████████| 100/100 [00:18<00:00,  5.40it/s]\n"
     ]
    },
    {
     "name": "stdout",
     "output_type": "stream",
     "text": [
      "epochs 89/100 and avg_loss: 10.506033269153026\n"
     ]
    },
    {
     "name": "stderr",
     "output_type": "stream",
     "text": [
      "100%|█████████████████████████████████████████| 100/100 [00:18<00:00,  5.40it/s]\n"
     ]
    },
    {
     "name": "stdout",
     "output_type": "stream",
     "text": [
      "epochs 90/100 and avg_loss: 10.43861859937716\n"
     ]
    },
    {
     "name": "stderr",
     "output_type": "stream",
     "text": [
      "100%|█████████████████████████████████████████| 100/100 [00:18<00:00,  5.40it/s]\n"
     ]
    },
    {
     "name": "stdout",
     "output_type": "stream",
     "text": [
      "epochs 91/100 and avg_loss: 10.372414989671055\n"
     ]
    },
    {
     "name": "stderr",
     "output_type": "stream",
     "text": [
      "100%|█████████████████████████████████████████| 100/100 [00:18<00:00,  5.40it/s]\n"
     ]
    },
    {
     "name": "stdout",
     "output_type": "stream",
     "text": [
      "epochs 92/100 and avg_loss: 10.307387991763582\n"
     ]
    },
    {
     "name": "stderr",
     "output_type": "stream",
     "text": [
      "100%|█████████████████████████████████████████| 100/100 [00:18<00:00,  5.40it/s]\n"
     ]
    },
    {
     "name": "stdout",
     "output_type": "stream",
     "text": [
      "epochs 93/100 and avg_loss: 10.243504362731825\n"
     ]
    },
    {
     "name": "stderr",
     "output_type": "stream",
     "text": [
      "100%|█████████████████████████████████████████| 100/100 [00:18<00:00,  5.40it/s]\n"
     ]
    },
    {
     "name": "stdout",
     "output_type": "stream",
     "text": [
      "epochs 94/100 and avg_loss: 10.180732017686667\n"
     ]
    },
    {
     "name": "stderr",
     "output_type": "stream",
     "text": [
      "100%|█████████████████████████████████████████| 100/100 [00:18<00:00,  5.40it/s]\n"
     ]
    },
    {
     "name": "stdout",
     "output_type": "stream",
     "text": [
      "epochs 95/100 and avg_loss: 10.119039984671947\n"
     ]
    },
    {
     "name": "stderr",
     "output_type": "stream",
     "text": [
      "100%|█████████████████████████████████████████| 100/100 [00:18<00:00,  5.40it/s]\n"
     ]
    },
    {
     "name": "stdout",
     "output_type": "stream",
     "text": [
      "epochs 96/100 and avg_loss: 10.058398361633008\n"
     ]
    },
    {
     "name": "stderr",
     "output_type": "stream",
     "text": [
      "100%|█████████████████████████████████████████| 100/100 [00:18<00:00,  5.41it/s]\n"
     ]
    },
    {
     "name": "stdout",
     "output_type": "stream",
     "text": [
      "epochs 97/100 and avg_loss: 9.998778275323861\n"
     ]
    },
    {
     "name": "stderr",
     "output_type": "stream",
     "text": [
      "100%|█████████████████████████████████████████| 100/100 [00:18<00:00,  5.40it/s]\n"
     ]
    },
    {
     "name": "stdout",
     "output_type": "stream",
     "text": [
      "epochs 98/100 and avg_loss: 9.940151842033877\n"
     ]
    },
    {
     "name": "stderr",
     "output_type": "stream",
     "text": [
      "100%|█████████████████████████████████████████| 100/100 [00:18<00:00,  5.40it/s]\n"
     ]
    },
    {
     "name": "stdout",
     "output_type": "stream",
     "text": [
      "epochs 99/100 and avg_loss: 9.882492130025799\n"
     ]
    },
    {
     "name": "stderr",
     "output_type": "stream",
     "text": [
      "100%|█████████████████████████████████████████| 100/100 [00:18<00:00,  5.40it/s]"
     ]
    },
    {
     "name": "stdout",
     "output_type": "stream",
     "text": [
      "epochs 100/100 and avg_loss: 9.825773123585753\n"
     ]
    },
    {
     "name": "stderr",
     "output_type": "stream",
     "text": [
      "\n"
     ]
    }
   ],
   "source": [
    "# for part 2 we need to write a class for the  L2 loss\n",
    "class L2_loss():\n",
    "    def ___init__(self):\n",
    "        self.f =None\n",
    "    \n",
    "    def forward(self, C0_output,C_output):\n",
    "        # Conv. output is of dimension (batchsize,channels,height,width)\n",
    "        # calculate the L2 norm of (C0_output - C_output)\n",
    "        self.f = C0_output-C_output\n",
    "        loss = np.linalg.norm(self.f)\n",
    "        \n",
    "        return loss\n",
    "    def backward(self,output_grad):\n",
    "        \n",
    "        # from the loss, and the conv. output, get the grad at each location\n",
    "        grad = -2*self.f\n",
    "        # The grad is of the shape (batchsize,channels,height,width)\n",
    "        return grad\n",
    "\n",
    "# Now Init a new conv layer C and a L2 loss layer\n",
    "C_weights = np.random.uniform(-1,1,size=C0_weights.shape)/np.sqrt(np.product(C0_weights.shape))\n",
    "\n",
    "C_layer = Convolution_Layer(3,20,(5,5))\n",
    "C_layer.set_weights(C_weights)\n",
    "\n",
    "# Train the new conv-layer C using the L2 loss to learn C_0, i.e., the set of given weights.\n",
    "epochs=100\n",
    "l2_loss = L2_loss()\n",
    "for epoch in range(epochs):\n",
    "    loss= 0\n",
    "    \n",
    "    for i in trange(train_imgs.shape[0]):\n",
    "\n",
    "        ## forward ###\n",
    "        C_output = C_layer.forward(train_imgs[i])\n",
    "        loss += l2_loss.forward(C0_output_imgs[i],C_output)/train_imgs.shape[0]\n",
    "\n",
    "        ### backward ####\n",
    "        loss_backward = l2_loss.backward(loss)\n",
    "        C_layer.backward(loss_backward)\n",
    "    \n",
    "    \n",
    "    print(\"epochs {}/{} and avg_loss: {}\".format(epoch+1,epochs,loss))\n",
    "\n",
    "\n"
   ]
  },
  {
   "cell_type": "code",
   "execution_count": 38,
   "metadata": {},
   "outputs": [
    {
     "name": "stdout",
     "output_type": "stream",
     "text": [
      "Filter Weights Shape:  (20, 5, 5, 3)\n",
      "6.122678630579903\n",
      "9.510801660581873\n",
      "15.174464141338136\n",
      "5.0170420791171\n",
      "7.806960260646706\n",
      "4.768377295950659\n",
      "6.699546760432663\n",
      "9.821276874770943\n",
      "13.16160206628492\n",
      "18.980827352397476\n",
      "4.967112407765804\n",
      "5.146595521010078\n",
      "5.241666973725947\n",
      "10.797770565158283\n",
      "12.375903419199508\n",
      "6.271141726936732\n",
      "7.431025460899855\n",
      "16.38714102161456\n",
      "15.072524017684728\n",
      "15.598048208390889\n",
      "7.241726849021507\n",
      "27.12680101458788\n",
      "6.373120682562012\n",
      "7.4284969947271735\n",
      "11.26137497081683\n",
      "12.206657453577037\n",
      "6.622623984010958\n",
      "20.82943082422038\n",
      "6.783697298582141\n",
      "7.345469629847861\n",
      "6.507265995932246\n",
      "9.642205756198999\n",
      "4.873235796923667\n",
      "15.871640840608029\n",
      "17.418980413039137\n",
      "20.134800994447364\n",
      "2.815429482782505\n",
      "8.721736988508011\n",
      "5.604441983738715\n",
      "18.393923522364457\n",
      "4.655587669822809\n",
      "5.17297105385233\n",
      "13.740627613356445\n",
      "10.126075326062894\n",
      "8.092650719612998\n",
      "4.8012276563756755\n",
      "11.553436538497532\n",
      "4.88438630397847\n",
      "14.981573139958321\n",
      "12.233043418017813\n",
      "5.7351521262507195\n",
      "6.25206960977871\n",
      "15.281159743248326\n",
      "8.70428274097869\n",
      "5.185426895015211\n",
      "7.746625669679799\n",
      "11.329690932305553\n",
      "17.469759126153367\n",
      "5.2201702951158655\n",
      "5.902005579589643\n",
      "5.715054601934176\n",
      "16.032784489228625\n",
      "6.5239212561420015\n",
      "10.687595427127693\n",
      "10.114156555178788\n",
      "11.783379290608655\n",
      "4.051591994509468\n",
      "13.955105873430064\n",
      "4.128955896454127\n",
      "15.436435927018993\n",
      "7.2400081883890826\n",
      "1.976374703669666\n",
      "4.241931440869285\n",
      "10.713162845798093\n",
      "2.4887553932866613\n",
      "3.613502815777622\n",
      "5.890073583188283\n",
      "24.922635029093787\n",
      "9.906772731188903\n",
      "12.908041885774653\n",
      "8.033205566047949\n",
      "9.339810581604707\n",
      "15.423740418720326\n",
      "5.587231094888289\n",
      "12.113673355379882\n",
      "10.443020098211084\n",
      "7.327258605176408\n",
      "8.2685100075103\n",
      "17.4971704071006\n",
      "27.28766624758453\n",
      "7.510117762231438\n",
      "8.259751900169547\n",
      "12.370755301763888\n",
      "6.229094105525738\n",
      "6.802175284639916\n",
      "10.023377528552418\n",
      "1.3989581593686857\n",
      "8.232635632973658\n",
      "5.96898507382484\n",
      "9.249660088660114\n",
      "L2 distance between output from new_trained_Convolution Layer C and the outputs generated from C_0 is as follows:\n",
      "8405.809667796364\n"
     ]
    }
   ],
   "source": [
    "# Print L2 dist between output from the new trained convolution layer C and the outputs generated from C_0.\n",
    "C11_layer = Convolution_Layer(3,20,(5,5))\n",
    "C11_layer.set_weights(C_layer.weights)\n",
    "C11_output_imgs = []\n",
    "for i in range(100):\n",
    "    C11_output = C11_layer.forward(train_imgs[i])\n",
    "    C11_output_imgs.append(C0_output)\n",
    "    print(np.linalg.norm(C11_output-C0_output_imgs[i]))\n",
    "C11_output_imgs = np.array(C11_output_imgs)\n",
    "\n",
    "\n",
    "print(\"L2 distance between output from new_trained_Convolution Layer C and the outputs generated from C_0 is as follows:\")\n",
    "print(np.linalg.norm(C0_output_imgs-C11_output_imgs))"
   ]
  },
  {
   "cell_type": "code",
   "execution_count": 37,
   "metadata": {},
   "outputs": [
    {
     "name": "stdout",
     "output_type": "stream",
     "text": [
      "11.759698765834825\n"
     ]
    }
   ],
   "source": [
    "print(np.linalg.norm(C_layer.weights - C0_weights))"
   ]
  },
  {
   "cell_type": "code",
   "execution_count": null,
   "metadata": {},
   "outputs": [],
   "source": []
  },
  {
   "cell_type": "code",
   "execution_count": null,
   "metadata": {},
   "outputs": [],
   "source": []
  },
  {
   "cell_type": "code",
   "execution_count": null,
   "metadata": {},
   "outputs": [],
   "source": []
  },
  {
   "cell_type": "code",
   "execution_count": null,
   "metadata": {},
   "outputs": [],
   "source": []
  },
  {
   "cell_type": "code",
   "execution_count": null,
   "metadata": {},
   "outputs": [],
   "source": []
  },
  {
   "cell_type": "code",
   "execution_count": null,
   "metadata": {},
   "outputs": [],
   "source": []
  },
  {
   "cell_type": "code",
   "execution_count": null,
   "metadata": {},
   "outputs": [],
   "source": []
  },
  {
   "cell_type": "code",
   "execution_count": null,
   "metadata": {},
   "outputs": [],
   "source": []
  }
 ],
 "metadata": {
  "anaconda-cloud": {},
  "colab": {
   "collapsed_sections": [],
   "name": "DLCV_Assignment_2-edit.ipynb",
   "provenance": []
  },
  "interpreter": {
   "hash": "6945496b114ae6c8dbcad4f53e4fc084fdd8255c08c862c02a1152642bece680"
  },
  "kernelspec": {
   "display_name": "Python 3 (ipykernel)",
   "language": "python",
   "name": "python3"
  },
  "language_info": {
   "codemirror_mode": {
    "name": "ipython",
    "version": 3
   },
   "file_extension": ".py",
   "mimetype": "text/x-python",
   "name": "python",
   "nbconvert_exporter": "python",
   "pygments_lexer": "ipython3",
   "version": "3.10.6"
  }
 },
 "nbformat": 4,
 "nbformat_minor": 1
}
