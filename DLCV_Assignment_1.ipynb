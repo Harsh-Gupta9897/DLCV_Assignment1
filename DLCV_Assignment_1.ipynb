{
 "cells": [
  {
   "cell_type": "markdown",
   "metadata": {
    "colab_type": "text",
    "id": "KE1Rct79pdT1"
   },
   "source": [
    "# DLCV Assignment 1\n",
    "\n",
    "**Due Date: 17/02/2023 11:59PM IST**\n",
    "\n",
    "**Name:** \n",
    "Harsh Gupta\n",
    "\n",
    "**Sr. No.:**\n",
    "20961\n",
    "\n",
    "In this assignment, we will cover the following topics:\n",
    "\n",
    "1) Training a simple Linear Model \n",
    "\n",
    "2) Implementing Modules with Backprop functionality\n",
    "\n",
    "3) Implementing Convolution Module on Numpy\n",
    "\n",
    "\n",
    "It is crucial to get down to the nitty gritty of the code to implement all of these. No external packages (like caffe,pytorch etc), which directly give functions for these steps, are to be used. "
   ]
  },
  {
   "cell_type": "markdown",
   "metadata": {
    "colab_type": "text",
    "id": "Emb3Bo_NpdUl"
   },
   "source": [
    "# Training a simple Linear Model\n",
    "\n",
    "In this section, you will write the code to train a Linear Model. The goal is to classify an input $X_i$ of size $n$ into one of $m$ classes. For this, you need to consider the following:\n",
    "\n",
    "1)  **Weight Matrix** $W_{n\\times m}$: The Weights are multipled with the input $X_i$ (vector of size $n$), to find $m$ scores $S_m$ for the $m$ classes.\n",
    "\n",
    "2)  **The Loss function**:   \n",
    "  * The Cross Entropy Loss: By interpreting the scores as unnormalized log probabilities for each class, this loss tries to measure dissatisfaction with the scores in terms of the log probability of the right class:\n",
    "\n",
    "$$\n",
    "L_i = -\\log\\left(\\frac{e^{f_{y_i}}}{ \\sum_j e^{f_j} }\\right) \\hspace{0.5in} \\text{or equivalently} \\hspace{0.5in} L_i = -f_{y_i} + \\log\\sum_j e^{f_j}\n",
    "$$\n",
    "\n",
    "where $f_{ y_i }$ is the $y_i$-th element of the output of $W^T  X_i$\n",
    "\n",
    "3) **A Regularization term**: In addition to the loss, you need a Regularization term to lead to a more distributed (in case of $L_2$) or sparse (in case of $L_1$) learning of the weights. For example, with $L_2$ regularization, the loss has the following additional term:\n",
    "\n",
    "$$\n",
    "R(W) = \\sum_k\\sum_l W_{k,l}^2  \n",
    "$$\n",
    "\n",
    "Thus the total loss has the form:\n",
    "$$\n",
    "L =  \\underbrace{ \\frac{1}{N} \\sum_i L_i }_\\text{data loss} + \\underbrace{ \\lambda R(W) }_\\text{regularization loss} \\\\\\\\\n",
    "$$\n",
    "\n",
    "4) **An Optimization Procedure**: This refers to the process which tweaks the weight Matrix $W_{n\\times m}$ to reduce the loss function $L$. In our case, this refers to Mini-batch Gradient Descent algorithm. We adjust the weights $W_{n\\times m}$, based on the gradient of the loss $L$ w.r.t. $W_{n\\times m}$. This leads to:\n",
    "$$\n",
    "W_{t+1} = W_{t} - \\alpha \\frac{\\partial L}{\\partial W},\n",
    "$$\n",
    "where $\\alpha$ is the learning rate. Additionally, with \"mini-batch\" gradient descent, instead of finding loss over the whole dataset, we use a small sample $B$ of the training data to make each learning step. Hence,\n",
    "$$\n",
    "W_{t+1} = W_{t} - \\alpha \\frac{\\partial \\sum_{i \\in B}{L_{x_i}}}{\\partial W},\n",
    "$$\n",
    "where $|B|$ is the batch size."
   ]
  },
  {
   "cell_type": "markdown",
   "metadata": {},
   "source": [
    "**All downloaded Files Placed in \"data/\" folder** "
   ]
  },
  {
   "cell_type": "markdown",
   "metadata": {
    "colab_type": "text",
    "id": "I2neGQlEpdVD"
   },
   "source": [
    "# Question 1\n",
    "\n",
    "Train a **Single-Layer Classifier** for the MNIST dataset. \n",
    "* Use Softmax-Loss.\n",
    "* Maintain a train-validation split of the original training set for finding the right value of $\\lambda$ for the regularization, and to check for over-fitting.\n",
    "* Finally, evaluate the classification performance on the test-set.\n"
   ]
  },
  {
   "cell_type": "code",
   "execution_count": 1,
   "metadata": {},
   "outputs": [],
   "source": [
    "import numpy as np\n",
    "import pandas as pd\n",
    "import math\n",
    "import struct\n",
    "import pickle\n",
    "\n",
    "\n",
    "import matplotlib.pyplot as plt\n",
    "import seaborn as sns\n",
    "from tqdm import tqdm, trange\n",
    "from sklearn.model_selection import train_test_split"
   ]
  },
  {
   "cell_type": "code",
   "execution_count": 2,
   "metadata": {
    "colab": {},
    "colab_type": "code",
    "id": "jwa72NJTpdVc"
   },
   "outputs": [
    {
     "name": "stdout",
     "output_type": "stream",
     "text": [
      "############### Training Samples and Labels ###############\n"
     ]
    },
    {
     "data": {
      "image/png": "[encoded data removed]",
      "text/plain": [
       "<Figure size 432x288 with 1 Axes>"
      ]
     },
     "metadata": {
      "needs_background": "light"
     },
     "output_type": "display_data"
    },
    {
     "name": "stdout",
     "output_type": "stream",
     "text": [
      "5\n",
      "(60000, 28, 28)\n",
      "(60000,)\n",
      "############### Testing Samples and Labels ###############\n"
     ]
    },
    {
     "data": {
      "image/png": "[encoded data removed]",
      "text/plain": [
       "<Figure size 432x288 with 1 Axes>"
      ]
     },
     "metadata": {
      "needs_background": "light"
     },
     "output_type": "display_data"
    },
    {
     "name": "stdout",
     "output_type": "stream",
     "text": [
      "7\n",
      "(10000, 28, 28)\n",
      "(10000,)\n",
      "{0, 1, 2, 3, 4, 5, 6, 7, 8, 9}\n"
     ]
    }
   ],
   "source": [
    "## Load The Mnist data:\n",
    "# Download data from http://yann.lecun.com/exdb/mnist/\n",
    "# load the data.\n",
    "\n",
    "\n",
    "####### train_images and labels #############\n",
    "with open('data/train-images-idx3-ubyte','rb') as f:\n",
    "    magic, size = struct.unpack(\">II\", f.read(8))\n",
    "    nrows, ncols = struct.unpack(\">II\", f.read(8))\n",
    "    train_imgs = np.fromfile(f, dtype=np.dtype(np.uint8).newbyteorder('>'))\n",
    "    train_imgs = train_imgs.reshape((size, nrows, ncols))\n",
    "    \n",
    "print(\"############### Training Samples and Labels ###############\")\n",
    "plt.imshow(train_imgs[0,:,:], cmap='gray')\n",
    "plt.show()\n",
    "\n",
    "\n",
    "with open('data/train-labels-idx1-ubyte','rb') as f:\n",
    "    magic, size = struct.unpack(\">II\", f.read(8))\n",
    "    train_labels = np.fromfile(f, dtype=np.dtype(np.uint8).newbyteorder('>'))\n",
    "    train_labels = train_labels.reshape((size,)) # (Optional)\n",
    "print(train_labels[0])\n",
    "print(train_imgs.shape)\n",
    "print(train_labels.shape)\n",
    "\n",
    "\n",
    "####### test_images and labels #############\n",
    "\n",
    "with open('data/t10k-images-idx3-ubyte','rb') as f:\n",
    "    magic, size = struct.unpack(\">II\", f.read(8))\n",
    "    nrows, ncols = struct.unpack(\">II\", f.read(8))\n",
    "    test_imgs = np.fromfile(f, dtype=np.dtype(np.uint8).newbyteorder('>'))\n",
    "    test_imgs = test_imgs.reshape((size, nrows, ncols))\n",
    "    \n",
    "print(\"############### Testing Samples and Labels ###############\")\n",
    "plt.imshow(test_imgs[0,:,:], cmap='gray')\n",
    "plt.show()\n",
    "\n",
    "\n",
    "with open('data/t10k-labels-idx1-ubyte','rb') as f:\n",
    "    magic, size = struct.unpack(\">II\", f.read(8))\n",
    "    test_labels = np.fromfile(f, dtype=np.dtype(np.uint8).newbyteorder('>'))\n",
    "    test_labels = test_labels.reshape((size,)) # (Optional)\n",
    "print(test_labels[0])\n",
    "print(test_imgs.shape)\n",
    "print(test_labels.shape)\n",
    "\n",
    "\n",
    "classes= set(test_labels)\n",
    "print(classes)\n",
    "\n",
    "    \n",
    "\n",
    "# maintain a train-val split\n",
    "\n",
    "# Now, write a generator that yields (random) mini-batches of the input data\n",
    "###### mini batch generator    \n",
    "def get_minibatch(training_x ,training_y ,batch_size=64):\n",
    "    ## Read about Python generators if required.\n",
    "\n",
    "    ## WRITE CODE HERE\n",
    "    indices = np.arange(len(training_x))\n",
    "    np.random.shuffle(indices)\n",
    "    \n",
    "    for i in range(0, len(training_x), batch_size):\n",
    "        mini_x = training_x[indices[i:i+batch_size]]\n",
    "        mini_y = training_y[indices[i:i+batch_size]]\n",
    "        yield mini_x, mini_y    \n"
   ]
  },
  {
   "cell_type": "code",
   "execution_count": 3,
   "metadata": {},
   "outputs": [],
   "source": [
    "######### train validation split ###########\n",
    "def train_val_split(X,y,train_size=0.9):\n",
    "    ids = X.shape[0]\n",
    "    r=list(range(ids))\n",
    "    np.random.shuffle(r)\n",
    "    samples = int(ids*train_size)\n",
    "    X_train, X_val, y_train, y_val = X[r[:samples]],X[r[samples:]],y[r[:samples]],y[r[samples:]]\n",
    "#     print(X_train.shape, y_train.shape,X_train.shape, y_train.shape)\n",
    "    return X_train, X_val, y_train, y_val\n",
    "\n",
    "\n",
    "train_imgs, val_imgs ,train_labels, val_labels = train_val_split(train_imgs,train_labels)\n"
   ]
  },
  {
   "cell_type": "code",
   "execution_count": 4,
   "metadata": {
    "colab": {},
    "colab_type": "code",
    "id": "HVMwqheRpdXo"
   },
   "outputs": [],
   "source": [
    "# Define the class for a Single Layer Classifier\n",
    "class Single_layer_classifier():\n",
    "    \n",
    "    def __init__(self, input_size, output_size):\n",
    "        \n",
    "        ## WRITE CODE HERE\n",
    "        self.weights = np.random.normal(loc=0,scale=0.001 ,size= (input_size,output_size))\n",
    "#         self.weights = np.random.rand(input_size,out///put_size)/math.sqrt(60000)\n",
    "        self.bias = np.random.normal(loc=0,scale=0.001 ,size= (1,output_size))\n",
    "        # Give the instance a weight matrix, initialized randomly\n",
    "        # One possible strategy for a good initialization is Normal (0, σ) where σ = 1e-3.\n",
    "        # Try experimenting with different values of σ.\n",
    "        \n",
    "    # Define the forward function\n",
    "    def forward(self, input_x):\n",
    "        # get the scores\n",
    "\n",
    "        scores = np.matmul(self.weights.T,input_x)    #+ self.bias.T\n",
    "        \n",
    "        \n",
    "        \n",
    "        return scores\n",
    "    \n",
    "    # Similarly a backward function\n",
    "    # we define 2 backward functions (as Loss = L_data + L_reg, grad(Loss) = grad(L1) + grad(L2))\n",
    "    \n",
    "    def backward_Ldata(self, grad_from_loss,x_i):\n",
    "        \n",
    "        # this function returns a matrix of the same size as the weights, \n",
    "        # where each element is the partial derivative of the loss w.r.t. the corresponding element of W\n",
    "        \n",
    "        x_i = x_i.reshape(x_i.shape[0],1)\n",
    "        grad_matrix =  np.matmul(x_i,grad_from_loss.T)\n",
    "        return grad_matrix\n",
    "        \n",
    "    def backward_Lreg(self):\n",
    "        \n",
    "        # this function returns a matrix of the same size as the weights, \n",
    "        # where each element is the partial derivative of the regularization-term\n",
    "        # w.r.t. the corresponding element of W\n",
    "        \n",
    "        grad_matrix = 2*self.weights\n",
    "        \n",
    "        return grad_matrix\n",
    "    \n",
    "    def backward(self,eta,lmbda,grad_matrix):\n",
    "        self.weights = self.weights - eta*(grad_matrix + lmbda*self.backward_Lreg())\n",
    "        "
   ]
  },
  {
   "cell_type": "code",
   "execution_count": 5,
   "metadata": {
    "colab": {},
    "colab_type": "code",
    "id": "BM3EhmY0pdYZ"
   },
   "outputs": [],
   "source": [
    "# Implement the Softmax loss function\n",
    "def loss_function(scores,input_y):\n",
    "    \n",
    "    eps = 0.001\n",
    "    fyi = sum(np.exp(scores)) + eps\n",
    "    return math.log(fyi) - scores[np.argmax(input_y)] \n",
    "\n",
    "\n",
    "def loss_backward(scores,input_y):\n",
    "    fyi = np.exp(scores)/sum(np.exp(scores))\n",
    "    fyi = fyi.reshape(10,1)                          \n",
    "    grad_from_loss = np.subtract(fyi,input_y)\n",
    "    return grad_from_loss\n",
    "        "
   ]
  },
  {
   "cell_type": "markdown",
   "metadata": {},
   "source": [
    "### Create utility functions for calculating training and validation accuracy"
   ]
  },
  {
   "cell_type": "code",
   "execution_count": 6,
   "metadata": {},
   "outputs": [],
   "source": [
    "# WRITE CODE HERE\n",
    "def getOneHotEncoding(y):\n",
    "    one_hot = np.zeros(shape=(10,1))\n",
    "    one_hot[y] = 1.0\n",
    "    return one_hot"
   ]
  },
  {
   "cell_type": "code",
   "execution_count": 7,
   "metadata": {
    "colab": {},
    "colab_type": "code",
    "id": "AhpaaUvJpdZJ"
   },
   "outputs": [
    {
     "name": "stderr",
     "output_type": "stream",
     "text": [
      "100%|███████████████████████████████████████████| 50/50 [01:00<00:00,  1.21s/it]"
     ]
    },
    {
     "name": "stdout",
     "output_type": "stream",
     "text": [
      "Min Loss is:  0.028900344534319587\n"
     ]
    },
    {
     "name": "stderr",
     "output_type": "stream",
     "text": [
      "\n"
     ]
    },
    {
     "data": {
      "image/png": "[encoded data removed]",
      "text/plain": [
       "<Figure size 432x288 with 1 Axes>"
      ]
     },
     "metadata": {
      "needs_background": "light"
     },
     "output_type": "display_data"
    }
   ],
   "source": [
    "# Finally the trainer:\n",
    "# Make an instance of Single_layer_classifier\n",
    "input_size = 784\n",
    "output_size= 10\n",
    "batch_size=50\n",
    "epochs =50\n",
    "min_loss=100\n",
    "model = Single_layer_classifier(input_size,output_size)\n",
    "\n",
    "###  Train on the train-set obtained from train-validation split\n",
    "batch_losses = []\n",
    "for epoch in trange(epochs):\n",
    "    \n",
    "    ###  Use the mini-batch generator to get each mini-batch\n",
    "    train_batches = get_minibatch(train_imgs,train_labels,batch_size)\n",
    "    for iter_num,(input_x , input_y) in enumerate(train_batches):\n",
    "        input_x = input_x\n",
    "        input_x = input_x.reshape(input_x.shape[0],-1)\n",
    "        ####### ----- batch ---- ######\n",
    "        \n",
    "        grads_emp = []\n",
    "        loss = []\n",
    "        ##### Forward Pass ##############\n",
    "        for i in range(batch_size):\n",
    "            scores = model.forward(input_x[i])\n",
    "            loss.append(loss_function(scores,getOneHotEncoding(input_y[i])))\n",
    "            grad_for_loss = loss_backward(scores,getOneHotEncoding(input_y[i]))\n",
    "            grads_emp.append(model.backward_Ldata(grad_for_loss,input_x[i]))\n",
    "            \n",
    "        ##### Backward Pass ##############\n",
    "        loss_p = sum(loss)/batch_size\n",
    "        batch_losses.append(loss_p)\n",
    "        min_loss = min(min_loss,loss_p)\n",
    "        gd = np.array(sum(grads_emp))/batch_size\n",
    "        model.backward(eta=0.000001,lmbda=0.02,grad_matrix = gd)\n",
    "    \n",
    "        ####### /----- batch ----/ ######\n",
    "        \n",
    "plt.plot(batch_losses)\n",
    "print(\"Min Loss is: \",min_loss)  \n"
   ]
  },
  {
   "cell_type": "code",
   "execution_count": 8,
   "metadata": {},
   "outputs": [
    {
     "name": "stdout",
     "output_type": "stream",
     "text": [
      "\n",
      "\n",
      "######### training Classification Report ########\n",
      "\n",
      "\n",
      "              precision    recall  f1-score   support\n",
      "\n",
      "           0       0.97      0.96      0.97      5372\n",
      "           1       0.98      0.96      0.97      6169\n",
      "           2       0.91      0.93      0.92      5250\n",
      "           3       0.90      0.92      0.91      5329\n",
      "           4       0.94      0.93      0.94      5257\n",
      "           5       0.88      0.90      0.89      4845\n",
      "           6       0.97      0.95      0.96      5443\n",
      "           7       0.94      0.95      0.94      5589\n",
      "           8       0.90      0.90      0.90      5259\n",
      "           9       0.92      0.90      0.91      5487\n",
      "\n",
      "    accuracy                           0.93     54000\n",
      "   macro avg       0.93      0.93      0.93     54000\n",
      "weighted avg       0.93      0.93      0.93     54000\n",
      "\n",
      "\n",
      "\n",
      "######### Test Classification Report ########\n",
      "\n",
      "\n",
      "              precision    recall  f1-score   support\n",
      "\n",
      "           0       0.98      0.96      0.97      1002\n",
      "           1       0.98      0.96      0.97      1158\n",
      "           2       0.89      0.93      0.91       994\n",
      "           3       0.90      0.93      0.91       979\n",
      "           4       0.93      0.93      0.93       973\n",
      "           5       0.87      0.89      0.88       875\n",
      "           6       0.95      0.94      0.94       970\n",
      "           7       0.93      0.93      0.93      1025\n",
      "           8       0.89      0.86      0.87      1003\n",
      "           9       0.91      0.90      0.91      1021\n",
      "\n",
      "    accuracy                           0.92     10000\n",
      "   macro avg       0.92      0.92      0.92     10000\n",
      "weighted avg       0.92      0.92      0.92     10000\n",
      "\n"
     ]
    }
   ],
   "source": [
    "from sklearn.metrics import classification_report, confusion_matrix\n",
    "\n",
    "######### training Classification Report ########\n",
    "print(\"\\n\\n######### training Classification Report ########\\n\\n\")\n",
    "\n",
    "y_pred =[]\n",
    "for input_x in train_imgs:\n",
    "    input_x = input_x.reshape(28*28,1)\n",
    "    scores = model.forward(input_x)\n",
    "    y_pred.append(np.argmax(scores))\n",
    "print(classification_report(y_pred,train_labels))\n",
    "\n",
    "\n",
    "######### Test Classification Report ########\n",
    "print(\"\\n\\n######### Test Classification Report ########\\n\\n\")\n",
    "y_test_pred =[]\n",
    "for input_x in test_imgs:\n",
    "    input_x = input_x.reshape(28*28,1)\n",
    "    scores = model.forward(input_x)\n",
    "    y_test_pred.append(np.argmax(scores))\n",
    "\n",
    "print(classification_report(y_test_pred,test_labels))\n",
    "    \n",
    "\n"
   ]
  },
  {
   "cell_type": "markdown",
   "metadata": {},
   "source": [
    "### Plot the training loss"
   ]
  },
  {
   "cell_type": "code",
   "execution_count": 9,
   "metadata": {},
   "outputs": [
    {
     "name": "stdout",
     "output_type": "stream",
     "text": [
      "Training_loss is as follows:\n"
     ]
    },
    {
     "data": {
      "text/plain": [
       "[<matplotlib.lines.Line2D at 0x14ab603a0>]"
      ]
     },
     "execution_count": 9,
     "metadata": {},
     "output_type": "execute_result"
    },
    {
     "data": {
      "image/png": "[encoded data removed]",
      "text/plain": [
       "<Figure size 432x288 with 1 Axes>"
      ]
     },
     "metadata": {
      "needs_background": "light"
     },
     "output_type": "display_data"
    }
   ],
   "source": [
    "# WRITE CODE HERE\n",
    "print(\"Training_loss is as follows:\")\n",
    "plt.plot(batch_losses)\n",
    "\n",
    "\n"
   ]
  },
  {
   "cell_type": "markdown",
   "metadata": {
    "colab": {},
    "colab_type": "code",
    "id": "RH22BqefpdZ4"
   },
   "source": [
    "### Find the accuracy on the validation set"
   ]
  },
  {
   "cell_type": "code",
   "execution_count": 10,
   "metadata": {},
   "outputs": [
    {
     "name": "stdout",
     "output_type": "stream",
     "text": [
      "\n",
      "\n",
      "######### Validation_set Classification Report ########\n",
      "\n",
      "\n",
      "              precision    recall  f1-score   support\n",
      "\n",
      "           0       0.97      0.96      0.96       579\n",
      "           1       0.97      0.95      0.96       705\n",
      "           2       0.90      0.94      0.92       592\n",
      "           3       0.88      0.92      0.90       615\n",
      "           4       0.94      0.93      0.94       614\n",
      "           5       0.87      0.87      0.87       506\n",
      "           6       0.96      0.93      0.95       599\n",
      "           7       0.93      0.92      0.93       620\n",
      "           8       0.86      0.85      0.86       596\n",
      "           9       0.89      0.89      0.89       574\n",
      "\n",
      "    accuracy                           0.92      6000\n",
      "   macro avg       0.92      0.92      0.92      6000\n",
      "weighted avg       0.92      0.92      0.92      6000\n",
      "\n"
     ]
    }
   ],
   "source": [
    "# WRITE CODE HERE\n",
    "\n",
    "######### Validation_set Classification Report ########\n",
    "print(\"\\n\\n######### Validation_set Classification Report ########\\n\\n\")\n",
    "\n",
    "y_val_pred =[]\n",
    "for input_x in val_imgs:\n",
    "    input_x = input_x.reshape(28*28,1)\n",
    "    scores = model.forward(input_x)\n",
    "    y_val_pred.append(np.argmax(scores))\n",
    "\n",
    "print(classification_report(y_val_pred,val_labels))"
   ]
  },
  {
   "cell_type": "code",
   "execution_count": 11,
   "metadata": {
    "colab": {},
    "colab_type": "code",
    "id": "7wMDvvA4pdbN"
   },
   "outputs": [
    {
     "name": "stderr",
     "output_type": "stream",
     "text": [
      "100%|█████████████████████████████████████████████| 5/5 [00:06<00:00,  1.26s/it]\n"
     ]
    },
    {
     "name": "stdout",
     "output_type": "stream",
     "text": [
      "Batch size: 50, Learning rate: 0.0001, Lambda: 0, Val loss: 0.03675659159145756, Val accuracy: 0.8775\n"
     ]
    },
    {
     "name": "stderr",
     "output_type": "stream",
     "text": [
      "100%|█████████████████████████████████████████████| 5/5 [00:06<00:00,  1.25s/it]\n"
     ]
    },
    {
     "name": "stdout",
     "output_type": "stream",
     "text": [
      "Batch size: 50, Learning rate: 0.0001, Lambda: 0.02, Val loss: 0.034822222940287875, Val accuracy: 0.871\n"
     ]
    },
    {
     "name": "stderr",
     "output_type": "stream",
     "text": [
      "100%|█████████████████████████████████████████████| 5/5 [00:06<00:00,  1.24s/it]\n"
     ]
    },
    {
     "name": "stdout",
     "output_type": "stream",
     "text": [
      "Batch size: 50, Learning rate: 0.0001, Lambda: 0.002, Val loss: 0.03350544738944487, Val accuracy: 0.8851666666666667\n"
     ]
    },
    {
     "name": "stderr",
     "output_type": "stream",
     "text": [
      "100%|█████████████████████████████████████████████| 5/5 [00:06<00:00,  1.24s/it]\n"
     ]
    },
    {
     "name": "stdout",
     "output_type": "stream",
     "text": [
      "Batch size: 50, Learning rate: 1e-05, Lambda: 0, Val loss: 0.0063046886814738376, Val accuracy: 0.9135\n"
     ]
    },
    {
     "name": "stderr",
     "output_type": "stream",
     "text": [
      "100%|█████████████████████████████████████████████| 5/5 [00:06<00:00,  1.32s/it]\n"
     ]
    },
    {
     "name": "stdout",
     "output_type": "stream",
     "text": [
      "Batch size: 50, Learning rate: 1e-05, Lambda: 0.02, Val loss: 0.006576454120073651, Val accuracy: 0.9033333333333333\n"
     ]
    },
    {
     "name": "stderr",
     "output_type": "stream",
     "text": [
      "100%|█████████████████████████████████████████████| 5/5 [00:06<00:00,  1.26s/it]\n"
     ]
    },
    {
     "name": "stdout",
     "output_type": "stream",
     "text": [
      "Batch size: 50, Learning rate: 1e-05, Lambda: 0.002, Val loss: 0.006525222488747808, Val accuracy: 0.9073333333333333\n"
     ]
    },
    {
     "name": "stderr",
     "output_type": "stream",
     "text": [
      "100%|█████████████████████████████████████████████| 5/5 [00:06<00:00,  1.26s/it]\n"
     ]
    },
    {
     "name": "stdout",
     "output_type": "stream",
     "text": [
      "Batch size: 50, Learning rate: 1e-06, Lambda: 0, Val loss: 0.0065593296901984965, Val accuracy: 0.9066666666666666\n"
     ]
    },
    {
     "name": "stderr",
     "output_type": "stream",
     "text": [
      "100%|█████████████████████████████████████████████| 5/5 [00:06<00:00,  1.25s/it]\n"
     ]
    },
    {
     "name": "stdout",
     "output_type": "stream",
     "text": [
      "Batch size: 50, Learning rate: 1e-06, Lambda: 0.02, Val loss: 0.006666332451386384, Val accuracy: 0.9045\n"
     ]
    },
    {
     "name": "stderr",
     "output_type": "stream",
     "text": [
      "100%|█████████████████████████████████████████████| 5/5 [00:06<00:00,  1.25s/it]\n"
     ]
    },
    {
     "name": "stdout",
     "output_type": "stream",
     "text": [
      "Batch size: 50, Learning rate: 1e-06, Lambda: 0.002, Val loss: 0.006634758803672476, Val accuracy: 0.9046666666666666\n"
     ]
    },
    {
     "name": "stderr",
     "output_type": "stream",
     "text": [
      "100%|█████████████████████████████████████████████| 5/5 [00:06<00:00,  1.25s/it]\n"
     ]
    },
    {
     "name": "stdout",
     "output_type": "stream",
     "text": [
      "Batch size: 50, Learning rate: 1e-07, Lambda: 0, Val loss: 0.010421695927682901, Val accuracy: 0.8441666666666666\n"
     ]
    },
    {
     "name": "stderr",
     "output_type": "stream",
     "text": [
      "100%|█████████████████████████████████████████████| 5/5 [00:06<00:00,  1.26s/it]\n"
     ]
    },
    {
     "name": "stdout",
     "output_type": "stream",
     "text": [
      "Batch size: 50, Learning rate: 1e-07, Lambda: 0.02, Val loss: 0.009975162564048862, Val accuracy: 0.8463333333333334\n"
     ]
    },
    {
     "name": "stderr",
     "output_type": "stream",
     "text": [
      "100%|█████████████████████████████████████████████| 5/5 [00:06<00:00,  1.25s/it]"
     ]
    },
    {
     "name": "stdout",
     "output_type": "stream",
     "text": [
      "Batch size: 50, Learning rate: 1e-07, Lambda: 0.002, Val loss: 0.010016247570203406, Val accuracy: 0.853\n"
     ]
    },
    {
     "name": "stderr",
     "output_type": "stream",
     "text": [
      "\n"
     ]
    },
    {
     "data": {
      "image/png": "[encoded data removed]",
      "text/plain": [
       "<Figure size 432x288 with 2 Axes>"
      ]
     },
     "metadata": {
      "needs_background": "light"
     },
     "output_type": "display_data"
    }
   ],
   "source": [
    "# The next step is to find the optimal value for lambda, number of epochs, learning rate and batch size. \n",
    "# CHOSE ANY TWO from the above mentioned to tune.\n",
    "# Create plot and table to show the effect of the hparams.\n",
    "etas=[0.0001,0.00001,0.000001, 0.0000001]\n",
    "lambdas=[0, 0.02, 0.002 ]\n",
    "def tune_hyperparameters(train_imgs, train_labels, val_imgs, val_labels, \n",
    "                         input_size, output_size, num_epochs=5, \n",
    "                         batch_sizes=[50], etas=etas, \n",
    "                         lambdas=lambdas):\n",
    "    \n",
    "    results = []\n",
    "    \n",
    "    for batch_size in batch_sizes:\n",
    "        for eta in etas:\n",
    "            for lmbda in lambdas:\n",
    "                \n",
    "                model = Single_layer_classifier(input_size, output_size)\n",
    "                batch_losses = []\n",
    "                \n",
    "                for epoch in trange(num_epochs):\n",
    "\n",
    "                    train_batches = get_minibatch(train_imgs, train_labels, batch_size)\n",
    "                    for iter_num, (input_x, input_y) in enumerate(train_batches):\n",
    "                        input_x = input_x\n",
    "                        input_x = input_x.reshape(input_x.shape[0], -1)\n",
    "                        grads_emp = []\n",
    "                        loss = []\n",
    "\n",
    "                        for i in range(batch_size):\n",
    "                            scores = model.forward(input_x[i])\n",
    "                            loss.append(loss_function(scores, getOneHotEncoding(input_y[i])))\n",
    "                            grad_for_loss = loss_backward(scores, getOneHotEncoding(input_y[i]))\n",
    "                            grads_emp.append(model.backward_Ldata(grad_for_loss, input_x[i]))\n",
    "\n",
    "                        loss_p = sum(loss) / batch_size\n",
    "                        batch_losses.append(loss_p)\n",
    "                        gd = np.array(sum(grads_emp)) / batch_size\n",
    "                        model.backward(eta=eta, lmbda=lmbda, grad_matrix=gd)\n",
    "\n",
    "                    val_batches = get_minibatch(val_imgs, val_labels, batch_size)\n",
    "                    val_acc = 0\n",
    "                    val_loss = 0\n",
    "                    for iter_num, (input_x, input_y) in enumerate(val_batches):\n",
    "                        input_x = input_x\n",
    "                        input_x = input_x.reshape(input_x.shape[0], -1)\n",
    "                        grads_emp = []\n",
    "                        loss = []\n",
    "                        acc = 0\n",
    "\n",
    "                        for i in range(batch_size):\n",
    "                            scores = model.forward(input_x[i])\n",
    "                            loss.append(loss_function(scores, getOneHotEncoding(input_y[i])))\n",
    "#                             grad_for_loss = loss_backward(scores, getOneHotEncoding(input_y[i]))\n",
    "#                             grads_emp.append(model.backward_Ldata(grad_for_loss, input_x[i]))\n",
    "                            predicted_label = np.argmax(scores)\n",
    "                            actual_label = input_y[i]\n",
    "                            if predicted_label == actual_label:\n",
    "                                acc += 1\n",
    "\n",
    "                        loss_p = sum(loss) / batch_size\n",
    "                        val_loss += loss_p\n",
    "                        val_acc += acc\n",
    "\n",
    "                    val_loss /= len(val_imgs)\n",
    "                    val_acc /= len(val_imgs)\n",
    "\n",
    "                    batch_losses.append(loss_p)\n",
    "\n",
    "                results.append({\n",
    "                    'batch_size': batch_size,\n",
    "                    'learning_rate': eta,\n",
    "                    'lambda': lmbda,\n",
    "                    'val_loss': val_loss,\n",
    "                    'val_accuracy': val_acc\n",
    "                })\n",
    "\n",
    "                print(f'Batch size: {batch_size}, Learning rate: {eta}, Lambda: {lmbda}, Val loss: {val_loss}, Val accuracy: {val_acc}')\n",
    "                \n",
    "    return results\n",
    "\n",
    "\n",
    "def plot_tuning_results(results):\n",
    "    # Create a table of the performance metrics\n",
    "    df = pd.DataFrame(results, columns=['lambda', 'learning_rate', 'val_loss', 'val_accuracy'])\n",
    "    df = df.pivot(index='learning_rate', columns='lambda', values='val_accuracy')\n",
    "    df = df.round(3)\n",
    "\n",
    "    # Create heatmap\n",
    "    ax = sns.heatmap(df, annot=True, cmap='coolwarm')\n",
    "    ax.invert_yaxis()\n",
    "    ax.set_title('Validation Accuracy')\n",
    "    ax.set_xlabel('lambda')\n",
    "    ax.set_ylabel('eta')\n",
    "    plt.show()\n",
    "    \n",
    "results = tune_hyperparameters(train_imgs, train_labels, val_imgs, val_labels, input_size=784, output_size=10)\n",
    "plot_tuning_results(results)"
   ]
  },
  {
   "cell_type": "markdown",
   "metadata": {},
   "source": [
    "### Find the best performing class and the worst performing class"
   ]
  },
  {
   "cell_type": "code",
   "execution_count": 12,
   "metadata": {},
   "outputs": [
    {
     "name": "stdout",
     "output_type": "stream",
     "text": [
      "The best performing class from the model trained above is : class 0 and class 1 with accuracy(97%)\n",
      "The worst performing class from the model trained above is : class 8 with accuracy (88%)\n"
     ]
    }
   ],
   "source": [
    "print(\"The best performing class from the model trained above is : class 0 and class 1 with accuracy(97%)\" )\n",
    "print(\"The worst performing class from the model trained above is : class 8 with accuracy (88%)\" )"
   ]
  },
  {
   "cell_type": "markdown",
   "metadata": {
    "colab_type": "text",
    "id": "Emb3Bo_NpdUl"
   },
   "source": [
    "# Training a Linear Classifier on MNIST from scikit-learn\n",
    "\n",
    "In this section you have to train a linear classifier from the scikit-learn library and compare its results against your implementation.\n",
    "(https://scikit-learn.org/stable/modules/generated/sklearn.linear_model.LinearRegression.html)"
   ]
  },
  {
   "cell_type": "code",
   "execution_count": 13,
   "metadata": {},
   "outputs": [
    {
     "name": "stdout",
     "output_type": "stream",
     "text": [
      "###### Sklearn RidgeClassifier Accuracy #########\n",
      "\n",
      "############# Train Accuracy #################\n",
      "              precision    recall  f1-score   support\n",
      "\n",
      "           0       0.96      0.90      0.93      5692\n",
      "           1       0.97      0.82      0.89      7174\n",
      "           2       0.80      0.91      0.85      4720\n",
      "           3       0.84      0.83      0.84      5523\n",
      "           4       0.89      0.84      0.86      5565\n",
      "           5       0.74      0.87      0.80      4163\n",
      "           6       0.93      0.89      0.91      5526\n",
      "           7       0.87      0.87      0.87      5621\n",
      "           8       0.76      0.84      0.80      4712\n",
      "           9       0.80      0.81      0.81      5304\n",
      "\n",
      "    accuracy                           0.86     54000\n",
      "   macro avg       0.86      0.86      0.86     54000\n",
      "weighted avg       0.86      0.86      0.86     54000\n",
      "\n",
      "############# Test Accuracy #################\n",
      "              precision    recall  f1-score   support\n",
      "\n",
      "           0       0.96      0.91      0.94      1041\n",
      "           1       0.97      0.83      0.90      1328\n",
      "           2       0.78      0.92      0.85       878\n",
      "           3       0.87      0.85      0.86      1035\n",
      "           4       0.90      0.81      0.85      1084\n",
      "           5       0.74      0.87      0.80       758\n",
      "           6       0.91      0.88      0.90       989\n",
      "           7       0.86      0.85      0.86      1036\n",
      "           8       0.77      0.84      0.80       896\n",
      "           9       0.80      0.84      0.82       955\n",
      "\n",
      "    accuracy                           0.86     10000\n",
      "   macro avg       0.86      0.86      0.86     10000\n",
      "weighted avg       0.87      0.86      0.86     10000\n",
      "\n"
     ]
    }
   ],
   "source": [
    "print(\"###### Sklearn RidgeClassifier Accuracy #########\")\n",
    "from sklearn.linear_model import RidgeClassifier\n",
    "X=train_imgs.reshape(train_imgs.shape[0],-1)\n",
    "y=train_labels\n",
    "print()\n",
    "rc = RidgeClassifier().fit(X, y)\n",
    "\n",
    "####### Train Accuracy #######\n",
    "print(\"############# Train Accuracy #################\")\n",
    "\n",
    "print(classification_report(rc.predict(X),train_labels))\n",
    "\n",
    "####### Test Accuracy #######\n",
    "print(\"############# Test Accuracy #################\")\n",
    "print(classification_report(rc.predict(test_imgs.reshape(test_imgs.shape[0],-1)),test_labels))\n",
    "\n",
    "\n",
    "\n",
    "\n"
   ]
  },
  {
   "cell_type": "markdown",
   "metadata": {},
   "source": [
    "### Compare the training and test accuracies for the your implementation and linear classifier from scikit-learn"
   ]
  },
  {
   "cell_type": "code",
   "execution_count": 14,
   "metadata": {},
   "outputs": [
    {
     "name": "stdout",
     "output_type": "stream",
     "text": [
      "############## Implemented Model Accuracy ##########\n",
      "\n",
      "Test Accuracy:92.29 \t Train Accuracy: 93.04814814814814\n",
      "\n",
      "############## Sklearn RidgeClassifier Accuracy ##########\n",
      "\n",
      "Test Accuracy:85.95 \t Train Accuracy: 85.78333333333333\n",
      "\n"
     ]
    }
   ],
   "source": [
    "from sklearn.metrics import accuracy_score\n",
    "############## Implemented Model Accuracy ##########\n",
    "print(\"############## Implemented Model Accuracy ##########\\n\")\n",
    "\n",
    "print(\"Test Accuracy:{} \\t Train Accuracy: {}\\n\".format(accuracy_score(y_test_pred,test_labels)*100,accuracy_score(y_pred,train_labels)*100) )\n",
    "\n",
    "print(\"############## Sklearn RidgeClassifier Accuracy ##########\\n\")\n",
    "print(\"Test Accuracy:{} \\t Train Accuracy: {}\\n\".format(accuracy_score(rc.predict(test_imgs.reshape(test_imgs.shape[0],-1)),test_labels)*100,accuracy_score(rc.predict(train_imgs.reshape(train_imgs.shape[0],-1)),train_labels)*100) )\n",
    "\n"
   ]
  },
  {
   "cell_type": "markdown",
   "metadata": {
    "colab_type": "text",
    "id": "sXFJTTnkpdcp"
   },
   "source": [
    "# Implementing Backpropagation\n",
    "\n",
    "Now that you have had some experience with single layer networks, we can proceed to more complex architectures. But first we need to completely understand and implement backpropagation.\n",
    "\n",
    "## Backpropagation:\n",
    "\n",
    "Simply put, a way of computing gradients of expressions through repeated application of chain rule. If\n",
    "$$\n",
    "L = f (g (h (\\textbf{x})))\n",
    "$$\n",
    "then, by the chain rule we have:\n",
    "$$\n",
    "\\frac{\\partial L}{\\partial \\textbf{x}} = \\frac{\\partial f}{\\partial g} \\cdot \\frac{\\partial g}{\\partial h} \\cdot \\frac{\\partial h}{\\partial \\textbf{x}} \n",
    "$$\n",
    "\n",
    "** Look into the class Lecture for more detail **\n",
    "\n"
   ]
  },
  {
   "cell_type": "markdown",
   "metadata": {
    "colab_type": "text",
    "id": "UixM41Rppdcz"
   },
   "source": [
    "# Question 2 : Scalar Backpropagation\n",
    "\n",
    "Evaluate the gradient of the following function w.r.t. the input:\n",
    "\n",
    "$$ f(x,y,z) =  log(\\sigma(\\frac{cos(\\pi \\times x)+sin(\\pi \\times y/2)}{tanh(z^2)}))$$\n",
    "where $\\sigma$ is the sigmoid function. Find gradient for the following inputs:\n",
    "  * $(x,y,z)$ =  (2,4,1)\n",
    "  * $(x,y,z)$ =  (9,14,3)\n",
    "  * $(x,y,z)$ =  (128,42,666)\n",
    "  * $(x,y,z)$ =  (52,14,28)\n",
    "\n",
    "      "
   ]
  },
  {
   "cell_type": "code",
   "execution_count": 15,
   "metadata": {
    "colab": {},
    "colab_type": "code",
    "id": "Uu9zd5PLpdc_"
   },
   "outputs": [],
   "source": [
    "# To solve this problem, construct the computational graph\n",
    "# Write a class with forward and backward functions, for each node if you like\n",
    "# For eg:\n",
    "class tanh():\n",
    "    def __init__(self):\n",
    "        self.f = None\n",
    "        \n",
    "    def forward(self,x):\n",
    "        self.f = np.tanh(x)\n",
    "        return self.f\n",
    "        # save values useful for backpropagation\n",
    "    def backward(self):\n",
    "        if self.f==None:\n",
    "            print(\"Forward Propagation Not Done Yet.\")\n",
    "            return\n",
    "        else:\n",
    "            return (1-np.square(self.f))\n",
    "class log():\n",
    "    def __init__(self):\n",
    "        self.f = None\n",
    "        self.x=None\n",
    "    def forward(self,x):\n",
    "        self.f = np.log(x)\n",
    "        self.x = x\n",
    "        return self.f\n",
    "        # save values useful for backpropagation\n",
    "    def backward(self):\n",
    "        if self.f==None or self.x==None:\n",
    "            print(\"Forward Propagation Not Done Yet.\")\n",
    "            return\n",
    "        else:\n",
    "            return 1/(self.x)\n",
    "\n",
    "class Sigmoid():\n",
    "    def __init__(self):\n",
    "        self.f = None\n",
    "        \n",
    "    def forward(self,x):\n",
    "        self.f = 1/(1+np.exp(-x))\n",
    "        # save values useful for backpropagation\n",
    "    def backward(self):\n",
    "        if self.f==None:\n",
    "            print(\"Forward Propagation Not Done Yet.\")\n",
    "            return\n",
    "        else:\n",
    "            return self.f*(1-self.f)\n",
    "# CAUTION: Carefully treat the input and output dimension variation. At worst, handle them with if statements."
   ]
  },
  {
   "cell_type": "code",
   "execution_count": 16,
   "metadata": {
    "colab": {},
    "colab_type": "code",
    "id": "KyqeWPF0pddy"
   },
   "outputs": [
    {
     "name": "stdout",
     "output_type": "stream",
     "text": [
      "x:2.0  y:4.0  z:1.0     forward:-0.23823101469115085    backward:[2.1417102890343507e-16, 0.43720979194276516, -0.3069722756588883]\n",
      "\n",
      "x:9.0  y:14.0  z:3.0     forward:-1.3132617097862374    backward:[-2.5313688314302287e-15, -1.148344174369598, 2.672161875217988e-07]\n",
      "\n",
      "x:52.0  y:14.0  z:28.0     forward:-0.31326168751822253    backward:[-6.626324387577344e-15, -0.42245219681098645, -0.0]\n",
      "\n"
     ]
    }
   ],
   "source": [
    "# Now write the class func\n",
    "# which constructs the graph (all operators), forward and backward functions.\n",
    "\n",
    "class Func():\n",
    "    def __init__(self):\n",
    "        # construct the graph here\n",
    "        # assign the instances of function modules to self.var\n",
    "        self.x =None\n",
    "        self.y =None\n",
    "        self.z =None\n",
    "        self.a = None\n",
    "        self.b = None\n",
    "        self.c = None\n",
    "        self.d = None\n",
    "        self.e = None\n",
    "        self.f = None\n",
    "        self.g = None\n",
    "        self.h = None\n",
    "        self.i = None\n",
    "        self.j = None\n",
    "        \n",
    "        \n",
    "        ###### x ######\n",
    "        \n",
    "        \n",
    "        \n",
    "    def forward(self,x,y,z):\n",
    "        self.x ,self.y,self.z = x,y,z\n",
    "        \n",
    "        self.a = math.pi*self.x\n",
    "        self.b = math.pi*self.y/2\n",
    "        self.c = np.square(self.z)\n",
    "        self.d = np.cos(self.a)\n",
    "        self.e = np.sin(self.b)\n",
    "        self.f = self.d + self.e\n",
    "        self.g = np.tanh(self.c)\n",
    "        self.h = np.divide(self.f,self.g)\n",
    "        self.i = 1/(1+np.exp(-self.h))\n",
    "        self.j = np.log(self.i)\n",
    "        return self.j\n",
    "        # Using the graph element's forward functions, get the output. \n",
    "        \n",
    "    \n",
    "    def backward(self):\n",
    "        # Use the saved outputs of each module, and backward() function calls\n",
    "        grad_x,grad_y,grad_z =1,1,1\n",
    "        out = 1/self.i\n",
    "        out *= self.i*(1-self.i)\n",
    "        grad_xy  = out*1/self.g\n",
    "        \n",
    "        grad_x = (-1)*np.sin(self.a)*grad_xy\n",
    "        grad_x = math.pi*(grad_x)\n",
    "        \n",
    "        grad_y = np.cos(self.b)*grad_xy\n",
    "        grad_y = math.pi*grad_y/2\n",
    "        \n",
    "        \n",
    "        grad_z = -out*self.f*(1/np.square(self.g))\n",
    "        grad_z = grad_z*(1- np.square(self.g))\n",
    "        grad_z = 2*self.z*grad_z\n",
    "        return [grad_x,grad_y,grad_z]\n",
    "    \n",
    "\n",
    "#### Initialization #####\n",
    "f= Func()\n",
    "\n",
    "######### Forward and Backward Pass ############\n",
    "x,y,z = 2.0,4.0,1.0\n",
    "print(\"x:{}  y:{}  z:{}     forward:{}    backward:{}\\n\".format(x,y,z , f.forward(x,y,z),f.backward()))\n",
    "x,y,z = 9.0,14.0,3.0\n",
    "print(\"x:{}  y:{}  z:{}     forward:{}    backward:{}\\n\".format(x,y,z , f.forward(x,y,z),f.backward()))\n",
    "\n",
    "x,y,z = 52.0,14.0,28.0\n",
    "print(\"x:{}  y:{}  z:{}     forward:{}    backward:{}\\n\".format(x,y,z , f.forward(x,y,z),f.backward()))\n",
    "\n"
   ]
  },
  {
   "cell_type": "markdown",
   "metadata": {
    "colab_type": "text",
    "id": "rYE4dEd-pdef"
   },
   "source": [
    "## Question 3 : Modular Vector Backpropagation\n",
    "\n",
    "* Construct a Linear Layer module, implementing the forward and backward functions for arbitrary sizes.\n",
    "* Construct a ReLU module, implementing the forward and backward functions for arbitrary sizes.\n",
    "* Create a 2 layer MLP using the constructed modules.\n",
    "\n",
    "* Modifying the functions built in Question 1 , train this two layer MLP for the same data set, MNIST, with the same train-val split."
   ]
  },
  {
   "cell_type": "code",
   "execution_count": 17,
   "metadata": {
    "colab": {},
    "colab_type": "code",
    "id": "0viOMFfFpden"
   },
   "outputs": [],
   "source": [
    "# Class for Linear Layer (If you're stuck, you can refer to code of PyTorch/Tensorflow packages) \n",
    "class Linear_Layer:\n",
    "    def __init__(self, input_size, output_size,batch_size,eta):\n",
    "        self.input= None\n",
    "        self.output= None\n",
    "        self.eta = eta\n",
    "        self.batch_size = batch_size\n",
    "        self.weights = np.random.rand(input_size, output_size)*0.01/np.sqrt(input_size)\n",
    "#         self.weights = np.random.normal(loc=0,scale=0.001 ,size= (input_size,output_size))\n",
    "\n",
    "        self.gradient_matrix = np.zeros(shape=(input_size,output_size))\n",
    "    \n",
    "    def forward(self, input_data):\n",
    "        self.input = input_data.reshape(input_data.shape[0],1)\n",
    "        self.output = np.dot( self.weights.T, self.input)\n",
    "        return self.output\n",
    "    \n",
    "    def backward_ldata(self,back_grad):\n",
    "        for_grad = np.matmul( self.weights,back_grad)\n",
    "        self.gradient_matrix = np.add(self.gradient_matrix,np.dot(self.input, back_grad.T))\n",
    "        return for_grad    \n",
    "        \n",
    "        \n",
    "    def backward(self):\n",
    "        self.weights -= eta * self.gradient_matrix/self.batch_size\n",
    "#         print(self.gradient_matrix)\n",
    "        self.gradient_matrix = np.zeros(shape=self.weights.shape)\n",
    "    \n",
    "        \n",
    "        "
   ]
  },
  {
   "cell_type": "code",
   "execution_count": 18,
   "metadata": {
    "colab": {},
    "colab_type": "code",
    "id": "zmlWuzv1pdfK"
   },
   "outputs": [],
   "source": [
    "# Class for ReLU\n",
    "class ReLU():\n",
    "    def __init__(self):\n",
    "        self.f = None\n",
    "        self.x = None\n",
    "    def forward(self,x):\n",
    "        self.f = x*(x>0)\n",
    "        self.x = x\n",
    "        return self.f\n",
    "    \n",
    "    def backward_ldata(self,back_grad):\n",
    "        return (self.x>0)*back_grad\n",
    "    \n",
    "    def backward(self):\n",
    "        return \n",
    "    \n"
   ]
  },
  {
   "cell_type": "code",
   "execution_count": 19,
   "metadata": {
    "colab": {},
    "colab_type": "code",
    "id": "ppSfRLySpdfv"
   },
   "outputs": [],
   "source": [
    "# Your 2 layer MLP \n",
    "class MLP():\n",
    "    def __init__(self):\n",
    "        self.layers = []\n",
    "        self.loss = []\n",
    "    \n",
    "    def add_layer(self,layer):\n",
    "        self.layers.append(layer)\n",
    "            \n",
    "    def predict(self, input_data):\n",
    "        samples = input_data.shape[0]\n",
    "        result = []\n",
    "\n",
    "        # run network over all samples\n",
    "        \n",
    "        for sample in input_data:\n",
    "            # forward propagation\n",
    "            \n",
    "            scores = sample\n",
    "            for layer in self.layers:\n",
    "                scores = layer.forward(scores)\n",
    "#                 print(output,end=' ')\n",
    "                \n",
    "            result.append(np.argmax(scores))\n",
    "        return result\n",
    "\n",
    "    def plot_loss(self):\n",
    "        '''\n",
    "        Plots the loss curve\n",
    "        '''\n",
    "        fig = plt.figure(figsize=(10,10))\n",
    "        plt.plot(self.loss)\n",
    "        plt.xlabel(\"Iteration\")\n",
    "        plt.ylabel(\"logloss\")\n",
    "        plt.title(\"Loss curve for training\")\n",
    "        plt.show()  \n",
    "    \n",
    "    \n",
    "    def train(self,X,y,epochs=3,batch_size=50,eta=0.001):\n",
    "        batch_losses = []\n",
    "        min_loss =10000 \n",
    "        print(\"#### training Started ####\")\n",
    "        for epoch in trange(epochs):\n",
    "            print(\"epoch:{}   Total batches: {} \".format(epoch+1,X.shape[0]/batch_size))\n",
    "            minibatch = get_minibatch(X,y,batch_size)\n",
    "            loss =0\n",
    "            for input_x , input_y in minibatch:\n",
    "                for i in range(batch_size):\n",
    "                    input_x = input_x.reshape(input_x.shape[0],-1)\n",
    "                    scores = input_x[i]\n",
    "                    ####### forward ##########\n",
    "                    for layer in self.layers:\n",
    "                        scores = layer.forward(scores)\n",
    "#                         print(\"\\n\\n\\n\\n\\n\\n\",scores)\n",
    "                        \n",
    "                        \n",
    "                    ####### log(softmax calculation)\n",
    "#                     print(scores)\n",
    "                    loss += loss_function(scores,getOneHotEncoding(input_y[i]))\n",
    "                    grad_for_loss = loss_backward(scores,getOneHotEncoding(input_y[i]))\n",
    "                    \n",
    "                    ####### backward sample wise to calculate gradient_matrix #######\n",
    "                    for layer in reversed(self.layers):\n",
    "                        grad_for_loss = layer.backward_ldata(grad_for_loss)\n",
    "\n",
    "\n",
    "            \n",
    "                self.loss.append(loss[0]/batch_size)\n",
    "#                 print(\"loss: \", self.loss[-1])\n",
    "                min_loss = min(min_loss,self.loss[-1])\n",
    "                \n",
    "                ##### weights update for each layer using backward\n",
    "                for layer in self.layers:\n",
    "                    layer.backward()\n",
    "                loss=0\n",
    "            print(\"Minimum Loss after epoch {} is  {}\".format(epoch+1,min_loss))\n",
    "#         self.plot_loss()\n",
    "        print(\"Minimum Loss: \",min_loss)\n",
    "    \n",
    "        print(\"#### training Done ####\")\n",
    "        \n",
    "    def valid(self,X,y,epochs=3,batch_size=50,eta=0.001):\n",
    "        print(\"\\n#########validation Started###########\\n\")\n",
    "        correct =0\n",
    "        total = X.shape[0]\n",
    "        loss =0\n",
    "        \n",
    "        \n",
    "        minibatch = get_minibatch(X,y,batch_size)\n",
    "        for input_x , input_y in minibatch:\n",
    "            for i in range(batch_size):\n",
    "                input_x = input_x.reshape(input_x.shape[0],-1)\n",
    "                scores = input_x[i]\n",
    "                ####### forward ##########\n",
    "                for layer in self.layers:\n",
    "                    scores = layer.forward(scores)\n",
    "\n",
    "                loss += loss_function(scores,getOneHotEncoding(input_y[i]))/total\n",
    "                correct += (np.argmax(scores)==input_y[i])\n",
    "            \n",
    "        val_acc = correct/total\n",
    "        val_loss = loss\n",
    "        print(f'Batch size: {batch_size}, Learning rate: {eta}, Val loss: {val_loss[0]}, Val accuracy: {val_acc}')\n",
    "        print(\"\\n#########validation Done###########\\n\\n\\n\\n\")\n",
    "        \n",
    "        return {\n",
    "                    'batch_size': batch_size,\n",
    "                    'learning_rate': eta,\n",
    "                    'val_loss': val_loss[0],\n",
    "                    'val_accuracy': val_acc,\n",
    "                    'epochs': epochs\n",
    "                }\n",
    "\n",
    "        \n",
    "\n"
   ]
  },
  {
   "cell_type": "code",
   "execution_count": 20,
   "metadata": {
    "colab": {},
    "colab_type": "code",
    "id": "MyDbNSeRpdgL",
    "scrolled": false
   },
   "outputs": [
    {
     "name": "stdout",
     "output_type": "stream",
     "text": [
      "#### training Started ####\n"
     ]
    },
    {
     "name": "stderr",
     "output_type": "stream",
     "text": [
      "\r",
      "  0%|                                                     | 0/2 [00:00<?, ?it/s]"
     ]
    },
    {
     "name": "stdout",
     "output_type": "stream",
     "text": [
      "epoch:1   Total batches: 2700.0 \n"
     ]
    },
    {
     "name": "stderr",
     "output_type": "stream",
     "text": [
      "\r",
      " 50%|██████████████████████▌                      | 1/2 [01:36<01:36, 96.33s/it]"
     ]
    },
    {
     "name": "stdout",
     "output_type": "stream",
     "text": [
      "Minimum Loss after epoch 1 is  0.0021847508237053948\n",
      "epoch:2   Total batches: 2700.0 \n"
     ]
    },
    {
     "name": "stderr",
     "output_type": "stream",
     "text": [
      "100%|████████████████████████████████████████████| 2/2 [04:05<00:00, 122.67s/it]"
     ]
    },
    {
     "name": "stdout",
     "output_type": "stream",
     "text": [
      "Minimum Loss after epoch 2 is  0.00020572209897515848\n",
      "Minimum Loss:  0.00020572209897515848\n",
      "#### training Done ####\n"
     ]
    },
    {
     "name": "stderr",
     "output_type": "stream",
     "text": [
      "\n"
     ]
    }
   ],
   "source": [
    "####### hyperparameters ########\n",
    "epochs = 2\n",
    "batch_size =20\n",
    "output_size = 10\n",
    "input_size = 784\n",
    "eta = 0.01\n",
    "\n",
    "# Train the MLP\n",
    "mlp = MLP()\n",
    "\n",
    "##### add layer #####\n",
    "mlp.add_layer(Linear_Layer(input_size,512,batch_size,eta))\n",
    "mlp.add_layer(ReLU())\n",
    "\n",
    "mlp.add_layer(Linear_Layer(512,256,batch_size,eta))\n",
    "mlp.add_layer(ReLU())\n",
    "mlp.add_layer(Linear_Layer(256,10,batch_size,eta))\n",
    "\n",
    "\n",
    "mlp.train(train_imgs,train_labels,epochs,batch_size,eta)"
   ]
  },
  {
   "cell_type": "markdown",
   "metadata": {},
   "source": [
    "### Plot the training loss and training accuracy plot"
   ]
  },
  {
   "cell_type": "code",
   "execution_count": 21,
   "metadata": {},
   "outputs": [
    {
     "name": "stdout",
     "output_type": "stream",
     "text": [
      "Plot of training Loss is as follows: \n"
     ]
    },
    {
     "data": {
      "image/png": "[encoded data removed]",
      "text/plain": [
       "<Figure size 720x720 with 1 Axes>"
      ]
     },
     "metadata": {
      "needs_background": "light"
     },
     "output_type": "display_data"
    },
    {
     "name": "stdout",
     "output_type": "stream",
     "text": [
      "############ Training Accuracy Using MLP #################\n",
      "              precision    recall  f1-score   support\n",
      "\n",
      "           0       0.99      0.97      0.98      5474\n",
      "           1       0.99      0.98      0.98      6101\n",
      "           2       0.99      0.93      0.96      5661\n",
      "           3       0.94      0.99      0.96      5180\n",
      "           4       0.98      0.96      0.97      5335\n",
      "           5       0.98      0.97      0.97      4926\n",
      "           6       0.98      0.98      0.98      5326\n",
      "           7       0.97      0.96      0.97      5673\n",
      "           8       0.97      0.97      0.97      5272\n",
      "           9       0.92      0.98      0.95      5052\n",
      "\n",
      "    accuracy                           0.97     54000\n",
      "   macro avg       0.97      0.97      0.97     54000\n",
      "weighted avg       0.97      0.97      0.97     54000\n",
      "\n"
     ]
    },
    {
     "data": {
      "image/png": "[encoded data removed]",
      "text/plain": [
       "<Figure size 720x864 with 2 Axes>"
      ]
     },
     "metadata": {
      "needs_background": "light"
     },
     "output_type": "display_data"
    }
   ],
   "source": [
    "# Use the same utility functions defined in the previous question\n",
    "# WRITE CODE HERE\n",
    "\n",
    "from sklearn.metrics import classification_report, confusion_matrix\n",
    "print(\"Plot of training Loss is as follows: \")\n",
    "mlp.plot_loss()\n",
    "\n",
    "\n",
    "print(\"############ Training Accuracy Using MLP #################\")\n",
    "y_train_pred =mlp.predict(train_imgs.reshape(train_imgs.shape[0],-1))\n",
    "print(classification_report(y_train_pred,train_labels))\n",
    "plt.figure(figsize=(10,12))\n",
    "sns.heatmap(confusion_matrix(y_train_pred,train_labels))\n",
    "plt.show()\n",
    "\n",
    "\n",
    "\n",
    "\n"
   ]
  },
  {
   "cell_type": "markdown",
   "metadata": {
    "colab": {},
    "colab_type": "code",
    "id": "RH22BqefpdZ4"
   },
   "source": [
    "### Find the accuracy on the validation set"
   ]
  },
  {
   "cell_type": "code",
   "execution_count": 22,
   "metadata": {},
   "outputs": [
    {
     "name": "stdout",
     "output_type": "stream",
     "text": [
      "############ Validation Accuracy Using MLP #################\n",
      "              precision    recall  f1-score   support\n",
      "\n",
      "           0       0.99      0.97      0.98       588\n",
      "           1       0.98      0.97      0.98       698\n",
      "           2       0.98      0.93      0.96       657\n",
      "           3       0.92      0.99      0.95       604\n",
      "           4       0.97      0.94      0.96       623\n",
      "           5       0.95      0.95      0.95       506\n",
      "           6       0.98      0.97      0.98       590\n",
      "           7       0.96      0.96      0.96       613\n",
      "           8       0.96      0.94      0.95       601\n",
      "           9       0.88      0.97      0.92       520\n",
      "\n",
      "    accuracy                           0.96      6000\n",
      "   macro avg       0.96      0.96      0.96      6000\n",
      "weighted avg       0.96      0.96      0.96      6000\n",
      "\n"
     ]
    },
    {
     "data": {
      "text/plain": [
       "<Figure size 720x864 with 0 Axes>"
      ]
     },
     "metadata": {},
     "output_type": "display_data"
    }
   ],
   "source": [
    "# WRITE CODE HERE\n",
    "print(\"############ Validation Accuracy Using MLP #################\")\n",
    "y_val_pred = mlp.predict(val_imgs.reshape(val_imgs.shape[0],-1))\n",
    "plt.figure(figsize=(10,12))\n",
    "print(classification_report(y_val_pred,val_labels))\n",
    "# sns.heatmap(confusion_matrix(y_val_pred,val_labels))"
   ]
  },
  {
   "cell_type": "code",
   "execution_count": null,
   "metadata": {},
   "outputs": [],
   "source": []
  },
  {
   "cell_type": "code",
   "execution_count": null,
   "metadata": {
    "colab": {},
    "colab_type": "code",
    "id": "7wMDvvA4pdbN"
   },
   "outputs": [
    {
     "name": "stdout",
     "output_type": "stream",
     "text": [
      "#### training Started ####\n"
     ]
    },
    {
     "name": "stderr",
     "output_type": "stream",
     "text": [
      "\r",
      "  0%|                                                     | 0/2 [00:00<?, ?it/s]"
     ]
    },
    {
     "name": "stdout",
     "output_type": "stream",
     "text": [
      "epoch:1   Total batches: 2700.0 \n"
     ]
    },
    {
     "name": "stderr",
     "output_type": "stream",
     "text": [
      "\r",
      " 50%|██████████████████████                      | 1/2 [01:50<01:50, 110.48s/it]"
     ]
    },
    {
     "name": "stdout",
     "output_type": "stream",
     "text": [
      "Minimum Loss after epoch 1 is  0.002511138870020835\n",
      "epoch:2   Total batches: 2700.0 \n"
     ]
    },
    {
     "name": "stderr",
     "output_type": "stream",
     "text": [
      "100%|████████████████████████████████████████████| 2/2 [03:31<00:00, 105.80s/it]"
     ]
    },
    {
     "name": "stdout",
     "output_type": "stream",
     "text": [
      "Minimum Loss after epoch 2 is  6.997773365160497e-05\n",
      "Minimum Loss:  6.997773365160497e-05\n",
      "#### training Done ####\n",
      "\n",
      "#########validation Started###########\n",
      "\n"
     ]
    },
    {
     "name": "stderr",
     "output_type": "stream",
     "text": [
      "\n"
     ]
    },
    {
     "name": "stdout",
     "output_type": "stream",
     "text": [
      "Batch size: 20, Learning rate: 0.01, Val loss: 0.17999404188314486, Val accuracy: 0.95\n",
      "\n",
      "#########validation Done###########\n",
      "\n",
      "\n",
      "\n",
      "\n",
      "#### training Started ####\n"
     ]
    }
   ],
   "source": [
    "# Find the optimal value of learning rate and batch size. \n",
    "# Use the same tuning strategy as the previous question\n",
    "# Create plot and table to show the effect of the hparams.\n",
    "####### hyperparameters ########\n",
    "epochs_s = [2,5]\n",
    "epochs = 2\n",
    "etas = [0.01,0.001,0.0001]     # ,0.0001,0.00001\n",
    "batch_size =50\n",
    "batch_sizes = [20,50]\n",
    "output_size = 10\n",
    "input_size = 784\n",
    "\n",
    "val_results =[]\n",
    "for eta in etas:\n",
    "    for batch_size in batch_sizes:\n",
    "        \n",
    "        mlp1 = MLP()\n",
    "        ##### add layer #####\n",
    "        mlp1.add_layer(Linear_Layer(input_size,512,batch_size,eta))\n",
    "        mlp1.add_layer(ReLU())\n",
    "\n",
    "        mlp1.add_layer(Linear_Layer(512,256,batch_size,eta))\n",
    "        mlp1.add_layer(ReLU())\n",
    "        mlp1.add_layer(Linear_Layer(256,10,batch_size,eta))\n",
    "        mlp1.train(train_imgs,train_labels,epochs,batch_size,eta)\n",
    "        val_results.append(mlp1.valid(val_imgs,val_labels,epochs,batch_size,eta))\n",
    "        \n",
    "        \n"
   ]
  },
  {
   "cell_type": "code",
   "execution_count": null,
   "metadata": {},
   "outputs": [],
   "source": [
    "def plot_hyperparam_results(results):\n",
    "    # Create a table of the performance metrics\n",
    "    df = pd.DataFrame(results, columns=['batch_size', 'learning_rate', 'val_loss', 'val_accuracy','epochs'])\n",
    "    \n",
    "    print(df)\n",
    "    df = df.pivot(index='learning_rate', columns='batch_size', values='val_accuracy')\n",
    "    df = df.round(3)\n",
    "\n",
    "    # Create heatmap\n",
    "    ax = sns.heatmap(df, annot=True, cmap='coolwarm')\n",
    "    ax.invert_yaxis()\n",
    "    ax.set_title('Validation Accuracy')\n",
    "    ax.set_xlabel('batch_size')\n",
    "    ax.set_ylabel('learning_rate(or)eta)')\n",
    "    plt.show()\n",
    "\n",
    "plot_hyperparam_results(val_results)"
   ]
  },
  {
   "cell_type": "markdown",
   "metadata": {
    "colab": {},
    "colab_type": "code",
    "id": "BDrq0GfKpdb8"
   },
   "source": [
    "### Report final performance on MNIST test set"
   ]
  },
  {
   "cell_type": "code",
   "execution_count": null,
   "metadata": {},
   "outputs": [],
   "source": [
    "# WRITE CODE HERE\n",
    "print(\"############ Test Accuracy Using MLP #################\")\n",
    "y_test_pred = mlp.predict(test_imgs.reshape(test_imgs.shape[0],-1))\n",
    "plt.figure(figsize=(10,12))\n",
    "print(classification_report(y_test_pred,test_labels))\n",
    "# sns.heatmap(confusion_matrix(y_test_pred,test_labels))\n",
    "print(\"The best and worst performing class is mentioned in given classification report of model trained above ......\" )\n"
   ]
  },
  {
   "cell_type": "markdown",
   "metadata": {
    "colab_type": "text",
    "id": "KX-cXeY3pdhr"
   },
   "source": [
    "\n",
    "# Implementing a Convolution Module with Numpy\n",
    "\n",
    "* This topic will require you to implement the Convolution operation using Numpy.\n",
    "* We will use the Module for tasks like Blurring.\n",
    "* Finally, we implement Backpropagation for the convolution module.\n"
   ]
  },
  {
   "cell_type": "markdown",
   "metadata": {
    "colab_type": "text",
    "id": "kHeieqicpdhz"
   },
   "source": [
    "# Question 4\n",
    "\n",
    "* Implement a naive Convolution module, with basic functionalities: kernel_size, padding, stride and dilation\n",
    "  \n",
    "* Test out the convolution layer by using it to do gaussian blurring on 10 random images of CIFAR-10 dataset\n"
   ]
  },
  {
   "cell_type": "code",
   "execution_count": null,
   "metadata": {
    "colab": {},
    "colab_type": "code",
    "id": "YoVvSEj0pdh5"
   },
   "outputs": [],
   "source": [
    "## Define a class Convolution Layer, which is initialized with the various required params:\n",
    "class Convolution_Layer():\n",
    "    \n",
    "    def __init__(self,in_channels,out_channels,filter_size, bias=True, stride=1, padding=0, dilation=1,eta=0.00001):\n",
    "        self.weights = np.random.normal(loc=0,scale=0.001 ,size= (out_channels,filter_size[0],filter_size[1],in_channels))//np.sqrt(np.product(filter_size)*in_channels*out_channels)\n",
    "        self.filter_size = filter_size\n",
    "        self.out_channels = out_channels\n",
    "        self.in_channels = in_channels\n",
    "        self.stride = stride\n",
    "        self.padding = 0 and padding\n",
    "        self.dilation = dilation\n",
    "        self.output= None\n",
    "        self.eta = eta\n",
    "        self.gradient_matrix = np.zeros(shape= (filter_size[0],filter_size[1],in_channels))\n",
    "        \n",
    "        print(\"Filter Weights Shape: \",self.weights.shape)\n",
    "         \n",
    "        # For an untrained layer, set random initial filter weights\n",
    "    def convolve2D(self,Input,filter_w,mode=\"default\"):\n",
    "#         print(\"Convolve2D:\\n\") \n",
    "#         print(Input.shape)\n",
    "        input_shape = Input.shape\n",
    "        filter_shape = filter_w.shape\n",
    "        df = len(filter_shape)\n",
    "        di = len(input_shape)\n",
    "        if di!=df: print(\"Dimension are different ie.e x shape {}!= f_shape{}\".format(di,df))\n",
    "        pdd= [(filter_shape[0]-1,filter_shape[0]-1),(filter_shape[1]-1,filter_shape[1]-1)]\n",
    "        \n",
    "        output = np.zeros(shape=(self.weights.shape[1],self.weights.shape[2]))\n",
    "        \n",
    "        if(mode==\"full\"):\n",
    "            Input = np.pad(Input,pdd)\n",
    "            output =np.zeros(shape=(self.input_v.shape[0],self.input_v.shape[1]))\n",
    "            \n",
    "        for i in range(0,output.shape[0],self.stride):\n",
    "            for j in range(0,output.shape[1],self.stride):\n",
    "                output[i,j] = np.sum(np.multiply(filter_w,Input[i:i+filter_shape[0],j:j+filter_shape[1]]))\n",
    "        \n",
    "        return output\n",
    "            \n",
    "    def forward(self,input_v,mode=\"\"):\n",
    "        h,w,d = input_v.shape\n",
    "#         \n",
    "        \n",
    "        input_v = np.pad(input_v,[(self.padding, self.padding), (self.padding, self.padding),(0,0)],mode='constant')\n",
    "        self.input_v = input_v\n",
    "        hd,wd,dd = (h-self.filter_size[0]+2*self.padding)//self.stride + 1,(w-self.filter_size[1]+2*self.padding)//self.stride + 1, self.out_channels\n",
    "        output = np.zeros(shape=(hd,wd,dd))\n",
    "\n",
    "\n",
    "        for k in range(0,self.out_channels):\n",
    "            for i in range(0,output.shape[0],self.stride):\n",
    "                for j in range(0,output.shape[1],self.stride):\n",
    "                    output[i,j,k] = np.sum(np.multiply(self.weights[k,:,:,:],input_v[i:i+self.filter_size[0],j:j+self.filter_size[1],:self.in_channels]))\n",
    "        self.output = output\n",
    "\n",
    "        return output\n",
    "\n",
    "\n",
    "\n",
    "    def backward(self, output_gradient):\n",
    "        input_gradient = np.zeros(shape=self.input_v.shape)\n",
    "        \n",
    "        weight_gradient = np.zeros(shape=self.weights.shape)\n",
    "        \n",
    "        for i in range(0,self.out_channels):\n",
    "            for j in range(0,self.in_channels):\n",
    "                weight_gradient[i,:,:,j] = self.convolve2D(self.input_v[:,:,j],output_gradient[:,:,i])\n",
    "                input_gradient[:,:,j] += self.convolve2D(output_gradient[:,:,i],self.weights[i,:,:,j],mode=\"full\")\n",
    "        self.weights -= self.eta*weight_gradient\n",
    "        return input_gradient\n",
    "        \n",
    "    \n",
    "    def set_weights(self, new_weights):\n",
    "            \n",
    "        self.weights = new_weights\n",
    "        \n",
    "    "
   ]
  },
  {
   "cell_type": "code",
   "execution_count": null,
   "metadata": {},
   "outputs": [],
   "source": [
    "\n",
    "\n",
    "def unpickle(file):\n",
    "    with open(file, 'rb') as fo:\n",
    "        dict = pickle.load(fo, encoding='bytes')\n",
    "    return dict\n",
    "\n",
    "    \n",
    "\n",
    "def gaussian_filter(image, kernel_size, sigma,cl):\n",
    "    \n",
    "    ########## kernel Implementation ##############\n",
    "    kernel = np.zeros((kernel_size, kernel_size))\n",
    "    for i in range(kernel_size):\n",
    "        for j in range(kernel_size):\n",
    "            kernel[i,j] = np.exp(-((i-kernel_size//2)**2 + (j-kernel_size//2)**2) / (2*sigma**2))\n",
    "    \n",
    "    kernel = kernel / np.sum(kernel)\n",
    "    kernel = kernel.reshape(1,kernel_size,kernel_size,1)\n",
    "    \n",
    "    \n",
    "    cl.set_weights(kernel)\n",
    "    filtered_image = np.zeros(shape=(image.shape[0]-kernel_size+1,image.shape[1]-kernel_size+1,3))\n",
    "    \n",
    "    for i in range(image.shape[2]):\n",
    "        filtered_image[:,:,i] = cl.forward(image[:,:,i:i+1])[:,:,0]\n",
    "    return filtered_image\n",
    "\n",
    "    \n",
    "  \n",
    "\n"
   ]
  },
  {
   "cell_type": "markdown",
   "metadata": {
    "colab": {},
    "colab_type": "code",
    "id": "TDoqiua8pdia"
   },
   "source": [
    "### Download CIFAR-10 images and load it in a numpy array (https://www.cs.toronto.edu/~kriz/cifar.html)\n",
    "\n"
   ]
  },
  {
   "cell_type": "code",
   "execution_count": null,
   "metadata": {},
   "outputs": [],
   "source": [
    "s=unpickle(\"data/cifar-10-batches-py/data_batch_1\")    \n"
   ]
  },
  {
   "cell_type": "markdown",
   "metadata": {},
   "source": [
    "### Initialize a conv layer. Set weights for gaussian blurring (do not train the filter for this part). Visualise the filters using matplotlib\n"
   ]
  },
  {
   "cell_type": "code",
   "execution_count": null,
   "metadata": {},
   "outputs": [],
   "source": [
    "b_imgs=[]\n",
    "for i in range(5):\n",
    "    img = s[b'data'][i].reshape(3,32,32).transpose(1,2,0)\n",
    "    b_imgs.append(img)\n",
    "    \n",
    "       \n",
    "cl = Convolution_Layer(1,1,(3,3))\n"
   ]
  },
  {
   "cell_type": "code",
   "execution_count": null,
   "metadata": {},
   "outputs": [],
   "source": []
  },
  {
   "cell_type": "markdown",
   "metadata": {},
   "source": [
    "### Generate output for the first 5 images of the training set"
   ]
  },
  {
   "cell_type": "code",
   "execution_count": null,
   "metadata": {},
   "outputs": [],
   "source": [
    "# WRITE CODE HERE\n",
    "## gaussian blurring here ######\n",
    "\n",
    "filtered_images = [[],[],[]]\n",
    "for image in b_imgs[:5]:\n",
    "    f_img = gaussian_filter(image,3,3,cl)\n",
    "    f_img = f_img.astype(np.uint8)\n",
    "    \n",
    "    filtered_images[0].append(f_img[:,:,0])   # for Ist channel\n",
    "    filtered_images[1].append(f_img[:,:,1])   # for IInd channel\n",
    "    filtered_images[2].append(f_img[:,:,2])   # for IIIrd channel\n"
   ]
  },
  {
   "cell_type": "markdown",
   "metadata": {},
   "source": [
    "### Use matplotlib to show the input and corresponding blurred output"
   ]
  },
  {
   "cell_type": "code",
   "execution_count": null,
   "metadata": {},
   "outputs": [],
   "source": [
    "\n",
    "rows=5\n",
    "cols = 4\n",
    "img_count = 0\n",
    "\n",
    "fig, axes = plt.subplots(nrows=rows, ncols=cols, figsize=(15,15))\n",
    "\n",
    "for i in range(5):\n",
    "    axes[i, 0].imshow(b_imgs[i])\n",
    "    axes[i, 1].imshow(filtered_images[0][i])    \n",
    "    axes[i, 2].imshow(filtered_images[1][i])    \n",
    "    axes[i, 3].imshow(filtered_images[2][i])  "
   ]
  },
  {
   "cell_type": "markdown",
   "metadata": {
    "colab_type": "text",
    "id": "zmsPeOEOpdi8"
   },
   "source": [
    "## Question 5\n",
    "<br>\n",
    "Now we will use this module for training a simple Convolution Layer using CIFAR-10 images. \n",
    "\n",
    "* The goal is to learn a set of weights, by using the backpropagation function created. To test the backpropagation, instead of training a whole network, we will train only a single layer.\n",
    "  * Instantiate a Convolution  layer $C_0$ with 20 filters, each with size 5$\\times$5 (RGB image, so 3 input channels). Load the given numpy array of size (20,3,5,5), which represents the weights of a convolution layer. Set the given values as the filter weights for $C_0$. Take 100 CIFAR-10 images. Save the output of these 100 images generated from this Convolution layer $C_0$. \n",
    "  \n",
    "  * Now, initialize a new convolution layer $C$ with weight values sampled from uniform distribution [-1,1]. Use the $L_2$ loss between the output of this layer $C$ and the output generated in the previous step to learn the filter weights of $C_0$.\n"
   ]
  },
  {
   "cell_type": "code",
   "execution_count": null,
   "metadata": {},
   "outputs": [],
   "source": [
    "b_imgs = []\n",
    "b_labels  = np.array(s[b'labels'])\n",
    "###### choose the 100 shuffled images at random from 1st batch #######\n",
    "for j in range(10000):\n",
    "    img = s[b'data'][j].reshape(3,32,32).transpose(1,2,0)\n",
    "    b_imgs.append(img)\n",
    "b_imgs = np.array(b_imgs)    \n",
    "ind = list(range(10000))\n",
    "np.random.shuffle(ind)\n",
    "\n",
    "\n",
    "\n",
    "train_imgs =b_imgs[ind[:100],:]\n",
    "train_labels = b_labels[ind[:100]]\n",
    "    \n",
    "    \n",
    "######## 15th example chosen from Dataset #####\n",
    "print(s[b'filenames'][ind[15]])\n",
    "print(train_imgs.shape,train_labels.shape)\n",
    "plt.imshow(train_imgs[15])\n",
    "train_labels[15]"
   ]
  },
  {
   "cell_type": "code",
   "execution_count": null,
   "metadata": {
    "colab": {},
    "colab_type": "code",
    "id": "p8dGnMHOpdjD"
   },
   "outputs": [],
   "source": [
    "## Load filter weights from given numpy array \"C0_weights.npy\".\n",
    "## Init a conv layer C_0 with these given weights\n",
    "x= train_imgs\n",
    "train_imgs = (x - x.mean(axis=(0,1,2), keepdims=True)) / x.std(axis=(0,1,2), keepdims=True)\n",
    "\n",
    "C0_weights = np.load(\"data/C0_weights.npy\")\n",
    "print(C0_weights.shape)\n",
    "C0_weights = C0_weights.transpose(0,2,3,1)\n",
    "print(C0_weights.shape)\n",
    "\n",
    "## For all images get output. Store in numpy array.\n",
    "C0_layer = Convolution_Layer(3,20,(5,5))\n",
    "C0_layer.set_weights(C0_weights)\n",
    "C0_output_imgs = []\n",
    "for i in range(100):\n",
    "    C0_output = C0_layer.forward(train_imgs[i])\n",
    "    C0_output_imgs.append(C0_output)\n",
    "C0_output_imgs = np.array(C0_output_imgs)"
   ]
  },
  {
   "cell_type": "code",
   "execution_count": null,
   "metadata": {},
   "outputs": [],
   "source": [
    "C0_output_imgs.shape"
   ]
  },
  {
   "cell_type": "code",
   "execution_count": null,
   "metadata": {
    "colab": {},
    "colab_type": "code",
    "id": "nhhHA4UCpdji"
   },
   "outputs": [],
   "source": [
    "# for part 2 we need to write a class for the  L2 loss\n",
    "class L2_loss():\n",
    "    def ___init__(self):\n",
    "        self.f =None\n",
    "    \n",
    "    def forward(self, C0_output,C_output):\n",
    "        # Conv. output is of dimension (batchsize,channels,height,width)\n",
    "        # calculate the L2 norm of (C0_output - C_output)\n",
    "        self.f = C0_output-C_output\n",
    "        loss = np.linalg.norm(self.f)\n",
    "        \n",
    "        return loss\n",
    "    def backward(self,output_grad):\n",
    "        \n",
    "        # from the loss, and the conv. output, get the grad at each location\n",
    "        grad = -2*self.f\n",
    "        # The grad is of the shape (batchsize,channels,height,width)\n",
    "        return grad\n",
    "\n",
    "# Now Init a new conv layer C and a L2 loss layer\n",
    "C_weights = np.random.uniform(-1,1,size=C0_weights.shape)/np.sqrt(np.product(C0_weights.shape))\n",
    "\n",
    "C_layer = Convolution_Layer(3,20,(5,5))\n",
    "C_layer.set_weights(C_weights)\n",
    "\n",
    "# Train the new conv-layer C using the L2 loss to learn C_0, i.e., the set of given weights.\n",
    "epochs=300\n",
    "l2_loss = L2_loss()\n",
    "for epoch in range(epochs):\n",
    "    loss= 0\n",
    "    \n",
    "    for i in trange(train_imgs.shape[0]):\n",
    "\n",
    "        ## forward ###\n",
    "        C_output = C_layer.forward(train_imgs[i])\n",
    "        loss += l2_loss.forward(C0_output_imgs[i],C_output)/train_imgs.shape[0]\n",
    "\n",
    "        ### backward ####\n",
    "        loss_backward = l2_loss.backward(loss)\n",
    "        C_layer.backward(loss_backward)\n",
    "    \n",
    "    \n",
    "    print(\"epochs {}/{} and avg_loss: {}\".format(epoch+1,epochs,loss))\n",
    "\n",
    "\n"
   ]
  },
  {
   "cell_type": "code",
   "execution_count": null,
   "metadata": {},
   "outputs": [],
   "source": [
    "# Print L2 dist between output from the new trained convolution layer C and the outputs generated from C_0.\n",
    "C11_layer = Convolution_Layer(3,20,(5,5))\n",
    "C11_layer.set_weights(C_layer.weights)\n",
    "C11_output_imgs = []\n",
    "for i in range(100):\n",
    "    C11_output = C11_layer.forward(train_imgs[i])\n",
    "    C11_output_imgs.append(C0_output)\n",
    "    print(np.linalg.norm(C11_output-C0_output_imgs[i]))\n",
    "C11_output_imgs = np.array(C11_output_imgs)\n",
    "\n",
    "\n",
    "print(\"L2 distance between output from new_trained_Convolution Layer C and the outputs generated from C_0 is as follows:\")\n",
    "print(np.linalg.norm(C0_output_imgs-C11_output_imgs))"
   ]
  },
  {
   "cell_type": "code",
   "execution_count": null,
   "metadata": {},
   "outputs": [],
   "source": [
    "print(np.linalg.norm(C_layer.weights - C0_weights))"
   ]
  },
  {
   "cell_type": "code",
   "execution_count": null,
   "metadata": {},
   "outputs": [],
   "source": []
  },
  {
   "cell_type": "code",
   "execution_count": null,
   "metadata": {},
   "outputs": [],
   "source": []
  },
  {
   "cell_type": "code",
   "execution_count": null,
   "metadata": {},
   "outputs": [],
   "source": []
  },
  {
   "cell_type": "code",
   "execution_count": null,
   "metadata": {},
   "outputs": [],
   "source": []
  },
  {
   "cell_type": "code",
   "execution_count": null,
   "metadata": {},
   "outputs": [],
   "source": []
  },
  {
   "cell_type": "code",
   "execution_count": null,
   "metadata": {},
   "outputs": [],
   "source": []
  },
  {
   "cell_type": "code",
   "execution_count": null,
   "metadata": {},
   "outputs": [],
   "source": []
  },
  {
   "cell_type": "code",
   "execution_count": null,
   "metadata": {},
   "outputs": [],
   "source": []
  }
 ],
 "metadata": {
  "anaconda-cloud": {},
  "colab": {
   "collapsed_sections": [],
   "name": "DLCV_Assignment_2-edit.ipynb",
   "provenance": []
  },
  "interpreter": {
   "hash": "6945496b114ae6c8dbcad4f53e4fc084fdd8255c08c862c02a1152642bece680"
  },
  "kernelspec": {
   "display_name": "Python 3 (ipykernel)",
   "language": "python",
   "name": "python3"
  },
  "language_info": {
   "codemirror_mode": {
    "name": "ipython",
    "version": 3
   },
   "file_extension": ".py",
   "mimetype": "text/x-python",
   "name": "python",
   "nbconvert_exporter": "python",
   "pygments_lexer": "ipython3",
   "version": "3.10.6"
  }
 },
 "nbformat": 4,
 "nbformat_minor": 1
}
